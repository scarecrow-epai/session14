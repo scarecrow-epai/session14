{
 "cells": [
  {
   "cell_type": "code",
   "execution_count": 3,
   "metadata": {
    "cell_id": "00000-a6f14d13-0487-4a68-bb2b-8bd7dfd12317",
    "execution_millis": 1,
    "execution_start": 1604735177143,
    "output_cleared": false,
    "source_hash": "7ce47671",
    "tags": []
   },
   "outputs": [],
   "source": [
    "import math\n",
    "class Factorials:\n",
    "    def __init__(self, length):\n",
    "        self.length = length\n",
    "    \n",
    "    def __iter__(self):\n",
    "        return self.FactIter(self.length)\n",
    "    \n",
    "    class FactIter:\n",
    "        def __init__(self, length):\n",
    "            self.length = length\n",
    "            self.i = 0\n",
    "            \n",
    "        def __iter__(self):\n",
    "            return self\n",
    "        \n",
    "        def __next__(self):\n",
    "            if self.i >= self.length:\n",
    "                raise StopIteration\n",
    "            else:\n",
    "                result = math.factorial(self.i)\n",
    "                self.i += 1\n",
    "                return result\n",
    "            "
   ]
  },
  {
   "cell_type": "code",
   "execution_count": 4,
   "metadata": {
    "cell_id": "00001-c34d7906-3692-4251-bc0f-9ee2dd2f3d1d",
    "execution_millis": 6,
    "execution_start": 1604735178193,
    "output_cleared": false,
    "source_hash": "10a27e2f",
    "tags": []
   },
   "outputs": [
    {
     "data": {
      "text/plain": [
       "[1, 1, 2, 6, 24]"
      ]
     },
     "execution_count": 4,
     "metadata": {},
     "output_type": "execute_result"
    }
   ],
   "source": [
    "facts = Factorials(5)\n",
    "list(facts)"
   ]
  },
  {
   "cell_type": "code",
   "execution_count": 5,
   "metadata": {
    "cell_id": "00002-e0c1cd4c-37ab-4d1b-8a30-a98c0b0e9f43",
    "execution_millis": 41,
    "execution_start": 1604735205995,
    "output_cleared": false,
    "source_hash": "6024797b",
    "tags": []
   },
   "outputs": [],
   "source": [
    "class Factorials:\n",
    "    def __iter__(self):\n",
    "        return self.FactIter()\n",
    "    \n",
    "    class FactIter:\n",
    "        def __init__(self):\n",
    "            self.i = 0\n",
    "            \n",
    "        def __iter__(self):\n",
    "            return self\n",
    "        \n",
    "        def __next__(self):\n",
    "            result = math.factorial(self.i)\n",
    "            self.i += 1\n",
    "            return result"
   ]
  },
  {
   "cell_type": "code",
   "execution_count": 6,
   "metadata": {
    "cell_id": "00003-f4d1f74b-d48d-4c7d-8bc2-cd4ed74f9e76",
    "execution_millis": 1,
    "execution_start": 1604735215568,
    "output_cleared": false,
    "source_hash": "931d61cd",
    "tags": []
   },
   "outputs": [
    {
     "name": "stdout",
     "output_type": "stream",
     "text": [
      "1\n",
      "1\n",
      "2\n",
      "6\n",
      "24\n",
      "120\n",
      "720\n",
      "5040\n",
      "40320\n",
      "362880\n"
     ]
    }
   ],
   "source": [
    "factorials = Factorials()\n",
    "fact_iter = iter(factorials)\n",
    "\n",
    "for _ in range(10):\n",
    "    print(next(fact_iter))"
   ]
  },
  {
   "cell_type": "markdown",
   "metadata": {
    "cell_id": "00004-e1f96d43-0237-46cf-8d5b-b923a9c6d1a9",
    "tags": []
   },
   "source": [
    "### Python's Built-In Iterables and Iterators"
   ]
  },
  {
   "cell_type": "code",
   "execution_count": 7,
   "metadata": {
    "cell_id": "00004-f2d6ceb4-e037-43c6-ba2c-b2fce25c3362",
    "execution_millis": 0,
    "execution_start": 1604735337894,
    "output_cleared": false,
    "source_hash": "50e374ba",
    "tags": []
   },
   "outputs": [],
   "source": [
    "r_10 = range(10)"
   ]
  },
  {
   "cell_type": "markdown",
   "metadata": {
    "cell_id": "00006-6ab2b159-96e7-4dd5-b042-f3d1236d2b97",
    "tags": []
   },
   "source": [
    "Now, `r_10` is an **iterable**:"
   ]
  },
  {
   "cell_type": "code",
   "execution_count": 8,
   "metadata": {
    "cell_id": "00006-b6a90766-ffa4-4163-b772-35c2096a02fb",
    "execution_millis": 2,
    "execution_start": 1604735351255,
    "output_cleared": false,
    "source_hash": "7d5a032c",
    "tags": []
   },
   "outputs": [
    {
     "data": {
      "text/plain": [
       "True"
      ]
     },
     "execution_count": 8,
     "metadata": {},
     "output_type": "execute_result"
    }
   ],
   "source": [
    "'__iter__' in dir(r_10)"
   ]
  },
  {
   "cell_type": "markdown",
   "metadata": {
    "cell_id": "00008-e9559b3e-ac32-4cf1-9d15-f90c56776a99",
    "tags": []
   },
   "source": [
    "But it is not an **iterator**:"
   ]
  },
  {
   "cell_type": "code",
   "execution_count": 9,
   "metadata": {
    "cell_id": "00007-70bfad1b-0055-41c4-bbcb-d147c9777c12",
    "execution_millis": 40,
    "execution_start": 1604735381040,
    "output_cleared": false,
    "source_hash": "529c2c99",
    "tags": []
   },
   "outputs": [
    {
     "data": {
      "text/plain": [
       "False"
      ]
     },
     "execution_count": 9,
     "metadata": {},
     "output_type": "execute_result"
    }
   ],
   "source": [
    "'__next__' in dir(r_10)"
   ]
  },
  {
   "cell_type": "code",
   "execution_count": 10,
   "metadata": {
    "cell_id": "00010-1c57132d-d0b4-4f04-b76b-50362616c28a",
    "execution_millis": 1,
    "execution_start": 1604735434599,
    "output_cleared": false,
    "source_hash": "349854ad",
    "tags": []
   },
   "outputs": [],
   "source": [
    "r_10_iter = iter(r_10)"
   ]
  },
  {
   "cell_type": "code",
   "execution_count": 11,
   "metadata": {
    "cell_id": "00011-4eed44c3-c9cc-40a5-9137-0ae917833994",
    "execution_millis": 6,
    "execution_start": 1604735439086,
    "output_cleared": false,
    "source_hash": "db5bbbde",
    "tags": []
   },
   "outputs": [
    {
     "data": {
      "text/plain": [
       "True"
      ]
     },
     "execution_count": 11,
     "metadata": {},
     "output_type": "execute_result"
    }
   ],
   "source": [
    "'__iter__' in dir(r_10_iter)"
   ]
  },
  {
   "cell_type": "code",
   "execution_count": 12,
   "metadata": {
    "cell_id": "00012-a85336a8-3b8b-4dca-b194-a4abf9d9eec9",
    "execution_millis": 3,
    "execution_start": 1604735443960,
    "output_cleared": false,
    "source_hash": "819dea03",
    "tags": []
   },
   "outputs": [
    {
     "data": {
      "text/plain": [
       "True"
      ]
     },
     "execution_count": 12,
     "metadata": {},
     "output_type": "execute_result"
    }
   ],
   "source": [
    "'__next__' in dir(r_10_iter)"
   ]
  },
  {
   "cell_type": "markdown",
   "metadata": {
    "cell_id": "00013-bd33ea19-0926-4ee3-a36b-70fcd6d4c7dc",
    "tags": []
   },
   "source": [
    "Most built-in iterables in Python use lazy evaluation (including the `range`) function - i.e. when we execute `range(10)` Python does no pre-compute a \"list\" of all the elements in the range. Instead it uses lazy evluation and the iterator computes and returns elements one at a time.\n",
    "\n",
    "This is why when we print a range object we do not actually see the contents of the range - they don't exist yet!\n",
    "\n",
    "Instead, we need to iterate through the iterator and put it into something like a list:"
   ]
  },
  {
   "cell_type": "code",
   "execution_count": 13,
   "metadata": {
    "cell_id": "00013-884fd14e-1fd3-489e-89e0-296e4608688d",
    "execution_millis": 1,
    "execution_start": 1604735492493,
    "output_cleared": false,
    "source_hash": "e3b0418c",
    "tags": []
   },
   "outputs": [
    {
     "data": {
      "text/plain": [
       "[0, 1, 2, 3, 4, 5, 6, 7, 8, 9]"
      ]
     },
     "execution_count": 13,
     "metadata": {},
     "output_type": "execute_result"
    }
   ],
   "source": [
    "[num for num in range(10)]"
   ]
  },
  {
   "cell_type": "code",
   "execution_count": 14,
   "metadata": {
    "cell_id": "00015-d5058838-4ac5-4836-9d62-54a7f2df19e6",
    "execution_millis": 1,
    "execution_start": 1604735501622,
    "output_cleared": false,
    "source_hash": "224c402",
    "tags": []
   },
   "outputs": [],
   "source": [
    "z = zip([1, 2, 3], 'abc')"
   ]
  },
  {
   "cell_type": "code",
   "execution_count": 15,
   "metadata": {
    "cell_id": "00016-358e2da5-a107-4de7-9b4e-e6b41f277d9f",
    "execution_millis": 1,
    "execution_start": 1604735507502,
    "output_cleared": false,
    "source_hash": "860ac4bd",
    "tags": []
   },
   "outputs": [
    {
     "data": {
      "text/plain": [
       "<zip at 0x7f6f176c70a0>"
      ]
     },
     "execution_count": 15,
     "metadata": {},
     "output_type": "execute_result"
    }
   ],
   "source": [
    "z"
   ]
  },
  {
   "cell_type": "code",
   "execution_count": 16,
   "metadata": {
    "cell_id": "00017-46196194-a45d-442a-ab6c-328358061764",
    "execution_millis": 1,
    "execution_start": 1604735517763,
    "output_cleared": false,
    "source_hash": "25a3bfca",
    "tags": []
   },
   "outputs": [
    {
     "name": "stdout",
     "output_type": "stream",
     "text": [
      "True\n",
      "True\n"
     ]
    }
   ],
   "source": [
    "print('__iter__' in dir(z))\n",
    "print('__next__' in dir(z))"
   ]
  },
  {
   "cell_type": "code",
   "execution_count": 17,
   "metadata": {
    "cell_id": "00018-d6d04668-6196-4f3b-943e-82357b2c9e56",
    "execution_millis": 3,
    "execution_start": 1604735535804,
    "output_cleared": false,
    "source_hash": "3a786724",
    "tags": []
   },
   "outputs": [
    {
     "data": {
      "text/plain": [
       "[(1, 'a'), (2, 'b'), (3, 'c')]"
      ]
     },
     "execution_count": 17,
     "metadata": {},
     "output_type": "execute_result"
    }
   ],
   "source": [
    "list(z)"
   ]
  },
  {
   "cell_type": "code",
   "execution_count": 18,
   "metadata": {
    "cell_id": "00019-f3f38a9a-9c1c-436f-9097-fd4438969902",
    "execution_millis": 1,
    "execution_start": 1604735556076,
    "output_cleared": false,
    "source_hash": "41a0135f",
    "tags": []
   },
   "outputs": [
    {
     "name": "stdout",
     "output_type": "stream",
     "text": [
      "<class '_io.TextIOWrapper'>\n",
      "True\n",
      "True\n"
     ]
    }
   ],
   "source": [
    "with open('cars.csv') as f:\n",
    "    print(type(f))\n",
    "    print('__iter__' in dir(f))\n",
    "    print('__next__' in dir(f))"
   ]
  },
  {
   "cell_type": "markdown",
   "metadata": {
    "cell_id": "00020-e967eaec-6ef9-4a6d-837c-5c75e8d7cb88",
    "tags": []
   },
   "source": [
    "As you can see, the `open()` function returns an **iterator** (of type `TextIOWrapper`), and we can read lines from the file one by one using the `next()` function, or calling the `__next__()` method. The class also implements a `readline()` method we can use to get the next row:"
   ]
  },
  {
   "cell_type": "code",
   "execution_count": 19,
   "metadata": {
    "cell_id": "00020-a243d2c7-8c9d-4f28-a04d-5071d949c1a3",
    "execution_millis": 3,
    "execution_start": 1604735593244,
    "output_cleared": false,
    "source_hash": "4fef4cbd",
    "tags": []
   },
   "outputs": [
    {
     "name": "stdout",
     "output_type": "stream",
     "text": [
      "Car;MPG;Cylinders;Displacement;Horsepower;Weight;Acceleration;Model;Origin\n",
      "\n",
      "STRING;DOUBLE;INT;DOUBLE;DOUBLE;DOUBLE;DOUBLE;INT;CAT\n",
      "\n",
      "Chevrolet Chevelle Malibu;18.0;8;307.0;130.0;3504.;12.0;70;US\n",
      "\n"
     ]
    }
   ],
   "source": [
    "with open('cars.csv') as f:\n",
    "    print(next(f))\n",
    "    print(f.__next__())\n",
    "    print(f.readline())"
   ]
  },
  {
   "cell_type": "code",
   "execution_count": 20,
   "metadata": {
    "cell_id": "00022-f0e30d1f-4c22-40f8-badc-14b050eb7163",
    "execution_millis": 36,
    "execution_start": 1604735626414,
    "output_cleared": false,
    "source_hash": "102195eb",
    "tags": []
   },
   "outputs": [
    {
     "name": "stdout",
     "output_type": "stream",
     "text": [
      "Car;MPG;Cylinders;Displacement;Horsepower;Weight;Acceleration;Model;Origin\n",
      "STRING;DOUBLE;INT;DOUBLE;DOUBLE;DOUBLE;DOUBLE;INT;CAT\n",
      "Chevrolet Chevelle Malibu;18.0;8;307.0;130.0;3504.;12.0;70;US\n",
      "Buick Skylark 320;15.0;8;350.0;165.0;3693.;11.5;70;US\n",
      "Plymouth Satellite;18.0;8;318.0;150.0;3436.;11.0;70;US\n",
      "AMC Rebel SST;16.0;8;304.0;150.0;3433.;12.0;70;US\n",
      "Ford Torino;17.0;8;302.0;140.0;3449.;10.5;70;US\n",
      "Ford Galaxie 500;15.0;8;429.0;198.0;4341.;10.0;70;US\n",
      "Chevrolet Impala;14.0;8;454.0;220.0;4354.;9.0;70;US\n",
      "Plymouth Fury iii;14.0;8;440.0;215.0;4312.;8.5;70;US\n",
      "Pontiac Catalina;14.0;8;455.0;225.0;4425.;10.0;70;US\n",
      "AMC Ambassador DPL;15.0;8;390.0;190.0;3850.;8.5;70;US\n",
      "Citroen DS-21 Pallas;0;4;133.0;115.0;3090.;17.5;70;Europe\n",
      "Chevrolet Chevelle Concours (sw);0;8;350.0;165.0;4142.;11.5;70;US\n",
      "Ford Torino (sw);0;8;351.0;153.0;4034.;11.0;70;US\n",
      "Plymouth Satellite (sw);0;8;383.0;175.0;4166.;10.5;70;US\n",
      "AMC Rebel SST (sw);0;8;360.0;175.0;3850.;11.0;70;US\n",
      "Dodge Challenger SE;15.0;8;383.0;170.0;3563.;10.0;70;US\n",
      "Plymouth 'Cuda 340;14.0;8;340.0;160.0;3609.;8.0;70;US\n",
      "Ford Mustang Boss 302;0;8;302.0;140.0;3353.;8.0;70;US\n",
      "Chevrolet Monte Carlo;15.0;8;400.0;150.0;3761.;9.5;70;US\n",
      "Buick Estate Wagon (sw);14.0;8;455.0;225.0;3086.;10.0;70;US\n",
      "Toyota Corolla Mark ii;24.0;4;113.0;95.00;2372.;15.0;70;Japan\n",
      "Plymouth Duster;22.0;6;198.0;95.00;2833.;15.5;70;US\n",
      "AMC Hornet;18.0;6;199.0;97.00;2774.;15.5;70;US\n",
      "Ford Maverick;21.0;6;200.0;85.00;2587.;16.0;70;US\n",
      "Datsun PL510;27.0;4;97.00;88.00;2130.;14.5;70;Japan\n",
      "Volkswagen 1131 Deluxe Sedan;26.0;4;97.00;46.00;1835.;20.5;70;Europe\n",
      "Peugeot 504;25.0;4;110.0;87.00;2672.;17.5;70;Europe\n",
      "Audi 100 LS;24.0;4;107.0;90.00;2430.;14.5;70;Europe\n",
      "Saab 99e;25.0;4;104.0;95.00;2375.;17.5;70;Europe\n",
      "BMW 2002;26.0;4;121.0;113.0;2234.;12.5;70;Europe\n",
      "AMC Gremlin;21.0;6;199.0;90.00;2648.;15.0;70;US\n",
      "Ford F250;10.0;8;360.0;215.0;4615.;14.0;70;US\n",
      "Chevy C20;10.0;8;307.0;200.0;4376.;15.0;70;US\n",
      "Dodge D200;11.0;8;318.0;210.0;4382.;13.5;70;US\n",
      "Hi 1200D;9.0;8;304.0;193.0;4732.;18.5;70;US\n",
      "Datsun PL510;27.0;4;97.00;88.00;2130.;14.5;71;Japan\n",
      "Chevrolet Vega 2300;28.0;4;140.0;90.00;2264.;15.5;71;US\n",
      "Toyota Corolla;25.0;4;113.0;95.00;2228.;14.0;71;Japan\n",
      "Ford Pinto;25.0;4;98.00;0;2046.;19.0;71;US\n",
      "Volkswagen Super Beetle 117;0;4;97.00;48.00;1978.;20.0;71;Europe\n",
      "AMC Gremlin;19.0;6;232.0;100.0;2634.;13.0;71;US\n",
      "Plymouth Satellite Custom;16.0;6;225.0;105.0;3439.;15.5;71;US\n",
      "Chevrolet Chevelle Malibu;17.0;6;250.0;100.0;3329.;15.5;71;US\n",
      "Ford Torino 500;19.0;6;250.0;88.00;3302.;15.5;71;US\n",
      "AMC Matador;18.0;6;232.0;100.0;3288.;15.5;71;US\n",
      "Chevrolet Impala;14.0;8;350.0;165.0;4209.;12.0;71;US\n",
      "Pontiac Catalina Brougham;14.0;8;400.0;175.0;4464.;11.5;71;US\n",
      "Ford Galaxie 500;14.0;8;351.0;153.0;4154.;13.5;71;US\n",
      "Plymouth Fury iii;14.0;8;318.0;150.0;4096.;13.0;71;US\n",
      "Dodge Monaco (sw);12.0;8;383.0;180.0;4955.;11.5;71;US\n",
      "Ford Country Squire (sw);13.0;8;400.0;170.0;4746.;12.0;71;US\n",
      "Pontiac Safari (sw);13.0;8;400.0;175.0;5140.;12.0;71;US\n",
      "AMC Hornet Sportabout (sw);18.0;6;258.0;110.0;2962.;13.5;71;US\n",
      "Chevrolet Vega (sw);22.0;4;140.0;72.00;2408.;19.0;71;US\n",
      "Pontiac Firebird;19.0;6;250.0;100.0;3282.;15.0;71;US\n",
      "Ford Mustang;18.0;6;250.0;88.00;3139.;14.5;71;US\n",
      "Mercury Capri 2000;23.0;4;122.0;86.00;2220.;14.0;71;US\n",
      "Opel 1900;28.0;4;116.0;90.00;2123.;14.0;71;Europe\n",
      "Peugeot 304;30.0;4;79.00;70.00;2074.;19.5;71;Europe\n",
      "Fiat 124B;30.0;4;88.00;76.00;2065.;14.5;71;Europe\n",
      "Toyota Corolla 1200;31.0;4;71.00;65.00;1773.;19.0;71;Japan\n",
      "Datsun 1200;35.0;4;72.00;69.00;1613.;18.0;71;Japan\n",
      "Volkswagen Model 111;27.0;4;97.00;60.00;1834.;19.0;71;Europe\n",
      "Plymouth Cricket;26.0;4;91.00;70.00;1955.;20.5;71;US\n",
      "Toyota Corolla Hardtop;24.0;4;113.0;95.00;2278.;15.5;72;Japan\n",
      "Dodge Colt Hardtop;25.0;4;97.50;80.00;2126.;17.0;72;US\n",
      "Volkswagen Type 3;23.0;4;97.00;54.00;2254.;23.5;72;Europe\n",
      "Chevrolet Vega;20.0;4;140.0;90.00;2408.;19.5;72;US\n",
      "Ford Pinto Runabout;21.0;4;122.0;86.00;2226.;16.5;72;US\n",
      "Chevrolet Impala;13.0;8;350.0;165.0;4274.;12.0;72;US\n",
      "Pontiac Catalina;14.0;8;400.0;175.0;4385.;12.0;72;US\n",
      "Plymouth Fury III;15.0;8;318.0;150.0;4135.;13.5;72;US\n",
      "Ford Galaxie 500;14.0;8;351.0;153.0;4129.;13.0;72;US\n",
      "AMC Ambassador SST;17.0;8;304.0;150.0;3672.;11.5;72;US\n",
      "Mercury Marquis;11.0;8;429.0;208.0;4633.;11.0;72;US\n",
      "Buick LeSabre Custom;13.0;8;350.0;155.0;4502.;13.5;72;US\n",
      "Oldsmobile Delta 88 Royale;12.0;8;350.0;160.0;4456.;13.5;72;US\n",
      "Chrysler Newport Royal;13.0;8;400.0;190.0;4422.;12.5;72;US\n",
      "Mazda RX2 Coupe;19.0;3;70.00;97.00;2330.;13.5;72;Japan\n",
      "AMC Matador (sw);15.0;8;304.0;150.0;3892.;12.5;72;US\n",
      "Chevrolet Chevelle Concours (sw);13.0;8;307.0;130.0;4098.;14.0;72;US\n",
      "Ford Gran Torino (sw);13.0;8;302.0;140.0;4294.;16.0;72;US\n",
      "Plymouth Satellite Custom (sw);14.0;8;318.0;150.0;4077.;14.0;72;US\n",
      "Volvo 145e (sw);18.0;4;121.0;112.0;2933.;14.5;72;Europe\n",
      "Volkswagen 411 (sw);22.0;4;121.0;76.00;2511.;18.0;72;Europe\n",
      "Peugeot 504 (sw);21.0;4;120.0;87.00;2979.;19.5;72;Europe\n",
      "Renault 12 (sw);26.0;4;96.00;69.00;2189.;18.0;72;Europe\n",
      "Ford Pinto (sw);22.0;4;122.0;86.00;2395.;16.0;72;US\n",
      "Datsun 510 (sw);28.0;4;97.00;92.00;2288.;17.0;72;Japan\n",
      "Toyota Corolla Mark II (sw);23.0;4;120.0;97.00;2506.;14.5;72;Japan\n",
      "Dodge Colt (sw);28.0;4;98.00;80.00;2164.;15.0;72;US\n",
      "Toyota Corolla 1600 (sw);27.0;4;97.00;88.00;2100.;16.5;72;Japan\n",
      "Buick Century 350;13.0;8;350.0;175.0;4100.;13.0;73;US\n",
      "AMC Matador;14.0;8;304.0;150.0;3672.;11.5;73;US\n",
      "Chevrolet Malibu;13.0;8;350.0;145.0;3988.;13.0;73;US\n",
      "Ford Gran Torino;14.0;8;302.0;137.0;4042.;14.5;73;US\n",
      "Dodge Coronet Custom;15.0;8;318.0;150.0;3777.;12.5;73;US\n",
      "Mercury Marquis Brougham;12.0;8;429.0;198.0;4952.;11.5;73;US\n",
      "Chevrolet Caprice Classic;13.0;8;400.0;150.0;4464.;12.0;73;US\n",
      "Ford LTD;13.0;8;351.0;158.0;4363.;13.0;73;US\n",
      "Plymouth Fury Gran Sedan;14.0;8;318.0;150.0;4237.;14.5;73;US\n",
      "Chrysler New Yorker Brougham;13.0;8;440.0;215.0;4735.;11.0;73;US\n",
      "Buick Electra 225 Custom;12.0;8;455.0;225.0;4951.;11.0;73;US\n",
      "AMC Ambassador Brougham;13.0;8;360.0;175.0;3821.;11.0;73;US\n",
      "Plymouth Valiant;18.0;6;225.0;105.0;3121.;16.5;73;US\n",
      "Chevrolet Nova Custom;16.0;6;250.0;100.0;3278.;18.0;73;US\n",
      "AMC Hornet;18.0;6;232.0;100.0;2945.;16.0;73;US\n",
      "Ford Maverick;18.0;6;250.0;88.00;3021.;16.5;73;US\n",
      "Plymouth Duster;23.0;6;198.0;95.00;2904.;16.0;73;US\n",
      "Volkswagen Super Beetle;26.0;4;97.00;46.00;1950.;21.0;73;Europe\n",
      "Chevrolet Impala;11.0;8;400.0;150.0;4997.;14.0;73;US\n",
      "Ford Country;12.0;8;400.0;167.0;4906.;12.5;73;US\n",
      "Plymouth Custom Suburb;13.0;8;360.0;170.0;4654.;13.0;73;US\n",
      "Oldsmobile Vista Cruiser;12.0;8;350.0;180.0;4499.;12.5;73;US\n",
      "AMC Gremlin;18.0;6;232.0;100.0;2789.;15.0;73;US\n",
      "Toyota Camry;20.0;4;97.00;88.00;2279.;19.0;73;Japan\n",
      "Chevrolet Vega;21.0;4;140.0;72.00;2401.;19.5;73;US\n",
      "Datsun 610;22.0;4;108.0;94.00;2379.;16.5;73;Japan\n",
      "Mazda RX3;18.0;3;70.00;90.00;2124.;13.5;73;Japan\n",
      "Ford Pinto;19.0;4;122.0;85.00;2310.;18.5;73;US\n",
      "Mercury Capri v6;21.0;6;155.0;107.0;2472.;14.0;73;US\n",
      "Fiat 124 Sport Coupe;26.0;4;98.00;90.00;2265.;15.5;73;Europe\n",
      "Chevrolet Monte Carlo S;15.0;8;350.0;145.0;4082.;13.0;73;US\n",
      "Pontiac Grand Prix;16.0;8;400.0;230.0;4278.;9.50;73;US\n",
      "Fiat 128;29.0;4;68.00;49.00;1867.;19.5;73;Europe\n",
      "Opel Manta;24.0;4;116.0;75.00;2158.;15.5;73;Europe\n",
      "Audi 100LS;20.0;4;114.0;91.00;2582.;14.0;73;Europe\n",
      "Volvo 144ea;19.0;4;121.0;112.0;2868.;15.5;73;Europe\n",
      "Dodge Dart Custom;15.0;8;318.0;150.0;3399.;11.0;73;US\n",
      "Saab 99le;24.0;4;121.0;110.0;2660.;14.0;73;Europe\n",
      "Toyota Mark II;20.0;6;156.0;122.0;2807.;13.5;73;Japan\n",
      "Oldsmobile Omega;11.0;8;350.0;180.0;3664.;11.0;73;US\n",
      "Plymouth Duster;20.0;6;198.0;95.00;3102.;16.5;74;US\n",
      "Ford Maverick;21.0;6;200.0;0;2875.;17.0;74;US\n",
      "AMC Hornet;19.0;6;232.0;100.0;2901.;16.0;74;US\n",
      "Chevrolet Nova;15.0;6;250.0;100.0;3336.;17.0;74;US\n",
      "Datsun B210;31.0;4;79.00;67.00;1950.;19.0;74;Japan\n",
      "Ford Pinto;26.0;4;122.0;80.00;2451.;16.5;74;US\n",
      "Toyota Corolla 1200;32.0;4;71.00;65.00;1836.;21.0;74;Japan\n",
      "Chevrolet Vega;25.0;4;140.0;75.00;2542.;17.0;74;US\n",
      "Chevrolet Chevelle Malibu Classic;16.0;6;250.0;100.0;3781.;17.0;74;US\n",
      "AMC Matador;16.0;6;258.0;110.0;3632.;18.0;74;US\n",
      "Plymouth Satellite Sebring;18.0;6;225.0;105.0;3613.;16.5;74;US\n",
      "Ford Gran Torino;16.0;8;302.0;140.0;4141.;14.0;74;US\n",
      "Buick Century Luxus (sw);13.0;8;350.0;150.0;4699.;14.5;74;US\n",
      "Dodge Coronet Custom (sw);14.0;8;318.0;150.0;4457.;13.5;74;US\n",
      "Ford Gran Torino (sw);14.0;8;302.0;140.0;4638.;16.0;74;US\n",
      "AMC Matador (sw);14.0;8;304.0;150.0;4257.;15.5;74;US\n",
      "Audi Fox;29.0;4;98.00;83.00;2219.;16.5;74;Europe\n",
      "Volkswagen Dasher;26.0;4;79.00;67.00;1963.;15.5;74;Europe\n",
      "Opel Manta;26.0;4;97.00;78.00;2300.;14.5;74;Europe\n",
      "Toyota Corolla;31.0;4;76.00;52.00;1649.;16.5;74;Japan\n",
      "Datsun 710;32.0;4;83.00;61.00;2003.;19.0;74;Japan\n",
      "Dodge Colt;28.0;4;90.00;75.00;2125.;14.5;74;US\n",
      "Fiat 128;24.0;4;90.00;75.00;2108.;15.5;74;Europe\n",
      "Fiat 124 TC;26.0;4;116.0;75.00;2246.;14.0;74;Europe\n",
      "Honda Civic;24.0;4;120.0;97.00;2489.;15.0;74;Japan\n",
      "Subaru;26.0;4;108.0;93.00;2391.;15.5;74;Japan\n",
      "Fiat x1.9;31.0;4;79.00;67.00;2000.;16.0;74;Europe\n",
      "Plymouth Valiant Custom;19.0;6;225.0;95.00;3264.;16.0;75;US\n",
      "Chevrolet Nova;18.0;6;250.0;105.0;3459.;16.0;75;US\n",
      "Mercury Monarch;15.0;6;250.0;72.00;3432.;21.0;75;US\n",
      "Ford Maverick;15.0;6;250.0;72.00;3158.;19.5;75;US\n",
      "Pontiac Catalina;16.0;8;400.0;170.0;4668.;11.5;75;US\n",
      "Chevrolet Bel Air;15.0;8;350.0;145.0;4440.;14.0;75;US\n",
      "Plymouth Grand Fury;16.0;8;318.0;150.0;4498.;14.5;75;US\n",
      "Ford LTD;14.0;8;351.0;148.0;4657.;13.5;75;US\n",
      "Buick Century;17.0;6;231.0;110.0;3907.;21.0;75;US\n",
      "Chevrolete Chevelle Malibu;16.0;6;250.0;105.0;3897.;18.5;75;US\n",
      "AMC Matador;15.0;6;258.0;110.0;3730.;19.0;75;US\n",
      "Plymouth Fury;18.0;6;225.0;95.00;3785.;19.0;75;US\n",
      "Buick Skyhawk;21.0;6;231.0;110.0;3039.;15.0;75;US\n",
      "Chevrolet Monza 2+2;20.0;8;262.0;110.0;3221.;13.5;75;US\n",
      "Ford Mustang II;13.0;8;302.0;129.0;3169.;12.0;75;US\n",
      "Toyota Corolla;29.0;4;97.00;75.00;2171.;16.0;75;Japan\n",
      "Ford Pinto;23.0;4;140.0;83.00;2639.;17.0;75;US\n",
      "AMC Gremlin;20.0;6;232.0;100.0;2914.;16.0;75;US\n",
      "Pontiac Astro;23.0;4;140.0;78.00;2592.;18.5;75;US\n",
      "Toyota Corolla;24.0;4;134.0;96.00;2702.;13.5;75;Japan\n",
      "Volkswagen Dasher;25.0;4;90.00;71.00;2223.;16.5;75;Europe\n",
      "Datsun 710;24.0;4;119.0;97.00;2545.;17.0;75;Japan\n",
      "Ford Pinto;18.0;6;171.0;97.00;2984.;14.5;75;US\n",
      "Volkswagen Rabbit;29.0;4;90.00;70.00;1937.;14.0;75;Europe\n",
      "AMC Pacer;19.0;6;232.0;90.00;3211.;17.0;75;US\n",
      "Audi 100LS;23.0;4;115.0;95.00;2694.;15.0;75;Europe\n",
      "Peugeot 504;23.0;4;120.0;88.00;2957.;17.0;75;Europe\n",
      "Volvo 244DL;22.0;4;121.0;98.00;2945.;14.5;75;Europe\n",
      "Saab 99LE;25.0;4;121.0;115.0;2671.;13.5;75;Europe\n",
      "Honda Civic CVCC;33.0;4;91.00;53.00;1795.;17.5;75;Japan\n",
      "Fiat 131;28.0;4;107.0;86.00;2464.;15.5;76;Europe\n",
      "Opel 1900;25.0;4;116.0;81.00;2220.;16.9;76;Europe\n",
      "Capri ii;25.0;4;140.0;92.00;2572.;14.9;76;US\n",
      "Dodge Colt;26.0;4;98.00;79.00;2255.;17.7;76;US\n",
      "Renault 12tl;27.0;4;101.0;83.00;2202.;15.3;76;Europe\n",
      "Chevrolet Chevelle Malibu Classic;17.5;8;305.0;140.0;4215.;13.0;76;US\n",
      "Dodge Coronet Brougham;16.0;8;318.0;150.0;4190.;13.0;76;US\n",
      "AMC Matador;15.5;8;304.0;120.0;3962.;13.9;76;US\n",
      "Ford Gran Torino;14.5;8;351.0;152.0;4215.;12.8;76;US\n",
      "Plymouth Valiant;22.0;6;225.0;100.0;3233.;15.4;76;US\n",
      "Chevrolet Nova;22.0;6;250.0;105.0;3353.;14.5;76;US\n",
      "Ford Maverick;24.0;6;200.0;81.00;3012.;17.6;76;US\n",
      "AMC Hornet;22.5;6;232.0;90.00;3085.;17.6;76;US\n",
      "Chevrolet Chevette;29.0;4;85.00;52.00;2035.;22.2;76;US\n",
      "Chevrolet Woody;24.5;4;98.00;60.00;2164.;22.1;76;US\n",
      "Volkswagen Rabbit;29.0;4;90.00;70.00;1937.;14.2;76;Europe\n",
      "Honda Civic;33.0;4;91.00;53.00;1795.;17.4;76;Japan\n",
      "Dodge Aspen SE;20.0;6;225.0;100.0;3651.;17.7;76;US\n",
      "Ford Grenada ghia;18.0;6;250.0;78.00;3574.;21.0;76;US\n",
      "Pontiac Ventura SJ;18.5;6;250.0;110.0;3645.;16.2;76;US\n",
      "AMC Pacer d/l;17.5;6;258.0;95.00;3193.;17.8;76;US\n",
      "Volkswagen Rabbit;29.5;4;97.00;71.00;1825.;12.2;76;Europe\n",
      "Datsun B-210;32.0;4;85.00;70.00;1990.;17.0;76;Japan\n",
      "Toyota Corolla;28.0;4;97.00;75.00;2155.;16.4;76;Japan\n",
      "Ford Pinto;26.5;4;140.0;72.00;2565.;13.6;76;US\n",
      "Volvo 245;20.0;4;130.0;102.0;3150.;15.7;76;Europe\n",
      "Plymouth Volare Premier v8;13.0;8;318.0;150.0;3940.;13.2;76;US\n",
      "Peugeot 504;19.0;4;120.0;88.00;3270.;21.9;76;Europe\n",
      "Toyota Mark II;19.0;6;156.0;108.0;2930.;15.5;76;Japan\n",
      "Mercedes-Benz 280s;16.5;6;168.0;120.0;3820.;16.7;76;Europe\n",
      "Cadillac Seville;16.5;8;350.0;180.0;4380.;12.1;76;US\n",
      "Chevrolet C10;13.0;8;350.0;145.0;4055.;12.0;76;US\n",
      "Ford F108;13.0;8;302.0;130.0;3870.;15.0;76;US\n",
      "Dodge D100;13.0;8;318.0;150.0;3755.;14.0;76;US\n",
      "Honda Accord CVCC;31.5;4;98.00;68.00;2045.;18.5;77;Japan\n",
      "Buick Opel Isuzu Deluxe;30.0;4;111.0;80.00;2155.;14.8;77;US\n",
      "Renault 5 GTL;36.0;4;79.00;58.00;1825.;18.6;77;Europe\n",
      "Plymouth Arrow GS;25.5;4;122.0;96.00;2300.;15.5;77;US\n",
      "Datsun F-10 Hatchback;33.5;4;85.00;70.00;1945.;16.8;77;Japan\n",
      "Chevrolet Caprice Classic;17.5;8;305.0;145.0;3880.;12.5;77;US\n",
      "Oldsmobile Cutlass Supreme;17.0;8;260.0;110.0;4060.;19.0;77;US\n",
      "Dodge Monaco Brougham;15.5;8;318.0;145.0;4140.;13.7;77;US\n",
      "Mercury Cougar Brougham;15.0;8;302.0;130.0;4295.;14.9;77;US\n",
      "Chevrolet Concours;17.5;6;250.0;110.0;3520.;16.4;77;US\n",
      "Buick Skylark;20.5;6;231.0;105.0;3425.;16.9;77;US\n",
      "Plymouth Volare Custom;19.0;6;225.0;100.0;3630.;17.7;77;US\n",
      "Ford Grenada;18.5;6;250.0;98.00;3525.;19.0;77;US\n",
      "Pontiac Grand Prix LJ;16.0;8;400.0;180.0;4220.;11.1;77;US\n",
      "Chevrolet Monte Carlo Landau;15.5;8;350.0;170.0;4165.;11.4;77;US\n",
      "Chrysler Cordoba;15.5;8;400.0;190.0;4325.;12.2;77;US\n",
      "Ford Thunderbird;16.0;8;351.0;149.0;4335.;14.5;77;US\n",
      "Volkswagen Rabbit Custom;29.0;4;97.00;78.00;1940.;14.5;77;Europe\n",
      "Pontiac Sunbird Coupe;24.5;4;151.0;88.00;2740.;16.0;77;US\n",
      "Toyota Corolla Liftback;26.0;4;97.00;75.00;2265.;18.2;77;Japan\n",
      "Ford Mustang II 2+2;25.5;4;140.0;89.00;2755.;15.8;77;US\n",
      "Chevrolet Chevette;30.5;4;98.00;63.00;2051.;17.0;77;US\n",
      "Dodge Colt m/m;33.5;4;98.00;83.00;2075.;15.9;77;US\n",
      "Subaru DL;30.0;4;97.00;67.00;1985.;16.4;77;Japan\n",
      "Volkswagen Dasher;30.5;4;97.00;78.00;2190.;14.1;77;Europe\n",
      "Datsun 810;22.0;6;146.0;97.00;2815.;14.5;77;Japan\n",
      "BMW 320i;21.5;4;121.0;110.0;2600.;12.8;77;Europe\n",
      "Mazda RX-4;21.5;3;80.00;110.0;2720.;13.5;77;Japan\n",
      "Volkswagen Rabbit Custom Diesel;43.1;4;90.00;48.00;1985.;21.5;78;Europe\n",
      "Ford Fiesta;36.1;4;98.00;66.00;1800.;14.4;78;US\n",
      "Mazda GLC Deluxe;32.8;4;78.00;52.00;1985.;19.4;78;Japan\n",
      "Datsun B210 GX;39.4;4;85.00;70.00;2070.;18.6;78;Japan\n",
      "Honda Civic CVCC;36.1;4;91.00;60.00;1800.;16.4;78;Japan\n",
      "Oldsmobile Cutlass Salon Brougham;19.9;8;260.0;110.0;3365.;15.5;78;US\n",
      "Dodge Diplomat;19.4;8;318.0;140.0;3735.;13.2;78;US\n",
      "Mercury Monarch ghia;20.2;8;302.0;139.0;3570.;12.8;78;US\n",
      "Pontiac Phoenix LJ;19.2;6;231.0;105.0;3535.;19.2;78;US\n",
      "Chevrolet Malibu;20.5;6;200.0;95.00;3155.;18.2;78;US\n",
      "Ford Fairmont (auto);20.2;6;200.0;85.00;2965.;15.8;78;US\n",
      "Ford Fairmont (man);25.1;4;140.0;88.00;2720.;15.4;78;US\n",
      "Plymouth Volare;20.5;6;225.0;100.0;3430.;17.2;78;US\n",
      "AMC Concord;19.4;6;232.0;90.00;3210.;17.2;78;US\n",
      "Buick Century Special;20.6;6;231.0;105.0;3380.;15.8;78;US\n",
      "Mercury Zephyr;20.8;6;200.0;85.00;3070.;16.7;78;US\n",
      "Dodge Aspen;18.6;6;225.0;110.0;3620.;18.7;78;US\n",
      "AMC Concord d/l;18.1;6;258.0;120.0;3410.;15.1;78;US\n",
      "Chevrolet Monte Carlo Landau;19.2;8;305.0;145.0;3425.;13.2;78;US\n",
      "Buick Regal Sport Coupe (turbo);17.7;6;231.0;165.0;3445.;13.4;78;US\n",
      "Ford Futura;18.1;8;302.0;139.0;3205.;11.2;78;US\n",
      "Dodge Magnum XE;17.5;8;318.0;140.0;4080.;13.7;78;US\n",
      "Chevrolet Chevette;30.0;4;98.00;68.00;2155.;16.5;78;US\n",
      "Toyota Corolla;27.5;4;134.0;95.00;2560.;14.2;78;Japan\n",
      "Datsun 510;27.2;4;119.0;97.00;2300.;14.7;78;Japan\n",
      "Dodge Omni;30.9;4;105.0;75.00;2230.;14.5;78;US\n",
      "Toyota Celica GT Liftback;21.1;4;134.0;95.00;2515.;14.8;78;Japan\n",
      "Plymouth Sapporo;23.2;4;156.0;105.0;2745.;16.7;78;US\n",
      "Oldsmobile Starfire SX;23.8;4;151.0;85.00;2855.;17.6;78;US\n",
      "Datsun 200-SX;23.9;4;119.0;97.00;2405.;14.9;78;Japan\n",
      "Audi 5000;20.3;5;131.0;103.0;2830.;15.9;78;Europe\n",
      "Volvo 264gl;17.0;6;163.0;125.0;3140.;13.6;78;Europe\n",
      "Saab 99gle;21.6;4;121.0;115.0;2795.;15.7;78;Europe\n",
      "Peugeot 604sl;16.2;6;163.0;133.0;3410.;15.8;78;Europe\n",
      "Volkswagen Scirocco;31.5;4;89.00;71.00;1990.;14.9;78;Europe\n",
      "Honda Accord LX;29.5;4;98.00;68.00;2135.;16.6;78;Japan\n",
      "Pontiac Lemans V6;21.5;6;231.0;115.0;3245.;15.4;79;US\n",
      "Mercury Zephyr 6;19.8;6;200.0;85.00;2990.;18.2;79;US\n",
      "Ford Fairmont 4;22.3;4;140.0;88.00;2890.;17.3;79;US\n",
      "AMC Concord DL 6;20.2;6;232.0;90.00;3265.;18.2;79;US\n",
      "Dodge Aspen 6;20.6;6;225.0;110.0;3360.;16.6;79;US\n",
      "Chevrolet Caprice Classic;17.0;8;305.0;130.0;3840.;15.4;79;US\n",
      "Ford LTD Landau;17.6;8;302.0;129.0;3725.;13.4;79;US\n",
      "Mercury Grand Marquis;16.5;8;351.0;138.0;3955.;13.2;79;US\n",
      "Dodge St. Regis;18.2;8;318.0;135.0;3830.;15.2;79;US\n",
      "Buick Estate Wagon (sw);16.9;8;350.0;155.0;4360.;14.9;79;US\n",
      "Ford Country Squire (sw);15.5;8;351.0;142.0;4054.;14.3;79;US\n",
      "Chevrolet Malibu Classic (sw);19.2;8;267.0;125.0;3605.;15.0;79;US\n",
      "Chrysler Lebaron Town @ Country (sw);18.5;8;360.0;150.0;3940.;13.0;79;US\n",
      "Volkswagen Rabbit Custom;31.9;4;89.00;71.00;1925.;14.0;79;Europe\n",
      "Mazda GLC Deluxe;34.1;4;86.00;65.00;1975.;15.2;79;Japan\n",
      "Dodge Colt Hatchback Custom;35.7;4;98.00;80.00;1915.;14.4;79;US\n",
      "AMC Spirit DL;27.4;4;121.0;80.00;2670.;15.0;79;US\n",
      "Mercedes Benz 300d;25.4;5;183.0;77.00;3530.;20.1;79;Europe\n",
      "Cadillac Eldorado;23.0;8;350.0;125.0;3900.;17.4;79;US\n",
      "Peugeot 504;27.2;4;141.0;71.00;3190.;24.8;79;Europe\n",
      "Oldsmobile Cutlass Salon Brougham;23.9;8;260.0;90.00;3420.;22.2;79;US\n",
      "Plymouth Horizon;34.2;4;105.0;70.00;2200.;13.2;79;US\n",
      "Plymouth Horizon TC3;34.5;4;105.0;70.00;2150.;14.9;79;US\n",
      "Datsun 210;31.8;4;85.00;65.00;2020.;19.2;79;Japan\n",
      "Fiat Strada Custom;37.3;4;91.00;69.00;2130.;14.7;79;Europe\n",
      "Buick Skylark Limited;28.4;4;151.0;90.00;2670.;16.0;79;US\n",
      "Chevrolet Citation;28.8;6;173.0;115.0;2595.;11.3;79;US\n",
      "Oldsmobile Omega Brougham;26.8;6;173.0;115.0;2700.;12.9;79;US\n",
      "Pontiac Phoenix;33.5;4;151.0;90.00;2556.;13.2;79;US\n",
      "Volkswagen Rabbit;41.5;4;98.00;76.00;2144.;14.7;80;Europe\n",
      "Toyota Corolla Tercel;38.1;4;89.00;60.00;1968.;18.8;80;Japan\n",
      "Chevrolet Chevette;32.1;4;98.00;70.00;2120.;15.5;80;US\n",
      "Datsun 310;37.2;4;86.00;65.00;2019.;16.4;80;Japan\n",
      "Chevrolet Citation;28.0;4;151.0;90.00;2678.;16.5;80;US\n",
      "Ford Fairmont;26.4;4;140.0;88.00;2870.;18.1;80;US\n",
      "AMC Concord;24.3;4;151.0;90.00;3003.;20.1;80;US\n",
      "Dodge Aspen;19.1;6;225.0;90.00;3381.;18.7;80;US\n",
      "Audi 4000;34.3;4;97.00;78.00;2188.;15.8;80;Europe\n",
      "Toyota Corolla Liftback;29.8;4;134.0;90.00;2711.;15.5;80;Japan\n",
      "Mazda 626;31.3;4;120.0;75.00;2542.;17.5;80;Japan\n",
      "Datsun 510 Hatchback;37.0;4;119.0;92.00;2434.;15.0;80;Japan\n",
      "Toyota Corolla;32.2;4;108.0;75.00;2265.;15.2;80;Japan\n",
      "Mazda GLC;46.6;4;86.00;65.00;2110.;17.9;80;Japan\n",
      "Dodge Colt;27.9;4;156.0;105.0;2800.;14.4;80;US\n",
      "Datsun 210;40.8;4;85.00;65.00;2110.;19.2;80;Japan\n",
      "Volkswagen Rabbit C (Diesel);44.3;4;90.00;48.00;2085.;21.7;80;Europe\n",
      "Volkswagen Dasher (diesel);43.4;4;90.00;48.00;2335.;23.7;80;Europe\n",
      "Audi 5000s (diesel);36.4;5;121.0;67.00;2950.;19.9;80;Europe\n",
      "Mercedes-Benz 240d;30.0;4;146.0;67.00;3250.;21.8;80;Europe\n",
      "Honda Civic 1500 gl;44.6;4;91.00;67.00;1850.;13.8;80;Japan\n",
      "Renault Lecar Deluxe;40.9;4;85.00;0;1835.;17.3;80;Europe\n",
      "Subaru DL;33.8;4;97.00;67.00;2145.;18.0;80;Japan\n",
      "Volkswagen Rabbit;29.8;4;89.00;62.00;1845.;15.3;80;Europe\n",
      "Datsun 280-ZX;32.7;6;168.0;132.0;2910.;11.4;80;Japan\n",
      "Mazda RX-7 GS;23.7;3;70.00;100.0;2420.;12.5;80;Japan\n",
      "Triumph TR7 Coupe;35.0;4;122.0;88.00;2500.;15.1;80;Europe\n",
      "Ford Mustang Cobra;23.6;4;140.0;0;2905.;14.3;80;US\n",
      "Honda Accord;32.4;4;107.0;72.00;2290.;17.0;80;Japan\n",
      "Plymouth Reliant;27.2;4;135.0;84.00;2490.;15.7;81;US\n",
      "Buick Skylark;26.6;4;151.0;84.00;2635.;16.4;81;US\n",
      "Dodge Aries Wagon (sw);25.8;4;156.0;92.00;2620.;14.4;81;US\n",
      "Chevrolet Citation;23.5;6;173.0;110.0;2725.;12.6;81;US\n",
      "Plymouth Reliant;30.0;4;135.0;84.00;2385.;12.9;81;US\n",
      "Toyota Starlet;39.1;4;79.00;58.00;1755.;16.9;81;Japan\n",
      "Plymouth Champ;39.0;4;86.00;64.00;1875.;16.4;81;US\n",
      "Honda Civic 1300;35.1;4;81.00;60.00;1760.;16.1;81;Japan\n",
      "Subaru;32.3;4;97.00;67.00;2065.;17.8;81;Japan\n",
      "Datsun 210 MPG;37.0;4;85.00;65.00;1975.;19.4;81;Japan\n",
      "Toyota Tercel;37.7;4;89.00;62.00;2050.;17.3;81;Japan\n",
      "Mazda GLC 4;34.1;4;91.00;68.00;1985.;16.0;81;Japan\n",
      "Plymouth Horizon 4;34.7;4;105.0;63.00;2215.;14.9;81;US\n",
      "Ford Escort 4W;34.4;4;98.00;65.00;2045.;16.2;81;US\n",
      "Ford Escort 2H;29.9;4;98.00;65.00;2380.;20.7;81;US\n",
      "Volkswagen Jetta;33.0;4;105.0;74.00;2190.;14.2;81;Europe\n",
      "Renault 18i;34.5;4;100.0;0;2320.;15.8;81;Europe\n",
      "Honda Prelude;33.7;4;107.0;75.00;2210.;14.4;81;Japan\n",
      "Toyota Corolla;32.4;4;108.0;75.00;2350.;16.8;81;Japan\n",
      "Datsun 200SX;32.9;4;119.0;100.0;2615.;14.8;81;Japan\n",
      "Mazda 626;31.6;4;120.0;74.00;2635.;18.3;81;Japan\n",
      "Peugeot 505s Turbo Diesel;28.1;4;141.0;80.00;3230.;20.4;81;Europe\n",
      "Saab 900s;0;4;121.0;110.0;2800.;15.4;81;Europe\n",
      "Volvo Diesel;30.7;6;145.0;76.00;3160.;19.6;81;Europe\n",
      "Toyota Cressida;25.4;6;168.0;116.0;2900.;12.6;81;Japan\n",
      "Datsun 810 Maxima;24.2;6;146.0;120.0;2930.;13.8;81;Japan\n",
      "Buick Century;22.4;6;231.0;110.0;3415.;15.8;81;US\n",
      "Oldsmobile Cutlass LS;26.6;8;350.0;105.0;3725.;19.0;81;US\n",
      "Ford Grenada gl;20.2;6;200.0;88.00;3060.;17.1;81;US\n",
      "Chrysler Lebaron Salon;17.6;6;225.0;85.00;3465.;16.6;81;US\n",
      "Chevrolet Cavalier;28.0;4;112.0;88.00;2605.;19.6;82;US\n",
      "Chevrolet Cavalier Wagon;27.0;4;112.0;88.00;2640.;18.6;82;US\n",
      "Chevrolet Cavalier 2-door;34.0;4;112.0;88.00;2395.;18.0;82;US\n",
      "Pontiac J2000 SE Hatchback;31.0;4;112.0;85.00;2575.;16.2;82;US\n",
      "Dodge Aries SE;29.0;4;135.0;84.00;2525.;16.0;82;US\n",
      "Pontiac Phoenix;27.0;4;151.0;90.00;2735.;18.0;82;US\n",
      "Ford Fairmont Futura;24.0;4;140.0;92.00;2865.;16.4;82;US\n",
      "AMC Concord DL;23.0;4;151.0;0;3035.;20.5;82;US\n",
      "Volkswagen Rabbit l;36.0;4;105.0;74.00;1980.;15.3;82;Europe\n",
      "Mazda GLC Custom l;37.0;4;91.00;68.00;2025.;18.2;82;Japan\n",
      "Mazda GLC Custom;31.0;4;91.00;68.00;1970.;17.6;82;Japan\n",
      "Plymouth Horizon Miser;38.0;4;105.0;63.00;2125.;14.7;82;US\n",
      "Mercury Lynx l;36.0;4;98.00;70.00;2125.;17.3;82;US\n",
      "Nissan Stanza XE;36.0;4;120.0;88.00;2160.;14.5;82;Japan\n",
      "Honda Accord;36.0;4;107.0;75.00;2205.;14.5;82;Japan\n",
      "Toyota Corolla;34.0;4;108.0;70.00;2245;16.9;82;Japan\n",
      "Honda Civic;38.0;4;91.00;67.00;1965.;15.0;82;Japan\n",
      "Honda Civic (auto);32.0;4;91.00;67.00;1965.;15.7;82;Japan\n",
      "Datsun 310 GX;38.0;4;91.00;67.00;1995.;16.2;82;Japan\n",
      "Buick Century Limited;25.0;6;181.0;110.0;2945.;16.4;82;US\n",
      "Oldsmobile Cutlass Ciera (diesel);38.0;6;262.0;85.00;3015.;17.0;82;US\n",
      "Chrysler Lebaron Medallion;26.0;4;156.0;92.00;2585.;14.5;82;US\n",
      "Ford Grenada l;22.0;6;232.0;112.0;2835;14.7;82;US\n",
      "Toyota Celica GT;32.0;4;144.0;96.00;2665.;13.9;82;Japan\n",
      "Dodge Charger 2.2;36.0;4;135.0;84.00;2370.;13.0;82;US\n",
      "Chevrolet Camaro;27.0;4;151.0;90.00;2950.;17.3;82;US\n",
      "Ford Mustang GL;27.0;4;140.0;86.00;2790.;15.6;82;US\n",
      "Volkswagen Pickup;44.0;4;97.00;52.00;2130.;24.6;82;Europe\n",
      "Dodge Rampage;32.0;4;135.0;84.00;2295.;11.6;82;US\n",
      "Ford Ranger;28.0;4;120.0;79.00;2625.;18.6;82;US\n",
      "Chevy S-10;31.0;4;119.0;82.00;2720.;19.4;82;US\n"
     ]
    }
   ],
   "source": [
    "with open('cars.csv') as f:\n",
    "    for row in f:\n",
    "        print(row, end='')"
   ]
  },
  {
   "cell_type": "markdown",
   "metadata": {
    "cell_id": "00023-dc4f6bc1-b27e-479a-af5e-52a26f7ae045",
    "tags": []
   },
   "source": [
    "The `TextIOWrapper` class also provides a method `readlines()` that will read the entire file and return a list containing all the rows:"
   ]
  },
  {
   "cell_type": "code",
   "execution_count": 21,
   "metadata": {
    "cell_id": "00023-8c1fe673-c214-47dc-80ea-1334528bec8b",
    "execution_millis": 13,
    "execution_start": 1604735655346,
    "output_cleared": false,
    "source_hash": "a43860c5",
    "tags": []
   },
   "outputs": [
    {
     "data": {
      "text/plain": [
       "['Car;MPG;Cylinders;Displacement;Horsepower;Weight;Acceleration;Model;Origin\\n',\n",
       " 'STRING;DOUBLE;INT;DOUBLE;DOUBLE;DOUBLE;DOUBLE;INT;CAT\\n',\n",
       " 'Chevrolet Chevelle Malibu;18.0;8;307.0;130.0;3504.;12.0;70;US\\n',\n",
       " 'Buick Skylark 320;15.0;8;350.0;165.0;3693.;11.5;70;US\\n',\n",
       " 'Plymouth Satellite;18.0;8;318.0;150.0;3436.;11.0;70;US\\n',\n",
       " 'AMC Rebel SST;16.0;8;304.0;150.0;3433.;12.0;70;US\\n',\n",
       " 'Ford Torino;17.0;8;302.0;140.0;3449.;10.5;70;US\\n',\n",
       " 'Ford Galaxie 500;15.0;8;429.0;198.0;4341.;10.0;70;US\\n',\n",
       " 'Chevrolet Impala;14.0;8;454.0;220.0;4354.;9.0;70;US\\n',\n",
       " 'Plymouth Fury iii;14.0;8;440.0;215.0;4312.;8.5;70;US\\n',\n",
       " 'Pontiac Catalina;14.0;8;455.0;225.0;4425.;10.0;70;US\\n',\n",
       " 'AMC Ambassador DPL;15.0;8;390.0;190.0;3850.;8.5;70;US\\n',\n",
       " 'Citroen DS-21 Pallas;0;4;133.0;115.0;3090.;17.5;70;Europe\\n',\n",
       " 'Chevrolet Chevelle Concours (sw);0;8;350.0;165.0;4142.;11.5;70;US\\n',\n",
       " 'Ford Torino (sw);0;8;351.0;153.0;4034.;11.0;70;US\\n',\n",
       " 'Plymouth Satellite (sw);0;8;383.0;175.0;4166.;10.5;70;US\\n',\n",
       " 'AMC Rebel SST (sw);0;8;360.0;175.0;3850.;11.0;70;US\\n',\n",
       " 'Dodge Challenger SE;15.0;8;383.0;170.0;3563.;10.0;70;US\\n',\n",
       " \"Plymouth 'Cuda 340;14.0;8;340.0;160.0;3609.;8.0;70;US\\n\",\n",
       " 'Ford Mustang Boss 302;0;8;302.0;140.0;3353.;8.0;70;US\\n',\n",
       " 'Chevrolet Monte Carlo;15.0;8;400.0;150.0;3761.;9.5;70;US\\n',\n",
       " 'Buick Estate Wagon (sw);14.0;8;455.0;225.0;3086.;10.0;70;US\\n',\n",
       " 'Toyota Corolla Mark ii;24.0;4;113.0;95.00;2372.;15.0;70;Japan\\n',\n",
       " 'Plymouth Duster;22.0;6;198.0;95.00;2833.;15.5;70;US\\n',\n",
       " 'AMC Hornet;18.0;6;199.0;97.00;2774.;15.5;70;US\\n',\n",
       " 'Ford Maverick;21.0;6;200.0;85.00;2587.;16.0;70;US\\n',\n",
       " 'Datsun PL510;27.0;4;97.00;88.00;2130.;14.5;70;Japan\\n',\n",
       " 'Volkswagen 1131 Deluxe Sedan;26.0;4;97.00;46.00;1835.;20.5;70;Europe\\n',\n",
       " 'Peugeot 504;25.0;4;110.0;87.00;2672.;17.5;70;Europe\\n',\n",
       " 'Audi 100 LS;24.0;4;107.0;90.00;2430.;14.5;70;Europe\\n',\n",
       " 'Saab 99e;25.0;4;104.0;95.00;2375.;17.5;70;Europe\\n',\n",
       " 'BMW 2002;26.0;4;121.0;113.0;2234.;12.5;70;Europe\\n',\n",
       " 'AMC Gremlin;21.0;6;199.0;90.00;2648.;15.0;70;US\\n',\n",
       " 'Ford F250;10.0;8;360.0;215.0;4615.;14.0;70;US\\n',\n",
       " 'Chevy C20;10.0;8;307.0;200.0;4376.;15.0;70;US\\n',\n",
       " 'Dodge D200;11.0;8;318.0;210.0;4382.;13.5;70;US\\n',\n",
       " 'Hi 1200D;9.0;8;304.0;193.0;4732.;18.5;70;US\\n',\n",
       " 'Datsun PL510;27.0;4;97.00;88.00;2130.;14.5;71;Japan\\n',\n",
       " 'Chevrolet Vega 2300;28.0;4;140.0;90.00;2264.;15.5;71;US\\n',\n",
       " 'Toyota Corolla;25.0;4;113.0;95.00;2228.;14.0;71;Japan\\n',\n",
       " 'Ford Pinto;25.0;4;98.00;0;2046.;19.0;71;US\\n',\n",
       " 'Volkswagen Super Beetle 117;0;4;97.00;48.00;1978.;20.0;71;Europe\\n',\n",
       " 'AMC Gremlin;19.0;6;232.0;100.0;2634.;13.0;71;US\\n',\n",
       " 'Plymouth Satellite Custom;16.0;6;225.0;105.0;3439.;15.5;71;US\\n',\n",
       " 'Chevrolet Chevelle Malibu;17.0;6;250.0;100.0;3329.;15.5;71;US\\n',\n",
       " 'Ford Torino 500;19.0;6;250.0;88.00;3302.;15.5;71;US\\n',\n",
       " 'AMC Matador;18.0;6;232.0;100.0;3288.;15.5;71;US\\n',\n",
       " 'Chevrolet Impala;14.0;8;350.0;165.0;4209.;12.0;71;US\\n',\n",
       " 'Pontiac Catalina Brougham;14.0;8;400.0;175.0;4464.;11.5;71;US\\n',\n",
       " 'Ford Galaxie 500;14.0;8;351.0;153.0;4154.;13.5;71;US\\n',\n",
       " 'Plymouth Fury iii;14.0;8;318.0;150.0;4096.;13.0;71;US\\n',\n",
       " 'Dodge Monaco (sw);12.0;8;383.0;180.0;4955.;11.5;71;US\\n',\n",
       " 'Ford Country Squire (sw);13.0;8;400.0;170.0;4746.;12.0;71;US\\n',\n",
       " 'Pontiac Safari (sw);13.0;8;400.0;175.0;5140.;12.0;71;US\\n',\n",
       " 'AMC Hornet Sportabout (sw);18.0;6;258.0;110.0;2962.;13.5;71;US\\n',\n",
       " 'Chevrolet Vega (sw);22.0;4;140.0;72.00;2408.;19.0;71;US\\n',\n",
       " 'Pontiac Firebird;19.0;6;250.0;100.0;3282.;15.0;71;US\\n',\n",
       " 'Ford Mustang;18.0;6;250.0;88.00;3139.;14.5;71;US\\n',\n",
       " 'Mercury Capri 2000;23.0;4;122.0;86.00;2220.;14.0;71;US\\n',\n",
       " 'Opel 1900;28.0;4;116.0;90.00;2123.;14.0;71;Europe\\n',\n",
       " 'Peugeot 304;30.0;4;79.00;70.00;2074.;19.5;71;Europe\\n',\n",
       " 'Fiat 124B;30.0;4;88.00;76.00;2065.;14.5;71;Europe\\n',\n",
       " 'Toyota Corolla 1200;31.0;4;71.00;65.00;1773.;19.0;71;Japan\\n',\n",
       " 'Datsun 1200;35.0;4;72.00;69.00;1613.;18.0;71;Japan\\n',\n",
       " 'Volkswagen Model 111;27.0;4;97.00;60.00;1834.;19.0;71;Europe\\n',\n",
       " 'Plymouth Cricket;26.0;4;91.00;70.00;1955.;20.5;71;US\\n',\n",
       " 'Toyota Corolla Hardtop;24.0;4;113.0;95.00;2278.;15.5;72;Japan\\n',\n",
       " 'Dodge Colt Hardtop;25.0;4;97.50;80.00;2126.;17.0;72;US\\n',\n",
       " 'Volkswagen Type 3;23.0;4;97.00;54.00;2254.;23.5;72;Europe\\n',\n",
       " 'Chevrolet Vega;20.0;4;140.0;90.00;2408.;19.5;72;US\\n',\n",
       " 'Ford Pinto Runabout;21.0;4;122.0;86.00;2226.;16.5;72;US\\n',\n",
       " 'Chevrolet Impala;13.0;8;350.0;165.0;4274.;12.0;72;US\\n',\n",
       " 'Pontiac Catalina;14.0;8;400.0;175.0;4385.;12.0;72;US\\n',\n",
       " 'Plymouth Fury III;15.0;8;318.0;150.0;4135.;13.5;72;US\\n',\n",
       " 'Ford Galaxie 500;14.0;8;351.0;153.0;4129.;13.0;72;US\\n',\n",
       " 'AMC Ambassador SST;17.0;8;304.0;150.0;3672.;11.5;72;US\\n',\n",
       " 'Mercury Marquis;11.0;8;429.0;208.0;4633.;11.0;72;US\\n',\n",
       " 'Buick LeSabre Custom;13.0;8;350.0;155.0;4502.;13.5;72;US\\n',\n",
       " 'Oldsmobile Delta 88 Royale;12.0;8;350.0;160.0;4456.;13.5;72;US\\n',\n",
       " 'Chrysler Newport Royal;13.0;8;400.0;190.0;4422.;12.5;72;US\\n',\n",
       " 'Mazda RX2 Coupe;19.0;3;70.00;97.00;2330.;13.5;72;Japan\\n',\n",
       " 'AMC Matador (sw);15.0;8;304.0;150.0;3892.;12.5;72;US\\n',\n",
       " 'Chevrolet Chevelle Concours (sw);13.0;8;307.0;130.0;4098.;14.0;72;US\\n',\n",
       " 'Ford Gran Torino (sw);13.0;8;302.0;140.0;4294.;16.0;72;US\\n',\n",
       " 'Plymouth Satellite Custom (sw);14.0;8;318.0;150.0;4077.;14.0;72;US\\n',\n",
       " 'Volvo 145e (sw);18.0;4;121.0;112.0;2933.;14.5;72;Europe\\n',\n",
       " 'Volkswagen 411 (sw);22.0;4;121.0;76.00;2511.;18.0;72;Europe\\n',\n",
       " 'Peugeot 504 (sw);21.0;4;120.0;87.00;2979.;19.5;72;Europe\\n',\n",
       " 'Renault 12 (sw);26.0;4;96.00;69.00;2189.;18.0;72;Europe\\n',\n",
       " 'Ford Pinto (sw);22.0;4;122.0;86.00;2395.;16.0;72;US\\n',\n",
       " 'Datsun 510 (sw);28.0;4;97.00;92.00;2288.;17.0;72;Japan\\n',\n",
       " 'Toyota Corolla Mark II (sw);23.0;4;120.0;97.00;2506.;14.5;72;Japan\\n',\n",
       " 'Dodge Colt (sw);28.0;4;98.00;80.00;2164.;15.0;72;US\\n',\n",
       " 'Toyota Corolla 1600 (sw);27.0;4;97.00;88.00;2100.;16.5;72;Japan\\n',\n",
       " 'Buick Century 350;13.0;8;350.0;175.0;4100.;13.0;73;US\\n',\n",
       " 'AMC Matador;14.0;8;304.0;150.0;3672.;11.5;73;US\\n',\n",
       " 'Chevrolet Malibu;13.0;8;350.0;145.0;3988.;13.0;73;US\\n',\n",
       " 'Ford Gran Torino;14.0;8;302.0;137.0;4042.;14.5;73;US\\n',\n",
       " 'Dodge Coronet Custom;15.0;8;318.0;150.0;3777.;12.5;73;US\\n',\n",
       " 'Mercury Marquis Brougham;12.0;8;429.0;198.0;4952.;11.5;73;US\\n',\n",
       " 'Chevrolet Caprice Classic;13.0;8;400.0;150.0;4464.;12.0;73;US\\n',\n",
       " 'Ford LTD;13.0;8;351.0;158.0;4363.;13.0;73;US\\n',\n",
       " 'Plymouth Fury Gran Sedan;14.0;8;318.0;150.0;4237.;14.5;73;US\\n',\n",
       " 'Chrysler New Yorker Brougham;13.0;8;440.0;215.0;4735.;11.0;73;US\\n',\n",
       " 'Buick Electra 225 Custom;12.0;8;455.0;225.0;4951.;11.0;73;US\\n',\n",
       " 'AMC Ambassador Brougham;13.0;8;360.0;175.0;3821.;11.0;73;US\\n',\n",
       " 'Plymouth Valiant;18.0;6;225.0;105.0;3121.;16.5;73;US\\n',\n",
       " 'Chevrolet Nova Custom;16.0;6;250.0;100.0;3278.;18.0;73;US\\n',\n",
       " 'AMC Hornet;18.0;6;232.0;100.0;2945.;16.0;73;US\\n',\n",
       " 'Ford Maverick;18.0;6;250.0;88.00;3021.;16.5;73;US\\n',\n",
       " 'Plymouth Duster;23.0;6;198.0;95.00;2904.;16.0;73;US\\n',\n",
       " 'Volkswagen Super Beetle;26.0;4;97.00;46.00;1950.;21.0;73;Europe\\n',\n",
       " 'Chevrolet Impala;11.0;8;400.0;150.0;4997.;14.0;73;US\\n',\n",
       " 'Ford Country;12.0;8;400.0;167.0;4906.;12.5;73;US\\n',\n",
       " 'Plymouth Custom Suburb;13.0;8;360.0;170.0;4654.;13.0;73;US\\n',\n",
       " 'Oldsmobile Vista Cruiser;12.0;8;350.0;180.0;4499.;12.5;73;US\\n',\n",
       " 'AMC Gremlin;18.0;6;232.0;100.0;2789.;15.0;73;US\\n',\n",
       " 'Toyota Camry;20.0;4;97.00;88.00;2279.;19.0;73;Japan\\n',\n",
       " 'Chevrolet Vega;21.0;4;140.0;72.00;2401.;19.5;73;US\\n',\n",
       " 'Datsun 610;22.0;4;108.0;94.00;2379.;16.5;73;Japan\\n',\n",
       " 'Mazda RX3;18.0;3;70.00;90.00;2124.;13.5;73;Japan\\n',\n",
       " 'Ford Pinto;19.0;4;122.0;85.00;2310.;18.5;73;US\\n',\n",
       " 'Mercury Capri v6;21.0;6;155.0;107.0;2472.;14.0;73;US\\n',\n",
       " 'Fiat 124 Sport Coupe;26.0;4;98.00;90.00;2265.;15.5;73;Europe\\n',\n",
       " 'Chevrolet Monte Carlo S;15.0;8;350.0;145.0;4082.;13.0;73;US\\n',\n",
       " 'Pontiac Grand Prix;16.0;8;400.0;230.0;4278.;9.50;73;US\\n',\n",
       " 'Fiat 128;29.0;4;68.00;49.00;1867.;19.5;73;Europe\\n',\n",
       " 'Opel Manta;24.0;4;116.0;75.00;2158.;15.5;73;Europe\\n',\n",
       " 'Audi 100LS;20.0;4;114.0;91.00;2582.;14.0;73;Europe\\n',\n",
       " 'Volvo 144ea;19.0;4;121.0;112.0;2868.;15.5;73;Europe\\n',\n",
       " 'Dodge Dart Custom;15.0;8;318.0;150.0;3399.;11.0;73;US\\n',\n",
       " 'Saab 99le;24.0;4;121.0;110.0;2660.;14.0;73;Europe\\n',\n",
       " 'Toyota Mark II;20.0;6;156.0;122.0;2807.;13.5;73;Japan\\n',\n",
       " 'Oldsmobile Omega;11.0;8;350.0;180.0;3664.;11.0;73;US\\n',\n",
       " 'Plymouth Duster;20.0;6;198.0;95.00;3102.;16.5;74;US\\n',\n",
       " 'Ford Maverick;21.0;6;200.0;0;2875.;17.0;74;US\\n',\n",
       " 'AMC Hornet;19.0;6;232.0;100.0;2901.;16.0;74;US\\n',\n",
       " 'Chevrolet Nova;15.0;6;250.0;100.0;3336.;17.0;74;US\\n',\n",
       " 'Datsun B210;31.0;4;79.00;67.00;1950.;19.0;74;Japan\\n',\n",
       " 'Ford Pinto;26.0;4;122.0;80.00;2451.;16.5;74;US\\n',\n",
       " 'Toyota Corolla 1200;32.0;4;71.00;65.00;1836.;21.0;74;Japan\\n',\n",
       " 'Chevrolet Vega;25.0;4;140.0;75.00;2542.;17.0;74;US\\n',\n",
       " 'Chevrolet Chevelle Malibu Classic;16.0;6;250.0;100.0;3781.;17.0;74;US\\n',\n",
       " 'AMC Matador;16.0;6;258.0;110.0;3632.;18.0;74;US\\n',\n",
       " 'Plymouth Satellite Sebring;18.0;6;225.0;105.0;3613.;16.5;74;US\\n',\n",
       " 'Ford Gran Torino;16.0;8;302.0;140.0;4141.;14.0;74;US\\n',\n",
       " 'Buick Century Luxus (sw);13.0;8;350.0;150.0;4699.;14.5;74;US\\n',\n",
       " 'Dodge Coronet Custom (sw);14.0;8;318.0;150.0;4457.;13.5;74;US\\n',\n",
       " 'Ford Gran Torino (sw);14.0;8;302.0;140.0;4638.;16.0;74;US\\n',\n",
       " 'AMC Matador (sw);14.0;8;304.0;150.0;4257.;15.5;74;US\\n',\n",
       " 'Audi Fox;29.0;4;98.00;83.00;2219.;16.5;74;Europe\\n',\n",
       " 'Volkswagen Dasher;26.0;4;79.00;67.00;1963.;15.5;74;Europe\\n',\n",
       " 'Opel Manta;26.0;4;97.00;78.00;2300.;14.5;74;Europe\\n',\n",
       " 'Toyota Corolla;31.0;4;76.00;52.00;1649.;16.5;74;Japan\\n',\n",
       " 'Datsun 710;32.0;4;83.00;61.00;2003.;19.0;74;Japan\\n',\n",
       " 'Dodge Colt;28.0;4;90.00;75.00;2125.;14.5;74;US\\n',\n",
       " 'Fiat 128;24.0;4;90.00;75.00;2108.;15.5;74;Europe\\n',\n",
       " 'Fiat 124 TC;26.0;4;116.0;75.00;2246.;14.0;74;Europe\\n',\n",
       " 'Honda Civic;24.0;4;120.0;97.00;2489.;15.0;74;Japan\\n',\n",
       " 'Subaru;26.0;4;108.0;93.00;2391.;15.5;74;Japan\\n',\n",
       " 'Fiat x1.9;31.0;4;79.00;67.00;2000.;16.0;74;Europe\\n',\n",
       " 'Plymouth Valiant Custom;19.0;6;225.0;95.00;3264.;16.0;75;US\\n',\n",
       " 'Chevrolet Nova;18.0;6;250.0;105.0;3459.;16.0;75;US\\n',\n",
       " 'Mercury Monarch;15.0;6;250.0;72.00;3432.;21.0;75;US\\n',\n",
       " 'Ford Maverick;15.0;6;250.0;72.00;3158.;19.5;75;US\\n',\n",
       " 'Pontiac Catalina;16.0;8;400.0;170.0;4668.;11.5;75;US\\n',\n",
       " 'Chevrolet Bel Air;15.0;8;350.0;145.0;4440.;14.0;75;US\\n',\n",
       " 'Plymouth Grand Fury;16.0;8;318.0;150.0;4498.;14.5;75;US\\n',\n",
       " 'Ford LTD;14.0;8;351.0;148.0;4657.;13.5;75;US\\n',\n",
       " 'Buick Century;17.0;6;231.0;110.0;3907.;21.0;75;US\\n',\n",
       " 'Chevrolete Chevelle Malibu;16.0;6;250.0;105.0;3897.;18.5;75;US\\n',\n",
       " 'AMC Matador;15.0;6;258.0;110.0;3730.;19.0;75;US\\n',\n",
       " 'Plymouth Fury;18.0;6;225.0;95.00;3785.;19.0;75;US\\n',\n",
       " 'Buick Skyhawk;21.0;6;231.0;110.0;3039.;15.0;75;US\\n',\n",
       " 'Chevrolet Monza 2+2;20.0;8;262.0;110.0;3221.;13.5;75;US\\n',\n",
       " 'Ford Mustang II;13.0;8;302.0;129.0;3169.;12.0;75;US\\n',\n",
       " 'Toyota Corolla;29.0;4;97.00;75.00;2171.;16.0;75;Japan\\n',\n",
       " 'Ford Pinto;23.0;4;140.0;83.00;2639.;17.0;75;US\\n',\n",
       " 'AMC Gremlin;20.0;6;232.0;100.0;2914.;16.0;75;US\\n',\n",
       " 'Pontiac Astro;23.0;4;140.0;78.00;2592.;18.5;75;US\\n',\n",
       " 'Toyota Corolla;24.0;4;134.0;96.00;2702.;13.5;75;Japan\\n',\n",
       " 'Volkswagen Dasher;25.0;4;90.00;71.00;2223.;16.5;75;Europe\\n',\n",
       " 'Datsun 710;24.0;4;119.0;97.00;2545.;17.0;75;Japan\\n',\n",
       " 'Ford Pinto;18.0;6;171.0;97.00;2984.;14.5;75;US\\n',\n",
       " 'Volkswagen Rabbit;29.0;4;90.00;70.00;1937.;14.0;75;Europe\\n',\n",
       " 'AMC Pacer;19.0;6;232.0;90.00;3211.;17.0;75;US\\n',\n",
       " 'Audi 100LS;23.0;4;115.0;95.00;2694.;15.0;75;Europe\\n',\n",
       " 'Peugeot 504;23.0;4;120.0;88.00;2957.;17.0;75;Europe\\n',\n",
       " 'Volvo 244DL;22.0;4;121.0;98.00;2945.;14.5;75;Europe\\n',\n",
       " 'Saab 99LE;25.0;4;121.0;115.0;2671.;13.5;75;Europe\\n',\n",
       " 'Honda Civic CVCC;33.0;4;91.00;53.00;1795.;17.5;75;Japan\\n',\n",
       " 'Fiat 131;28.0;4;107.0;86.00;2464.;15.5;76;Europe\\n',\n",
       " 'Opel 1900;25.0;4;116.0;81.00;2220.;16.9;76;Europe\\n',\n",
       " 'Capri ii;25.0;4;140.0;92.00;2572.;14.9;76;US\\n',\n",
       " 'Dodge Colt;26.0;4;98.00;79.00;2255.;17.7;76;US\\n',\n",
       " 'Renault 12tl;27.0;4;101.0;83.00;2202.;15.3;76;Europe\\n',\n",
       " 'Chevrolet Chevelle Malibu Classic;17.5;8;305.0;140.0;4215.;13.0;76;US\\n',\n",
       " 'Dodge Coronet Brougham;16.0;8;318.0;150.0;4190.;13.0;76;US\\n',\n",
       " 'AMC Matador;15.5;8;304.0;120.0;3962.;13.9;76;US\\n',\n",
       " 'Ford Gran Torino;14.5;8;351.0;152.0;4215.;12.8;76;US\\n',\n",
       " 'Plymouth Valiant;22.0;6;225.0;100.0;3233.;15.4;76;US\\n',\n",
       " 'Chevrolet Nova;22.0;6;250.0;105.0;3353.;14.5;76;US\\n',\n",
       " 'Ford Maverick;24.0;6;200.0;81.00;3012.;17.6;76;US\\n',\n",
       " 'AMC Hornet;22.5;6;232.0;90.00;3085.;17.6;76;US\\n',\n",
       " 'Chevrolet Chevette;29.0;4;85.00;52.00;2035.;22.2;76;US\\n',\n",
       " 'Chevrolet Woody;24.5;4;98.00;60.00;2164.;22.1;76;US\\n',\n",
       " 'Volkswagen Rabbit;29.0;4;90.00;70.00;1937.;14.2;76;Europe\\n',\n",
       " 'Honda Civic;33.0;4;91.00;53.00;1795.;17.4;76;Japan\\n',\n",
       " 'Dodge Aspen SE;20.0;6;225.0;100.0;3651.;17.7;76;US\\n',\n",
       " 'Ford Grenada ghia;18.0;6;250.0;78.00;3574.;21.0;76;US\\n',\n",
       " 'Pontiac Ventura SJ;18.5;6;250.0;110.0;3645.;16.2;76;US\\n',\n",
       " 'AMC Pacer d/l;17.5;6;258.0;95.00;3193.;17.8;76;US\\n',\n",
       " 'Volkswagen Rabbit;29.5;4;97.00;71.00;1825.;12.2;76;Europe\\n',\n",
       " 'Datsun B-210;32.0;4;85.00;70.00;1990.;17.0;76;Japan\\n',\n",
       " 'Toyota Corolla;28.0;4;97.00;75.00;2155.;16.4;76;Japan\\n',\n",
       " 'Ford Pinto;26.5;4;140.0;72.00;2565.;13.6;76;US\\n',\n",
       " 'Volvo 245;20.0;4;130.0;102.0;3150.;15.7;76;Europe\\n',\n",
       " 'Plymouth Volare Premier v8;13.0;8;318.0;150.0;3940.;13.2;76;US\\n',\n",
       " 'Peugeot 504;19.0;4;120.0;88.00;3270.;21.9;76;Europe\\n',\n",
       " 'Toyota Mark II;19.0;6;156.0;108.0;2930.;15.5;76;Japan\\n',\n",
       " 'Mercedes-Benz 280s;16.5;6;168.0;120.0;3820.;16.7;76;Europe\\n',\n",
       " 'Cadillac Seville;16.5;8;350.0;180.0;4380.;12.1;76;US\\n',\n",
       " 'Chevrolet C10;13.0;8;350.0;145.0;4055.;12.0;76;US\\n',\n",
       " 'Ford F108;13.0;8;302.0;130.0;3870.;15.0;76;US\\n',\n",
       " 'Dodge D100;13.0;8;318.0;150.0;3755.;14.0;76;US\\n',\n",
       " 'Honda Accord CVCC;31.5;4;98.00;68.00;2045.;18.5;77;Japan\\n',\n",
       " 'Buick Opel Isuzu Deluxe;30.0;4;111.0;80.00;2155.;14.8;77;US\\n',\n",
       " 'Renault 5 GTL;36.0;4;79.00;58.00;1825.;18.6;77;Europe\\n',\n",
       " 'Plymouth Arrow GS;25.5;4;122.0;96.00;2300.;15.5;77;US\\n',\n",
       " 'Datsun F-10 Hatchback;33.5;4;85.00;70.00;1945.;16.8;77;Japan\\n',\n",
       " 'Chevrolet Caprice Classic;17.5;8;305.0;145.0;3880.;12.5;77;US\\n',\n",
       " 'Oldsmobile Cutlass Supreme;17.0;8;260.0;110.0;4060.;19.0;77;US\\n',\n",
       " 'Dodge Monaco Brougham;15.5;8;318.0;145.0;4140.;13.7;77;US\\n',\n",
       " 'Mercury Cougar Brougham;15.0;8;302.0;130.0;4295.;14.9;77;US\\n',\n",
       " 'Chevrolet Concours;17.5;6;250.0;110.0;3520.;16.4;77;US\\n',\n",
       " 'Buick Skylark;20.5;6;231.0;105.0;3425.;16.9;77;US\\n',\n",
       " 'Plymouth Volare Custom;19.0;6;225.0;100.0;3630.;17.7;77;US\\n',\n",
       " 'Ford Grenada;18.5;6;250.0;98.00;3525.;19.0;77;US\\n',\n",
       " 'Pontiac Grand Prix LJ;16.0;8;400.0;180.0;4220.;11.1;77;US\\n',\n",
       " 'Chevrolet Monte Carlo Landau;15.5;8;350.0;170.0;4165.;11.4;77;US\\n',\n",
       " 'Chrysler Cordoba;15.5;8;400.0;190.0;4325.;12.2;77;US\\n',\n",
       " 'Ford Thunderbird;16.0;8;351.0;149.0;4335.;14.5;77;US\\n',\n",
       " 'Volkswagen Rabbit Custom;29.0;4;97.00;78.00;1940.;14.5;77;Europe\\n',\n",
       " 'Pontiac Sunbird Coupe;24.5;4;151.0;88.00;2740.;16.0;77;US\\n',\n",
       " 'Toyota Corolla Liftback;26.0;4;97.00;75.00;2265.;18.2;77;Japan\\n',\n",
       " 'Ford Mustang II 2+2;25.5;4;140.0;89.00;2755.;15.8;77;US\\n',\n",
       " 'Chevrolet Chevette;30.5;4;98.00;63.00;2051.;17.0;77;US\\n',\n",
       " 'Dodge Colt m/m;33.5;4;98.00;83.00;2075.;15.9;77;US\\n',\n",
       " 'Subaru DL;30.0;4;97.00;67.00;1985.;16.4;77;Japan\\n',\n",
       " 'Volkswagen Dasher;30.5;4;97.00;78.00;2190.;14.1;77;Europe\\n',\n",
       " 'Datsun 810;22.0;6;146.0;97.00;2815.;14.5;77;Japan\\n',\n",
       " 'BMW 320i;21.5;4;121.0;110.0;2600.;12.8;77;Europe\\n',\n",
       " 'Mazda RX-4;21.5;3;80.00;110.0;2720.;13.5;77;Japan\\n',\n",
       " 'Volkswagen Rabbit Custom Diesel;43.1;4;90.00;48.00;1985.;21.5;78;Europe\\n',\n",
       " 'Ford Fiesta;36.1;4;98.00;66.00;1800.;14.4;78;US\\n',\n",
       " 'Mazda GLC Deluxe;32.8;4;78.00;52.00;1985.;19.4;78;Japan\\n',\n",
       " 'Datsun B210 GX;39.4;4;85.00;70.00;2070.;18.6;78;Japan\\n',\n",
       " 'Honda Civic CVCC;36.1;4;91.00;60.00;1800.;16.4;78;Japan\\n',\n",
       " 'Oldsmobile Cutlass Salon Brougham;19.9;8;260.0;110.0;3365.;15.5;78;US\\n',\n",
       " 'Dodge Diplomat;19.4;8;318.0;140.0;3735.;13.2;78;US\\n',\n",
       " 'Mercury Monarch ghia;20.2;8;302.0;139.0;3570.;12.8;78;US\\n',\n",
       " 'Pontiac Phoenix LJ;19.2;6;231.0;105.0;3535.;19.2;78;US\\n',\n",
       " 'Chevrolet Malibu;20.5;6;200.0;95.00;3155.;18.2;78;US\\n',\n",
       " 'Ford Fairmont (auto);20.2;6;200.0;85.00;2965.;15.8;78;US\\n',\n",
       " 'Ford Fairmont (man);25.1;4;140.0;88.00;2720.;15.4;78;US\\n',\n",
       " 'Plymouth Volare;20.5;6;225.0;100.0;3430.;17.2;78;US\\n',\n",
       " 'AMC Concord;19.4;6;232.0;90.00;3210.;17.2;78;US\\n',\n",
       " 'Buick Century Special;20.6;6;231.0;105.0;3380.;15.8;78;US\\n',\n",
       " 'Mercury Zephyr;20.8;6;200.0;85.00;3070.;16.7;78;US\\n',\n",
       " 'Dodge Aspen;18.6;6;225.0;110.0;3620.;18.7;78;US\\n',\n",
       " 'AMC Concord d/l;18.1;6;258.0;120.0;3410.;15.1;78;US\\n',\n",
       " 'Chevrolet Monte Carlo Landau;19.2;8;305.0;145.0;3425.;13.2;78;US\\n',\n",
       " 'Buick Regal Sport Coupe (turbo);17.7;6;231.0;165.0;3445.;13.4;78;US\\n',\n",
       " 'Ford Futura;18.1;8;302.0;139.0;3205.;11.2;78;US\\n',\n",
       " 'Dodge Magnum XE;17.5;8;318.0;140.0;4080.;13.7;78;US\\n',\n",
       " 'Chevrolet Chevette;30.0;4;98.00;68.00;2155.;16.5;78;US\\n',\n",
       " 'Toyota Corolla;27.5;4;134.0;95.00;2560.;14.2;78;Japan\\n',\n",
       " 'Datsun 510;27.2;4;119.0;97.00;2300.;14.7;78;Japan\\n',\n",
       " 'Dodge Omni;30.9;4;105.0;75.00;2230.;14.5;78;US\\n',\n",
       " 'Toyota Celica GT Liftback;21.1;4;134.0;95.00;2515.;14.8;78;Japan\\n',\n",
       " 'Plymouth Sapporo;23.2;4;156.0;105.0;2745.;16.7;78;US\\n',\n",
       " 'Oldsmobile Starfire SX;23.8;4;151.0;85.00;2855.;17.6;78;US\\n',\n",
       " 'Datsun 200-SX;23.9;4;119.0;97.00;2405.;14.9;78;Japan\\n',\n",
       " 'Audi 5000;20.3;5;131.0;103.0;2830.;15.9;78;Europe\\n',\n",
       " 'Volvo 264gl;17.0;6;163.0;125.0;3140.;13.6;78;Europe\\n',\n",
       " 'Saab 99gle;21.6;4;121.0;115.0;2795.;15.7;78;Europe\\n',\n",
       " 'Peugeot 604sl;16.2;6;163.0;133.0;3410.;15.8;78;Europe\\n',\n",
       " 'Volkswagen Scirocco;31.5;4;89.00;71.00;1990.;14.9;78;Europe\\n',\n",
       " 'Honda Accord LX;29.5;4;98.00;68.00;2135.;16.6;78;Japan\\n',\n",
       " 'Pontiac Lemans V6;21.5;6;231.0;115.0;3245.;15.4;79;US\\n',\n",
       " 'Mercury Zephyr 6;19.8;6;200.0;85.00;2990.;18.2;79;US\\n',\n",
       " 'Ford Fairmont 4;22.3;4;140.0;88.00;2890.;17.3;79;US\\n',\n",
       " 'AMC Concord DL 6;20.2;6;232.0;90.00;3265.;18.2;79;US\\n',\n",
       " 'Dodge Aspen 6;20.6;6;225.0;110.0;3360.;16.6;79;US\\n',\n",
       " 'Chevrolet Caprice Classic;17.0;8;305.0;130.0;3840.;15.4;79;US\\n',\n",
       " 'Ford LTD Landau;17.6;8;302.0;129.0;3725.;13.4;79;US\\n',\n",
       " 'Mercury Grand Marquis;16.5;8;351.0;138.0;3955.;13.2;79;US\\n',\n",
       " 'Dodge St. Regis;18.2;8;318.0;135.0;3830.;15.2;79;US\\n',\n",
       " 'Buick Estate Wagon (sw);16.9;8;350.0;155.0;4360.;14.9;79;US\\n',\n",
       " 'Ford Country Squire (sw);15.5;8;351.0;142.0;4054.;14.3;79;US\\n',\n",
       " 'Chevrolet Malibu Classic (sw);19.2;8;267.0;125.0;3605.;15.0;79;US\\n',\n",
       " 'Chrysler Lebaron Town @ Country (sw);18.5;8;360.0;150.0;3940.;13.0;79;US\\n',\n",
       " 'Volkswagen Rabbit Custom;31.9;4;89.00;71.00;1925.;14.0;79;Europe\\n',\n",
       " 'Mazda GLC Deluxe;34.1;4;86.00;65.00;1975.;15.2;79;Japan\\n',\n",
       " 'Dodge Colt Hatchback Custom;35.7;4;98.00;80.00;1915.;14.4;79;US\\n',\n",
       " 'AMC Spirit DL;27.4;4;121.0;80.00;2670.;15.0;79;US\\n',\n",
       " 'Mercedes Benz 300d;25.4;5;183.0;77.00;3530.;20.1;79;Europe\\n',\n",
       " 'Cadillac Eldorado;23.0;8;350.0;125.0;3900.;17.4;79;US\\n',\n",
       " 'Peugeot 504;27.2;4;141.0;71.00;3190.;24.8;79;Europe\\n',\n",
       " 'Oldsmobile Cutlass Salon Brougham;23.9;8;260.0;90.00;3420.;22.2;79;US\\n',\n",
       " 'Plymouth Horizon;34.2;4;105.0;70.00;2200.;13.2;79;US\\n',\n",
       " 'Plymouth Horizon TC3;34.5;4;105.0;70.00;2150.;14.9;79;US\\n',\n",
       " 'Datsun 210;31.8;4;85.00;65.00;2020.;19.2;79;Japan\\n',\n",
       " 'Fiat Strada Custom;37.3;4;91.00;69.00;2130.;14.7;79;Europe\\n',\n",
       " 'Buick Skylark Limited;28.4;4;151.0;90.00;2670.;16.0;79;US\\n',\n",
       " 'Chevrolet Citation;28.8;6;173.0;115.0;2595.;11.3;79;US\\n',\n",
       " 'Oldsmobile Omega Brougham;26.8;6;173.0;115.0;2700.;12.9;79;US\\n',\n",
       " 'Pontiac Phoenix;33.5;4;151.0;90.00;2556.;13.2;79;US\\n',\n",
       " 'Volkswagen Rabbit;41.5;4;98.00;76.00;2144.;14.7;80;Europe\\n',\n",
       " 'Toyota Corolla Tercel;38.1;4;89.00;60.00;1968.;18.8;80;Japan\\n',\n",
       " 'Chevrolet Chevette;32.1;4;98.00;70.00;2120.;15.5;80;US\\n',\n",
       " 'Datsun 310;37.2;4;86.00;65.00;2019.;16.4;80;Japan\\n',\n",
       " 'Chevrolet Citation;28.0;4;151.0;90.00;2678.;16.5;80;US\\n',\n",
       " 'Ford Fairmont;26.4;4;140.0;88.00;2870.;18.1;80;US\\n',\n",
       " 'AMC Concord;24.3;4;151.0;90.00;3003.;20.1;80;US\\n',\n",
       " 'Dodge Aspen;19.1;6;225.0;90.00;3381.;18.7;80;US\\n',\n",
       " 'Audi 4000;34.3;4;97.00;78.00;2188.;15.8;80;Europe\\n',\n",
       " 'Toyota Corolla Liftback;29.8;4;134.0;90.00;2711.;15.5;80;Japan\\n',\n",
       " 'Mazda 626;31.3;4;120.0;75.00;2542.;17.5;80;Japan\\n',\n",
       " 'Datsun 510 Hatchback;37.0;4;119.0;92.00;2434.;15.0;80;Japan\\n',\n",
       " 'Toyota Corolla;32.2;4;108.0;75.00;2265.;15.2;80;Japan\\n',\n",
       " 'Mazda GLC;46.6;4;86.00;65.00;2110.;17.9;80;Japan\\n',\n",
       " 'Dodge Colt;27.9;4;156.0;105.0;2800.;14.4;80;US\\n',\n",
       " 'Datsun 210;40.8;4;85.00;65.00;2110.;19.2;80;Japan\\n',\n",
       " 'Volkswagen Rabbit C (Diesel);44.3;4;90.00;48.00;2085.;21.7;80;Europe\\n',\n",
       " 'Volkswagen Dasher (diesel);43.4;4;90.00;48.00;2335.;23.7;80;Europe\\n',\n",
       " 'Audi 5000s (diesel);36.4;5;121.0;67.00;2950.;19.9;80;Europe\\n',\n",
       " 'Mercedes-Benz 240d;30.0;4;146.0;67.00;3250.;21.8;80;Europe\\n',\n",
       " 'Honda Civic 1500 gl;44.6;4;91.00;67.00;1850.;13.8;80;Japan\\n',\n",
       " 'Renault Lecar Deluxe;40.9;4;85.00;0;1835.;17.3;80;Europe\\n',\n",
       " 'Subaru DL;33.8;4;97.00;67.00;2145.;18.0;80;Japan\\n',\n",
       " 'Volkswagen Rabbit;29.8;4;89.00;62.00;1845.;15.3;80;Europe\\n',\n",
       " 'Datsun 280-ZX;32.7;6;168.0;132.0;2910.;11.4;80;Japan\\n',\n",
       " 'Mazda RX-7 GS;23.7;3;70.00;100.0;2420.;12.5;80;Japan\\n',\n",
       " 'Triumph TR7 Coupe;35.0;4;122.0;88.00;2500.;15.1;80;Europe\\n',\n",
       " 'Ford Mustang Cobra;23.6;4;140.0;0;2905.;14.3;80;US\\n',\n",
       " 'Honda Accord;32.4;4;107.0;72.00;2290.;17.0;80;Japan\\n',\n",
       " 'Plymouth Reliant;27.2;4;135.0;84.00;2490.;15.7;81;US\\n',\n",
       " 'Buick Skylark;26.6;4;151.0;84.00;2635.;16.4;81;US\\n',\n",
       " 'Dodge Aries Wagon (sw);25.8;4;156.0;92.00;2620.;14.4;81;US\\n',\n",
       " 'Chevrolet Citation;23.5;6;173.0;110.0;2725.;12.6;81;US\\n',\n",
       " 'Plymouth Reliant;30.0;4;135.0;84.00;2385.;12.9;81;US\\n',\n",
       " 'Toyota Starlet;39.1;4;79.00;58.00;1755.;16.9;81;Japan\\n',\n",
       " 'Plymouth Champ;39.0;4;86.00;64.00;1875.;16.4;81;US\\n',\n",
       " 'Honda Civic 1300;35.1;4;81.00;60.00;1760.;16.1;81;Japan\\n',\n",
       " 'Subaru;32.3;4;97.00;67.00;2065.;17.8;81;Japan\\n',\n",
       " 'Datsun 210 MPG;37.0;4;85.00;65.00;1975.;19.4;81;Japan\\n',\n",
       " 'Toyota Tercel;37.7;4;89.00;62.00;2050.;17.3;81;Japan\\n',\n",
       " 'Mazda GLC 4;34.1;4;91.00;68.00;1985.;16.0;81;Japan\\n',\n",
       " 'Plymouth Horizon 4;34.7;4;105.0;63.00;2215.;14.9;81;US\\n',\n",
       " 'Ford Escort 4W;34.4;4;98.00;65.00;2045.;16.2;81;US\\n',\n",
       " 'Ford Escort 2H;29.9;4;98.00;65.00;2380.;20.7;81;US\\n',\n",
       " 'Volkswagen Jetta;33.0;4;105.0;74.00;2190.;14.2;81;Europe\\n',\n",
       " 'Renault 18i;34.5;4;100.0;0;2320.;15.8;81;Europe\\n',\n",
       " 'Honda Prelude;33.7;4;107.0;75.00;2210.;14.4;81;Japan\\n',\n",
       " 'Toyota Corolla;32.4;4;108.0;75.00;2350.;16.8;81;Japan\\n',\n",
       " 'Datsun 200SX;32.9;4;119.0;100.0;2615.;14.8;81;Japan\\n',\n",
       " 'Mazda 626;31.6;4;120.0;74.00;2635.;18.3;81;Japan\\n',\n",
       " 'Peugeot 505s Turbo Diesel;28.1;4;141.0;80.00;3230.;20.4;81;Europe\\n',\n",
       " 'Saab 900s;0;4;121.0;110.0;2800.;15.4;81;Europe\\n',\n",
       " 'Volvo Diesel;30.7;6;145.0;76.00;3160.;19.6;81;Europe\\n',\n",
       " 'Toyota Cressida;25.4;6;168.0;116.0;2900.;12.6;81;Japan\\n',\n",
       " 'Datsun 810 Maxima;24.2;6;146.0;120.0;2930.;13.8;81;Japan\\n',\n",
       " 'Buick Century;22.4;6;231.0;110.0;3415.;15.8;81;US\\n',\n",
       " 'Oldsmobile Cutlass LS;26.6;8;350.0;105.0;3725.;19.0;81;US\\n',\n",
       " 'Ford Grenada gl;20.2;6;200.0;88.00;3060.;17.1;81;US\\n',\n",
       " 'Chrysler Lebaron Salon;17.6;6;225.0;85.00;3465.;16.6;81;US\\n',\n",
       " 'Chevrolet Cavalier;28.0;4;112.0;88.00;2605.;19.6;82;US\\n',\n",
       " 'Chevrolet Cavalier Wagon;27.0;4;112.0;88.00;2640.;18.6;82;US\\n',\n",
       " 'Chevrolet Cavalier 2-door;34.0;4;112.0;88.00;2395.;18.0;82;US\\n',\n",
       " 'Pontiac J2000 SE Hatchback;31.0;4;112.0;85.00;2575.;16.2;82;US\\n',\n",
       " 'Dodge Aries SE;29.0;4;135.0;84.00;2525.;16.0;82;US\\n',\n",
       " 'Pontiac Phoenix;27.0;4;151.0;90.00;2735.;18.0;82;US\\n',\n",
       " 'Ford Fairmont Futura;24.0;4;140.0;92.00;2865.;16.4;82;US\\n',\n",
       " 'AMC Concord DL;23.0;4;151.0;0;3035.;20.5;82;US\\n',\n",
       " 'Volkswagen Rabbit l;36.0;4;105.0;74.00;1980.;15.3;82;Europe\\n',\n",
       " 'Mazda GLC Custom l;37.0;4;91.00;68.00;2025.;18.2;82;Japan\\n',\n",
       " 'Mazda GLC Custom;31.0;4;91.00;68.00;1970.;17.6;82;Japan\\n',\n",
       " 'Plymouth Horizon Miser;38.0;4;105.0;63.00;2125.;14.7;82;US\\n',\n",
       " 'Mercury Lynx l;36.0;4;98.00;70.00;2125.;17.3;82;US\\n',\n",
       " 'Nissan Stanza XE;36.0;4;120.0;88.00;2160.;14.5;82;Japan\\n',\n",
       " 'Honda Accord;36.0;4;107.0;75.00;2205.;14.5;82;Japan\\n',\n",
       " 'Toyota Corolla;34.0;4;108.0;70.00;2245;16.9;82;Japan\\n',\n",
       " 'Honda Civic;38.0;4;91.00;67.00;1965.;15.0;82;Japan\\n',\n",
       " 'Honda Civic (auto);32.0;4;91.00;67.00;1965.;15.7;82;Japan\\n',\n",
       " 'Datsun 310 GX;38.0;4;91.00;67.00;1995.;16.2;82;Japan\\n',\n",
       " 'Buick Century Limited;25.0;6;181.0;110.0;2945.;16.4;82;US\\n',\n",
       " 'Oldsmobile Cutlass Ciera (diesel);38.0;6;262.0;85.00;3015.;17.0;82;US\\n',\n",
       " 'Chrysler Lebaron Medallion;26.0;4;156.0;92.00;2585.;14.5;82;US\\n',\n",
       " 'Ford Grenada l;22.0;6;232.0;112.0;2835;14.7;82;US\\n',\n",
       " 'Toyota Celica GT;32.0;4;144.0;96.00;2665.;13.9;82;Japan\\n',\n",
       " 'Dodge Charger 2.2;36.0;4;135.0;84.00;2370.;13.0;82;US\\n',\n",
       " 'Chevrolet Camaro;27.0;4;151.0;90.00;2950.;17.3;82;US\\n',\n",
       " 'Ford Mustang GL;27.0;4;140.0;86.00;2790.;15.6;82;US\\n',\n",
       " 'Volkswagen Pickup;44.0;4;97.00;52.00;2130.;24.6;82;Europe\\n',\n",
       " 'Dodge Rampage;32.0;4;135.0;84.00;2295.;11.6;82;US\\n',\n",
       " 'Ford Ranger;28.0;4;120.0;79.00;2625.;18.6;82;US\\n',\n",
       " 'Chevy S-10;31.0;4;119.0;82.00;2720.;19.4;82;US\\n']"
      ]
     },
     "execution_count": 21,
     "metadata": {},
     "output_type": "execute_result"
    }
   ],
   "source": [
    "with open('cars.csv') as f:\n",
    "    l = f.readlines()\n",
    "l"
   ]
  },
  {
   "cell_type": "code",
   "execution_count": 22,
   "metadata": {
    "cell_id": "00025-3cb4651d-6c94-4686-a935-51269dbdaa0a",
    "execution_millis": 4,
    "execution_start": 1604735736299,
    "output_cleared": false,
    "source_hash": "1174e267",
    "tags": []
   },
   "outputs": [
    {
     "name": "stdout",
     "output_type": "stream",
     "text": [
      "{'Japan', 'Europe', 'US'}\n"
     ]
    }
   ],
   "source": [
    "origins = set()\n",
    "with open('cars.csv') as f:\n",
    "    rows = f.readlines()\n",
    "for row in rows[2:]:\n",
    "    origin = row.strip('\\n').split(';')[-1]\n",
    "    origins.add(origin)\n",
    "print(origins)"
   ]
  },
  {
   "cell_type": "code",
   "execution_count": 23,
   "metadata": {
    "cell_id": "00026-c21bee75-198d-45b0-90f0-91b5edf53d05",
    "execution_millis": 6,
    "execution_start": 1604735783461,
    "output_cleared": false,
    "source_hash": "c56075cb",
    "tags": []
   },
   "outputs": [
    {
     "name": "stdout",
     "output_type": "stream",
     "text": [
      "{'Japan', 'Europe', 'US'}\n"
     ]
    }
   ],
   "source": [
    "origins = set()\n",
    "with open('cars.csv') as f:\n",
    "    next(f), next(f)\n",
    "    for row in f:\n",
    "        origin = row.strip('\\n').split(';')[-1]\n",
    "        origins.add(origin)\n",
    "print(origins)"
   ]
  },
  {
   "cell_type": "code",
   "execution_count": 24,
   "metadata": {
    "cell_id": "00027-71d7b849-d98d-420f-9028-4d3899a37fe7",
    "execution_millis": 1,
    "execution_start": 1604735849663,
    "output_cleared": false,
    "source_hash": "cedce895",
    "tags": []
   },
   "outputs": [],
   "source": [
    "e = enumerate('Python rocks!')"
   ]
  },
  {
   "cell_type": "code",
   "execution_count": 25,
   "metadata": {
    "cell_id": "00028-76d4d20e-2247-4759-83d8-3444a3797f50",
    "execution_millis": 7,
    "execution_start": 1604735856028,
    "output_cleared": false,
    "source_hash": "d7aea5e7",
    "tags": []
   },
   "outputs": [
    {
     "name": "stdout",
     "output_type": "stream",
     "text": [
      "True\n",
      "True\n"
     ]
    }
   ],
   "source": [
    "print('__iter__' in dir(e))\n",
    "print('__next__' in dir(e))"
   ]
  },
  {
   "cell_type": "code",
   "execution_count": 26,
   "metadata": {
    "cell_id": "00029-2ca1cdc5-b881-4d4e-a7f3-1e63664bf999",
    "execution_millis": 4,
    "execution_start": 1604735861788,
    "output_cleared": false,
    "source_hash": "fd393cef",
    "tags": []
   },
   "outputs": [
    {
     "data": {
      "text/plain": [
       "<enumerate at 0x7f6f176125f0>"
      ]
     },
     "execution_count": 26,
     "metadata": {},
     "output_type": "execute_result"
    }
   ],
   "source": [
    "iter(e)"
   ]
  },
  {
   "cell_type": "code",
   "execution_count": 27,
   "metadata": {
    "cell_id": "00030-5bb98741-6c7f-48c6-b7f0-b34ba132f9f1",
    "execution_millis": 7,
    "execution_start": 1604735869489,
    "output_cleared": false,
    "source_hash": "54a12ac3",
    "tags": []
   },
   "outputs": [
    {
     "data": {
      "text/plain": [
       "<enumerate at 0x7f6f176125f0>"
      ]
     },
     "execution_count": 27,
     "metadata": {},
     "output_type": "execute_result"
    }
   ],
   "source": [
    "e"
   ]
  },
  {
   "cell_type": "code",
   "execution_count": 28,
   "metadata": {
    "cell_id": "00031-d4378e94-dd24-4112-a624-cd5ffb72fba5",
    "execution_millis": 1,
    "execution_start": 1604735884826,
    "output_cleared": false,
    "source_hash": "ed19a7c8",
    "tags": []
   },
   "outputs": [
    {
     "data": {
      "text/plain": [
       "[(0, 'P'),\n",
       " (1, 'y'),\n",
       " (2, 't'),\n",
       " (3, 'h'),\n",
       " (4, 'o'),\n",
       " (5, 'n'),\n",
       " (6, ' '),\n",
       " (7, 'r'),\n",
       " (8, 'o'),\n",
       " (9, 'c'),\n",
       " (10, 'k'),\n",
       " (11, 's'),\n",
       " (12, '!')]"
      ]
     },
     "execution_count": 28,
     "metadata": {},
     "output_type": "execute_result"
    }
   ],
   "source": [
    "list(e)"
   ]
  },
  {
   "cell_type": "code",
   "execution_count": 29,
   "metadata": {
    "cell_id": "00032-12559bc2-cda3-4825-9f3a-8c388bc1d414",
    "execution_millis": 1,
    "execution_start": 1604735891721,
    "output_cleared": false,
    "source_hash": "ed19a7c8",
    "tags": []
   },
   "outputs": [
    {
     "data": {
      "text/plain": [
       "[]"
      ]
     },
     "execution_count": 29,
     "metadata": {},
     "output_type": "execute_result"
    }
   ],
   "source": [
    "list(e)"
   ]
  },
  {
   "cell_type": "code",
   "execution_count": 30,
   "metadata": {
    "cell_id": "00033-3680594f-4471-4960-91ce-5e9969f94c8c",
    "execution_millis": 3,
    "execution_start": 1604735900071,
    "output_cleared": false,
    "source_hash": "d552e06b",
    "tags": []
   },
   "outputs": [],
   "source": [
    "d = {'a': 1, 'b': 2}"
   ]
  },
  {
   "cell_type": "code",
   "execution_count": 31,
   "metadata": {
    "cell_id": "00034-39e850f1-7518-43e7-b337-33f4565b64f9",
    "execution_millis": 1,
    "execution_start": 1604735906262,
    "output_cleared": false,
    "source_hash": "99cfc8db",
    "tags": []
   },
   "outputs": [],
   "source": [
    "keys = d.keys()"
   ]
  },
  {
   "cell_type": "code",
   "execution_count": 32,
   "metadata": {
    "cell_id": "00035-b8e49bd2-28f5-4f53-9d58-f40a48d1082d",
    "execution_millis": 4,
    "execution_start": 1604735910590,
    "output_cleared": false,
    "source_hash": "e57eb328",
    "tags": []
   },
   "outputs": [
    {
     "data": {
      "text/plain": [
       "(True, False)"
      ]
     },
     "execution_count": 32,
     "metadata": {},
     "output_type": "execute_result"
    }
   ],
   "source": [
    "'__iter__' in dir(keys), '__next__' in dir(keys)"
   ]
  },
  {
   "cell_type": "code",
   "execution_count": 33,
   "metadata": {
    "cell_id": "00036-5d286100-4223-470a-ad06-649ffc1ec389",
    "execution_millis": 1,
    "execution_start": 1604735931874,
    "output_cleared": false,
    "source_hash": "e3b62c83",
    "tags": []
   },
   "outputs": [
    {
     "data": {
      "text/plain": [
       "False"
      ]
     },
     "execution_count": 33,
     "metadata": {},
     "output_type": "execute_result"
    }
   ],
   "source": [
    "iter(keys) is keys"
   ]
  },
  {
   "cell_type": "code",
   "execution_count": 34,
   "metadata": {
    "cell_id": "00037-817f13f4-b5c6-4b09-914d-dd995d0c7dbe",
    "execution_millis": 1,
    "execution_start": 1604735999942,
    "output_cleared": false,
    "source_hash": "98ca41fe",
    "tags": []
   },
   "outputs": [
    {
     "data": {
      "text/plain": [
       "False"
      ]
     },
     "execution_count": 34,
     "metadata": {},
     "output_type": "execute_result"
    }
   ],
   "source": [
    "values = d.values()\n",
    "iter(values) is values"
   ]
  },
  {
   "cell_type": "code",
   "execution_count": 35,
   "metadata": {
    "cell_id": "00038-44b752b2-3525-4813-918c-5ab8e0d0923f",
    "execution_millis": 2,
    "execution_start": 1604736009782,
    "output_cleared": false,
    "source_hash": "e5dc8c81",
    "tags": []
   },
   "outputs": [
    {
     "data": {
      "text/plain": [
       "False"
      ]
     },
     "execution_count": 35,
     "metadata": {},
     "output_type": "execute_result"
    }
   ],
   "source": [
    "items = d.items()\n",
    "iter(items) is items"
   ]
  },
  {
   "cell_type": "code",
   "execution_count": 36,
   "metadata": {
    "cell_id": "00039-b0525852-5f23-4b13-af30-21110355c94d",
    "execution_millis": 2,
    "execution_start": 1604736055840,
    "output_cleared": false,
    "source_hash": "89047012",
    "tags": []
   },
   "outputs": [],
   "source": [
    "import random"
   ]
  },
  {
   "cell_type": "code",
   "execution_count": 37,
   "metadata": {
    "cell_id": "00040-31473b3c-fa6b-4dd8-90b9-bbb21564ff8a",
    "execution_millis": 3,
    "execution_start": 1604736059772,
    "output_cleared": false,
    "source_hash": "8044a131",
    "tags": []
   },
   "outputs": [],
   "source": [
    "random.seed(0)"
   ]
  },
  {
   "cell_type": "code",
   "execution_count": 38,
   "metadata": {
    "cell_id": "00041-ff33167e-1a17-4e2d-a1fc-fd96ec0f70a7",
    "execution_millis": 5,
    "execution_start": 1604736066116,
    "output_cleared": false,
    "source_hash": "5d189a0a",
    "tags": []
   },
   "outputs": [
    {
     "name": "stdout",
     "output_type": "stream",
     "text": [
      "7\n",
      "7\n",
      "1\n",
      "5\n",
      "9\n",
      "8\n",
      "7\n",
      "5\n",
      "8\n",
      "6\n"
     ]
    }
   ],
   "source": [
    "for i in range(10):\n",
    "    print(random.randint(1, 10))"
   ]
  },
  {
   "cell_type": "code",
   "execution_count": 39,
   "metadata": {
    "cell_id": "00042-764b2bba-3481-4d0a-9fdd-d8a60a1d22dc",
    "execution_millis": 3,
    "execution_start": 1604736098500,
    "output_cleared": false,
    "source_hash": "58f4370c",
    "tags": []
   },
   "outputs": [],
   "source": [
    "import random\n",
    "\n",
    "class RandomInts:\n",
    "    def __init__(self, length, *, seed=0, lower=0, upper=10):\n",
    "        self.length = length\n",
    "        self.seed = seed\n",
    "        self.lower = lower\n",
    "        self.upper = upper\n",
    "        \n",
    "    def __len__(self):\n",
    "        return self.length\n",
    "    \n",
    "    def __iter__(self):\n",
    "        return self.RandomIterator(self.length, \n",
    "                                   seed = self.seed, \n",
    "                                   lower = self.lower,\n",
    "                                   upper=self.upper)\n",
    "    \n",
    "    \n",
    "    class RandomIterator:\n",
    "        def __init__(self, length, *, seed, lower, upper):\n",
    "            self.length = length\n",
    "            self.lower = lower\n",
    "            self.upper = upper\n",
    "            self.num_requests = 0\n",
    "            random.seed(seed)\n",
    "            \n",
    "        def __iter__(self):\n",
    "            return self\n",
    "        \n",
    "        def __next__(self):\n",
    "            if self.num_requests >= self.length:\n",
    "                raise StopIteration\n",
    "            else:\n",
    "                result = random.randint(self.lower, self.upper)\n",
    "                self.num_requests += 1\n",
    "                return result"
   ]
  },
  {
   "cell_type": "code",
   "execution_count": 40,
   "metadata": {
    "cell_id": "00043-7d5dd291-6a48-45c4-a220-6c63d38ba4d2",
    "execution_millis": 2,
    "execution_start": 1604736107004,
    "output_cleared": false,
    "source_hash": "c1ec8060",
    "tags": []
   },
   "outputs": [],
   "source": [
    "randoms = RandomInts(10)"
   ]
  },
  {
   "cell_type": "code",
   "execution_count": 41,
   "metadata": {
    "cell_id": "00044-7e3e403e-f4a4-4d1c-8160-3d1e8c9a1edc",
    "execution_millis": 2,
    "execution_start": 1604736110496,
    "output_cleared": false,
    "source_hash": "49acaa71",
    "tags": []
   },
   "outputs": [
    {
     "name": "stdout",
     "output_type": "stream",
     "text": [
      "6\n",
      "6\n",
      "0\n",
      "4\n",
      "8\n",
      "7\n",
      "6\n",
      "4\n",
      "7\n",
      "5\n"
     ]
    }
   ],
   "source": [
    "for num in randoms:\n",
    "    print(num)"
   ]
  },
  {
   "cell_type": "code",
   "execution_count": 42,
   "metadata": {
    "cell_id": "00045-402e9672-dc34-4b43-a8db-1a722d1da570",
    "execution_millis": 42,
    "execution_start": 1604736124012,
    "output_cleared": false,
    "source_hash": "3526a8aa",
    "tags": []
   },
   "outputs": [
    {
     "data": {
      "text/plain": [
       "[0, 4, 4, 5, 6, 6, 6, 7, 7, 8]"
      ]
     },
     "execution_count": 42,
     "metadata": {},
     "output_type": "execute_result"
    }
   ],
   "source": [
    "sorted(randoms)"
   ]
  },
  {
   "cell_type": "code",
   "execution_count": 43,
   "metadata": {
    "cell_id": "00046-fcaeeec9-426a-4fc9-8609-bdb7d6a3f7d7",
    "execution_millis": 3,
    "execution_start": 1604736134768,
    "output_cleared": false,
    "source_hash": "a0b46f3d",
    "tags": []
   },
   "outputs": [
    {
     "data": {
      "text/plain": [
       "[8, 7, 7, 6, 6, 6, 5, 4, 4, 0]"
      ]
     },
     "execution_count": 43,
     "metadata": {},
     "output_type": "execute_result"
    }
   ],
   "source": [
    "sorted(randoms, reverse=True)"
   ]
  },
  {
   "cell_type": "markdown",
   "metadata": {
    "cell_id": "00047-e1cebd1e-bed2-4028-9e3f-610af21263e8",
    "tags": []
   },
   "source": [
    "### The `iter()` Function"
   ]
  },
  {
   "cell_type": "code",
   "execution_count": 44,
   "metadata": {
    "cell_id": "00047-832e772a-242f-4f69-84f2-35afa4b9766b",
    "execution_millis": 1,
    "execution_start": 1604736152494,
    "output_cleared": false,
    "source_hash": "d9297ab0",
    "tags": []
   },
   "outputs": [],
   "source": [
    "l = [1, 2, 3, 4]"
   ]
  },
  {
   "cell_type": "code",
   "execution_count": 45,
   "metadata": {
    "cell_id": "00049-0e79fdf4-8c09-4029-91cc-713f433aacb6",
    "execution_millis": 7,
    "execution_start": 1604736162421,
    "output_cleared": false,
    "source_hash": "41e7ec48",
    "tags": []
   },
   "outputs": [],
   "source": [
    "l_iter = iter(l)"
   ]
  },
  {
   "cell_type": "code",
   "execution_count": 46,
   "metadata": {
    "cell_id": "00050-08e2ac89-0725-4632-9876-4f2dd260104c",
    "execution_millis": 7,
    "execution_start": 1604736168326,
    "output_cleared": false,
    "source_hash": "b06c3f92",
    "tags": []
   },
   "outputs": [
    {
     "data": {
      "text/plain": [
       "list_iterator"
      ]
     },
     "execution_count": 46,
     "metadata": {},
     "output_type": "execute_result"
    }
   ],
   "source": [
    "type(l_iter)"
   ]
  },
  {
   "cell_type": "code",
   "execution_count": 47,
   "metadata": {
    "cell_id": "00051-b0a7c398-93ce-4b8b-b1ec-6eb3c03e6518",
    "execution_millis": 41,
    "execution_start": 1604736180324,
    "output_cleared": false,
    "source_hash": "4759feff",
    "tags": []
   },
   "outputs": [
    {
     "data": {
      "text/plain": [
       "1"
      ]
     },
     "execution_count": 47,
     "metadata": {},
     "output_type": "execute_result"
    }
   ],
   "source": [
    "next(l_iter)"
   ]
  },
  {
   "cell_type": "code",
   "execution_count": 48,
   "metadata": {
    "cell_id": "00052-d956a44c-f6b3-498b-8788-2e7bfb4b4a9c",
    "execution_millis": 3,
    "execution_start": 1604736181867,
    "output_cleared": false,
    "source_hash": "4759feff",
    "tags": []
   },
   "outputs": [
    {
     "data": {
      "text/plain": [
       "2"
      ]
     },
     "execution_count": 48,
     "metadata": {},
     "output_type": "execute_result"
    }
   ],
   "source": [
    "next(l_iter)"
   ]
  },
  {
   "cell_type": "code",
   "execution_count": 49,
   "metadata": {
    "cell_id": "00053-0e73858f-c2a3-4595-ad5c-1c460f720faa",
    "execution_millis": 4,
    "execution_start": 1604736183067,
    "output_cleared": false,
    "source_hash": "4759feff",
    "tags": []
   },
   "outputs": [
    {
     "data": {
      "text/plain": [
       "3"
      ]
     },
     "execution_count": 49,
     "metadata": {},
     "output_type": "execute_result"
    }
   ],
   "source": [
    "next(l_iter)"
   ]
  },
  {
   "cell_type": "code",
   "execution_count": 50,
   "metadata": {
    "cell_id": "00054-b7f70998-5a10-495c-b89c-7f06b91d3c49",
    "execution_millis": 3,
    "execution_start": 1604736184320,
    "output_cleared": false,
    "source_hash": "4759feff",
    "tags": []
   },
   "outputs": [
    {
     "data": {
      "text/plain": [
       "4"
      ]
     },
     "execution_count": 50,
     "metadata": {},
     "output_type": "execute_result"
    }
   ],
   "source": [
    "next(l_iter)"
   ]
  },
  {
   "cell_type": "code",
   "execution_count": 51,
   "metadata": {
    "cell_id": "00055-ab02b1ec-9af7-4086-bc28-e4b9083ee8d5",
    "execution_millis": 8,
    "execution_start": 1604736193098,
    "output_cleared": false,
    "source_hash": "4759feff",
    "tags": []
   },
   "outputs": [
    {
     "ename": "StopIteration",
     "evalue": "",
     "output_type": "error",
     "traceback": [
      "\u001b[0;31m---------------------------------------------------------------------------\u001b[0m",
      "\u001b[0;31mStopIteration\u001b[0m                             Traceback (most recent call last)",
      "\u001b[0;32m<ipython-input-51-43aece5a3964>\u001b[0m in \u001b[0;36m<module>\u001b[0;34m\u001b[0m\n\u001b[0;32m----> 1\u001b[0;31m \u001b[0mnext\u001b[0m\u001b[0;34m(\u001b[0m\u001b[0ml_iter\u001b[0m\u001b[0;34m)\u001b[0m\u001b[0;34m\u001b[0m\u001b[0;34m\u001b[0m\u001b[0m\n\u001b[0m",
      "\u001b[0;31mStopIteration\u001b[0m: "
     ]
    }
   ],
   "source": [
    "next(l_iter)"
   ]
  },
  {
   "cell_type": "code",
   "execution_count": 52,
   "metadata": {
    "cell_id": "00056-646e5c09-7bd2-495f-8f79-a8c704957710",
    "execution_millis": 41,
    "execution_start": 1604736228508,
    "output_cleared": false,
    "source_hash": "d0df64b2",
    "tags": []
   },
   "outputs": [],
   "source": [
    "class Squares:\n",
    "    def __init__(self, n):\n",
    "        self._n = n\n",
    "    \n",
    "    def __len__(self):\n",
    "        return self._n\n",
    "    \n",
    "    def __getitem__(self, i):\n",
    "        if i >= self._n:\n",
    "            raise IndexError\n",
    "        else:\n",
    "            return i ** 2"
   ]
  },
  {
   "cell_type": "code",
   "execution_count": 53,
   "metadata": {
    "cell_id": "00057-78e5fee4-f680-47db-9388-91e1d2ec11db",
    "execution_millis": 1,
    "execution_start": 1604736233912,
    "output_cleared": false,
    "source_hash": "288a5365",
    "tags": []
   },
   "outputs": [],
   "source": [
    "sq = Squares(5)"
   ]
  },
  {
   "cell_type": "code",
   "execution_count": 54,
   "metadata": {
    "cell_id": "00058-ca04f533-b63e-49ba-b3b7-f1ac60074095",
    "execution_millis": 3,
    "execution_start": 1604736237372,
    "output_cleared": false,
    "source_hash": "7fbbf69e",
    "tags": []
   },
   "outputs": [
    {
     "name": "stdout",
     "output_type": "stream",
     "text": [
      "0\n",
      "1\n",
      "4\n",
      "9\n",
      "16\n"
     ]
    }
   ],
   "source": [
    "for i in sq:\n",
    "    print(i)"
   ]
  },
  {
   "cell_type": "code",
   "execution_count": 55,
   "metadata": {
    "cell_id": "00059-bbd3eec7-90b9-40ee-94fe-425d4c8f4318",
    "execution_millis": 2,
    "execution_start": 1604736255351,
    "output_cleared": false,
    "source_hash": "10fb980e",
    "tags": []
   },
   "outputs": [],
   "source": [
    "sq_iter = iter(sq)"
   ]
  },
  {
   "cell_type": "code",
   "execution_count": 56,
   "metadata": {
    "cell_id": "00060-ff48699f-12ab-429d-9293-ffbd62f3bb8d",
    "execution_millis": 4,
    "execution_start": 1604736263315,
    "output_cleared": false,
    "source_hash": "9ccc08ab",
    "tags": []
   },
   "outputs": [
    {
     "data": {
      "text/plain": [
       "iterator"
      ]
     },
     "execution_count": 56,
     "metadata": {},
     "output_type": "execute_result"
    }
   ],
   "source": [
    "type(sq_iter)"
   ]
  },
  {
   "cell_type": "code",
   "execution_count": 57,
   "metadata": {
    "cell_id": "00061-81e1ca3e-f8c6-4173-b906-7226859bf843",
    "execution_millis": 2,
    "execution_start": 1604736270042,
    "output_cleared": false,
    "source_hash": "6fdb9e9a",
    "tags": []
   },
   "outputs": [
    {
     "data": {
      "text/plain": [
       "True"
      ]
     },
     "execution_count": 57,
     "metadata": {},
     "output_type": "execute_result"
    }
   ],
   "source": [
    "'__next__' in dir(sq_iter)"
   ]
  },
  {
   "cell_type": "markdown",
   "metadata": {
    "cell_id": "00062-1756884b-6191-45ce-9c23-25471be76b98",
    "tags": []
   },
   "source": [
    "What happens is that Python will first try to get the iterator by invoking the `__iter__` method on our object.\n",
    "\n",
    "If it does not have that method, it will look for `__getitem__` next - if it's there it will create an iterator for us that will leverage `__getitem__` and the fact that sequence indices should start at 0.\n",
    "\n",
    "If neither `__iter__` nor `__getitem__` are found, then we'll get an exception such as this one:"
   ]
  },
  {
   "cell_type": "code",
   "execution_count": 58,
   "metadata": {
    "cell_id": "00062-1c0f1152-423b-4b0d-bb52-26b7919bc87e",
    "execution_millis": 1,
    "execution_start": 1604736313251,
    "output_cleared": false,
    "source_hash": "c7233622",
    "tags": []
   },
   "outputs": [
    {
     "ename": "TypeError",
     "evalue": "'int' object is not iterable",
     "output_type": "error",
     "traceback": [
      "\u001b[0;31m---------------------------------------------------------------------------\u001b[0m",
      "\u001b[0;31mTypeError\u001b[0m                                 Traceback (most recent call last)",
      "\u001b[0;32m<ipython-input-58-665a8c31cf25>\u001b[0m in \u001b[0;36m<module>\u001b[0;34m\u001b[0m\n\u001b[0;32m----> 1\u001b[0;31m \u001b[0;32mfor\u001b[0m \u001b[0mi\u001b[0m \u001b[0;32min\u001b[0m \u001b[0;36m10\u001b[0m\u001b[0;34m:\u001b[0m\u001b[0;34m\u001b[0m\u001b[0;34m\u001b[0m\u001b[0m\n\u001b[0m\u001b[1;32m      2\u001b[0m     \u001b[0mprint\u001b[0m\u001b[0;34m(\u001b[0m\u001b[0mi\u001b[0m\u001b[0;34m)\u001b[0m\u001b[0;34m\u001b[0m\u001b[0;34m\u001b[0m\u001b[0m\n",
      "\u001b[0;31mTypeError\u001b[0m: 'int' object is not iterable"
     ]
    }
   ],
   "source": [
    "for i in 10:\n",
    "    print(i)"
   ]
  },
  {
   "cell_type": "code",
   "execution_count": 59,
   "metadata": {
    "cell_id": "00064-859eae37-066f-4c5d-94e6-3dc2d3e9903b",
    "execution_millis": 41,
    "execution_start": 1604736330092,
    "output_cleared": false,
    "source_hash": "d0df64b2",
    "tags": []
   },
   "outputs": [],
   "source": [
    "class Squares:\n",
    "    def __init__(self, n):\n",
    "        self._n = n\n",
    "    \n",
    "    def __len__(self):\n",
    "        return self._n\n",
    "    \n",
    "    def __getitem__(self, i):\n",
    "        if i >= self._n:\n",
    "            raise IndexError\n",
    "        else:\n",
    "            return i ** 2"
   ]
  },
  {
   "cell_type": "code",
   "execution_count": 60,
   "metadata": {
    "cell_id": "00065-e618666f-b1e3-4bd5-9349-0d1fb8e09991",
    "execution_millis": 3,
    "execution_start": 1604736340673,
    "output_cleared": false,
    "source_hash": "ff7b5947",
    "tags": []
   },
   "outputs": [],
   "source": [
    "class SquaresIterator:\n",
    "    def __init__(self, squares):\n",
    "        self._squares = squares\n",
    "        self._i = 0\n",
    "        \n",
    "    def __iter__(self):\n",
    "        return self\n",
    "    \n",
    "    def __next__(self):\n",
    "        if self._i >= len(self._squares):\n",
    "            raise StopIteration\n",
    "        else:\n",
    "            result = self._squares[self._i]\n",
    "            self._i += 1\n",
    "            return result"
   ]
  },
  {
   "cell_type": "code",
   "execution_count": 61,
   "metadata": {
    "cell_id": "00066-d947d6fc-f924-402c-9e70-3440bfaf7867",
    "execution_millis": 3,
    "execution_start": 1604736346069,
    "output_cleared": false,
    "source_hash": "b566e13",
    "tags": []
   },
   "outputs": [],
   "source": [
    "sq = Squares(5)\n",
    "sq_iterator = SquaresIterator(sq)"
   ]
  },
  {
   "cell_type": "code",
   "execution_count": 63,
   "metadata": {
    "cell_id": "00067-ece80c07-09f7-49e3-94a6-9f8fb348d27f",
    "execution_millis": 5,
    "execution_start": 1604736365904,
    "output_cleared": false,
    "source_hash": "a2cb5f14",
    "tags": []
   },
   "outputs": [
    {
     "data": {
      "text/plain": [
       "__main__.SquaresIterator"
      ]
     },
     "execution_count": 63,
     "metadata": {},
     "output_type": "execute_result"
    }
   ],
   "source": [
    "type(sq_iterator)"
   ]
  },
  {
   "cell_type": "code",
   "execution_count": 64,
   "metadata": {
    "cell_id": "00068-4e0efd72-6148-404d-98c9-cd2dd2365b16",
    "execution_millis": 6,
    "execution_start": 1604736371640,
    "output_cleared": false,
    "source_hash": "333cf83e",
    "tags": []
   },
   "outputs": [
    {
     "name": "stdout",
     "output_type": "stream",
     "text": [
      "0\n",
      "1\n",
      "4\n",
      "9\n",
      "16\n"
     ]
    }
   ],
   "source": [
    "print(next(sq_iterator))\n",
    "print(next(sq_iterator))\n",
    "print(next(sq_iterator))\n",
    "print(next(sq_iterator))\n",
    "print(next(sq_iterator))"
   ]
  },
  {
   "cell_type": "code",
   "execution_count": 65,
   "metadata": {
    "cell_id": "00069-0c18522e-b21e-434d-9dcd-c2a331a0daaa",
    "execution_millis": 24,
    "execution_start": 1604736378362,
    "output_cleared": false,
    "source_hash": "bcdbcd00",
    "tags": []
   },
   "outputs": [
    {
     "ename": "StopIteration",
     "evalue": "",
     "output_type": "error",
     "traceback": [
      "\u001b[0;31m---------------------------------------------------------------------------\u001b[0m",
      "\u001b[0;31mStopIteration\u001b[0m                             Traceback (most recent call last)",
      "\u001b[0;32m<ipython-input-65-cbfceb8b0845>\u001b[0m in \u001b[0;36m<module>\u001b[0;34m\u001b[0m\n\u001b[0;32m----> 1\u001b[0;31m \u001b[0mprint\u001b[0m\u001b[0;34m(\u001b[0m\u001b[0mnext\u001b[0m\u001b[0;34m(\u001b[0m\u001b[0msq_iterator\u001b[0m\u001b[0;34m)\u001b[0m\u001b[0;34m)\u001b[0m\u001b[0;34m\u001b[0m\u001b[0;34m\u001b[0m\u001b[0m\n\u001b[0m",
      "\u001b[0;32m<ipython-input-60-89c908711525>\u001b[0m in \u001b[0;36m__next__\u001b[0;34m(self)\u001b[0m\n\u001b[1;32m      9\u001b[0m     \u001b[0;32mdef\u001b[0m \u001b[0m__next__\u001b[0m\u001b[0;34m(\u001b[0m\u001b[0mself\u001b[0m\u001b[0;34m)\u001b[0m\u001b[0;34m:\u001b[0m\u001b[0;34m\u001b[0m\u001b[0;34m\u001b[0m\u001b[0m\n\u001b[1;32m     10\u001b[0m         \u001b[0;32mif\u001b[0m \u001b[0mself\u001b[0m\u001b[0;34m.\u001b[0m\u001b[0m_i\u001b[0m \u001b[0;34m>=\u001b[0m \u001b[0mlen\u001b[0m\u001b[0;34m(\u001b[0m\u001b[0mself\u001b[0m\u001b[0;34m.\u001b[0m\u001b[0m_squares\u001b[0m\u001b[0;34m)\u001b[0m\u001b[0;34m:\u001b[0m\u001b[0;34m\u001b[0m\u001b[0;34m\u001b[0m\u001b[0m\n\u001b[0;32m---> 11\u001b[0;31m             \u001b[0;32mraise\u001b[0m \u001b[0mStopIteration\u001b[0m\u001b[0;34m\u001b[0m\u001b[0;34m\u001b[0m\u001b[0m\n\u001b[0m\u001b[1;32m     12\u001b[0m         \u001b[0;32melse\u001b[0m\u001b[0;34m:\u001b[0m\u001b[0;34m\u001b[0m\u001b[0;34m\u001b[0m\u001b[0m\n\u001b[1;32m     13\u001b[0m             \u001b[0mresult\u001b[0m \u001b[0;34m=\u001b[0m \u001b[0mself\u001b[0m\u001b[0;34m.\u001b[0m\u001b[0m_squares\u001b[0m\u001b[0;34m[\u001b[0m\u001b[0mself\u001b[0m\u001b[0;34m.\u001b[0m\u001b[0m_i\u001b[0m\u001b[0;34m]\u001b[0m\u001b[0;34m\u001b[0m\u001b[0;34m\u001b[0m\u001b[0m\n",
      "\u001b[0;31mStopIteration\u001b[0m: "
     ]
    }
   ],
   "source": [
    "print(next(sq_iterator))"
   ]
  },
  {
   "cell_type": "code",
   "execution_count": 66,
   "metadata": {
    "cell_id": "00070-32e6ef2b-2a34-4562-9017-098bcef3f5f8",
    "execution_millis": 39,
    "execution_start": 1604736410867,
    "output_cleared": false,
    "source_hash": "c3bffc8d",
    "tags": []
   },
   "outputs": [],
   "source": [
    "class SquaresIterator:\n",
    "    def __init__(self, squares):\n",
    "        self._squares = squares\n",
    "        self._i = 0\n",
    "        \n",
    "    def __iter__(self):\n",
    "        return self\n",
    "    \n",
    "    def __next__(self):\n",
    "        try:\n",
    "            result = self._squares[self._i]\n",
    "            self._i += 1\n",
    "            return result\n",
    "        except IndexError:\n",
    "            raise StopIteration()"
   ]
  },
  {
   "cell_type": "code",
   "execution_count": 67,
   "metadata": {
    "cell_id": "00071-c97e16b2-e966-4976-910f-37c357fd444e",
    "execution_millis": 3,
    "execution_start": 1604736416896,
    "output_cleared": false,
    "source_hash": "80f0108f",
    "tags": []
   },
   "outputs": [],
   "source": [
    "sq_iterator = SquaresIterator(sq)"
   ]
  },
  {
   "cell_type": "code",
   "execution_count": 69,
   "metadata": {
    "cell_id": "00072-dd1e87fd-0a41-4bb7-bbae-37f5350c7c0e",
    "execution_millis": 0,
    "execution_start": 1604736442343,
    "output_cleared": false,
    "source_hash": "77d30816",
    "tags": []
   },
   "outputs": [
    {
     "name": "stdout",
     "output_type": "stream",
     "text": [
      "0\n",
      "1\n",
      "4\n",
      "9\n",
      "16\n"
     ]
    }
   ],
   "source": [
    "for i in sq_iterator:\n",
    "    print(i)"
   ]
  },
  {
   "cell_type": "code",
   "execution_count": 70,
   "metadata": {
    "cell_id": "00073-792dbabf-f0e9-4728-a594-56f3abe5df4f",
    "execution_start": 1604736489731,
    "output_cleared": false,
    "source_hash": "6b38b181",
    "tags": []
   },
   "outputs": [],
   "source": [
    "class SimpleIter:\n",
    "    def __init__(self):\n",
    "        pass\n",
    "    \n",
    "    def __iter__(self):\n",
    "        return 'Nope'"
   ]
  },
  {
   "cell_type": "code",
   "execution_count": 71,
   "metadata": {
    "cell_id": "00074-5d6d4097-b073-457a-8d55-6449defaf72b",
    "execution_millis": 1,
    "execution_start": 1604736495404,
    "output_cleared": false,
    "source_hash": "80eb5733",
    "tags": []
   },
   "outputs": [],
   "source": [
    "s = SimpleIter()"
   ]
  },
  {
   "cell_type": "code",
   "execution_count": 72,
   "metadata": {
    "cell_id": "00075-7cdf9d3b-3f0e-469f-94a7-c3612c3420d6",
    "execution_millis": 6,
    "execution_start": 1604736499103,
    "output_cleared": false,
    "source_hash": "fb5e9864",
    "tags": []
   },
   "outputs": [
    {
     "data": {
      "text/plain": [
       "True"
      ]
     },
     "execution_count": 72,
     "metadata": {},
     "output_type": "execute_result"
    }
   ],
   "source": [
    "'__iter__' in dir(s)"
   ]
  },
  {
   "cell_type": "code",
   "execution_count": 73,
   "metadata": {
    "cell_id": "00076-5f1ead1a-a50c-436b-9d76-2d1813ab3a7e",
    "execution_millis": 1,
    "execution_start": 1604736504721,
    "output_cleared": false,
    "source_hash": "29f7e905",
    "tags": []
   },
   "outputs": [
    {
     "ename": "TypeError",
     "evalue": "iter() returned non-iterator of type 'str'",
     "output_type": "error",
     "traceback": [
      "\u001b[0;31m---------------------------------------------------------------------------\u001b[0m",
      "\u001b[0;31mTypeError\u001b[0m                                 Traceback (most recent call last)",
      "\u001b[0;32m<ipython-input-73-2a48cc1f1cdf>\u001b[0m in \u001b[0;36m<module>\u001b[0;34m\u001b[0m\n\u001b[0;32m----> 1\u001b[0;31m \u001b[0miter\u001b[0m\u001b[0;34m(\u001b[0m\u001b[0ms\u001b[0m\u001b[0;34m)\u001b[0m\u001b[0;34m\u001b[0m\u001b[0;34m\u001b[0m\u001b[0m\n\u001b[0m",
      "\u001b[0;31mTypeError\u001b[0m: iter() returned non-iterator of type 'str'"
     ]
    }
   ],
   "source": [
    "iter(s)"
   ]
  },
  {
   "cell_type": "code",
   "execution_count": 74,
   "metadata": {
    "cell_id": "00077-a60edd88-5caf-453c-b660-7fd96f5f1077",
    "execution_millis": 0,
    "execution_start": 1604736536091,
    "output_cleared": false,
    "source_hash": "547b8fa8",
    "tags": []
   },
   "outputs": [],
   "source": [
    "def is_iterable(obj):\n",
    "    try:\n",
    "        iter(obj)\n",
    "        return True\n",
    "    except TypeError:\n",
    "        return False"
   ]
  },
  {
   "cell_type": "code",
   "execution_count": 75,
   "metadata": {
    "cell_id": "00078-6ea43316-1f3b-4877-881b-9a72ab81f699",
    "execution_millis": 11,
    "execution_start": 1604736540238,
    "output_cleared": false,
    "source_hash": "c163b394",
    "tags": []
   },
   "outputs": [
    {
     "data": {
      "text/plain": [
       "False"
      ]
     },
     "execution_count": 75,
     "metadata": {},
     "output_type": "execute_result"
    }
   ],
   "source": [
    "is_iterable(SimpleIter())"
   ]
  },
  {
   "cell_type": "code",
   "execution_count": 76,
   "metadata": {
    "cell_id": "00079-c2c53952-93f3-48bd-84a7-c0123c92a7c3",
    "execution_millis": 6,
    "execution_start": 1604736545185,
    "output_cleared": false,
    "source_hash": "585855bf",
    "tags": []
   },
   "outputs": [
    {
     "data": {
      "text/plain": [
       "True"
      ]
     },
     "execution_count": 76,
     "metadata": {},
     "output_type": "execute_result"
    }
   ],
   "source": [
    "is_iterable(Squares(5))"
   ]
  },
  {
   "cell_type": "code",
   "execution_count": 77,
   "metadata": {
    "cell_id": "00080-9a243c84-04c6-4284-b3d6-ed996c685aba",
    "execution_millis": 1,
    "execution_start": 1604736605615,
    "output_cleared": false,
    "source_hash": "c8a90ab3",
    "tags": []
   },
   "outputs": [],
   "source": [
    "def counter():\n",
    "    i = 0\n",
    "    \n",
    "    def inc():\n",
    "        nonlocal i\n",
    "        i += 1\n",
    "        return i\n",
    "    return inc"
   ]
  },
  {
   "cell_type": "code",
   "execution_count": 78,
   "metadata": {
    "cell_id": "00081-1a6c61a4-014a-4766-a32b-9993e4412e0c",
    "execution_millis": 6,
    "execution_start": 1604736611943,
    "output_cleared": false,
    "source_hash": "674ce922",
    "tags": []
   },
   "outputs": [],
   "source": [
    "cnt = counter()"
   ]
  },
  {
   "cell_type": "code",
   "execution_count": 79,
   "metadata": {
    "cell_id": "00082-a922cff8-532a-401e-87ab-5039463ac937",
    "execution_millis": 8,
    "execution_start": 1604736617376,
    "output_cleared": false,
    "source_hash": "fc2e2d9b",
    "tags": []
   },
   "outputs": [
    {
     "data": {
      "text/plain": [
       "1"
      ]
     },
     "execution_count": 79,
     "metadata": {},
     "output_type": "execute_result"
    }
   ],
   "source": [
    "cnt()"
   ]
  },
  {
   "cell_type": "code",
   "execution_count": 80,
   "metadata": {
    "cell_id": "00083-8177c7fc-4de1-49ee-b2d6-a67db93d3f32",
    "execution_millis": 1,
    "execution_start": 1604736621151,
    "output_cleared": false,
    "source_hash": "fc2e2d9b",
    "tags": []
   },
   "outputs": [
    {
     "data": {
      "text/plain": [
       "2"
      ]
     },
     "execution_count": 80,
     "metadata": {},
     "output_type": "execute_result"
    }
   ],
   "source": [
    "cnt()"
   ]
  },
  {
   "cell_type": "code",
   "execution_count": 81,
   "metadata": {
    "cell_id": "00084-b898bea9-80e0-467e-8c2b-393674eeff77",
    "execution_millis": 4,
    "execution_start": 1604736639575,
    "output_cleared": false,
    "source_hash": "5988dd65",
    "tags": []
   },
   "outputs": [],
   "source": [
    "class CounterIterator:\n",
    "    def __init__(self, counter_callable):\n",
    "        self.counter_callable = counter_callable\n",
    "        \n",
    "    def __iter__(self):\n",
    "        return self\n",
    "    \n",
    "    def __next__(self):\n",
    "        return self.counter_callable()"
   ]
  },
  {
   "cell_type": "code",
   "execution_count": 82,
   "metadata": {
    "cell_id": "00085-6cc01f63-60d6-4702-8719-c96c5ee9614e",
    "execution_millis": 1,
    "execution_start": 1604736684721,
    "output_cleared": false,
    "source_hash": "153a0975",
    "tags": []
   },
   "outputs": [
    {
     "name": "stdout",
     "output_type": "stream",
     "text": [
      "1\n",
      "2\n",
      "3\n",
      "4\n",
      "5\n"
     ]
    }
   ],
   "source": [
    "cnt = counter()\n",
    "cnt_iter = CounterIterator(cnt)\n",
    "for _ in range(5):\n",
    "    print(next(cnt_iter))"
   ]
  },
  {
   "cell_type": "code",
   "execution_count": 84,
   "metadata": {
    "cell_id": "00086-7e2ed23d-fc22-4f59-a748-ff66a83f2d47",
    "execution_millis": 37,
    "execution_start": 1604736737013,
    "output_cleared": false,
    "source_hash": "189942df",
    "tags": []
   },
   "outputs": [],
   "source": [
    "class CounterIterator:\n",
    "    def __init__(self, counter_callable, stop_value):\n",
    "        self.counter_callable = counter_callable\n",
    "        self.stop_value = stop_value\n",
    "        \n",
    "    def __iter__(self):\n",
    "        return self\n",
    "    \n",
    "    def __next__(self):\n",
    "        result = self.counter_callable()\n",
    "        if result == self.stop_value:\n",
    "            raise StopIteration\n",
    "        else:\n",
    "            return result"
   ]
  },
  {
   "cell_type": "code",
   "execution_count": 85,
   "metadata": {
    "cell_id": "00087-b8b144ee-dd0b-40d9-993a-f041ad694b08",
    "execution_millis": 3,
    "execution_start": 1604736737884,
    "output_cleared": false,
    "source_hash": "b495a39b",
    "tags": []
   },
   "outputs": [
    {
     "name": "stdout",
     "output_type": "stream",
     "text": [
      "1\n",
      "2\n",
      "3\n",
      "4\n"
     ]
    }
   ],
   "source": [
    "cnt = counter()\n",
    "cnt_iter = CounterIterator(cnt, 5)\n",
    "for c in cnt_iter:\n",
    "    print(c)"
   ]
  },
  {
   "cell_type": "code",
   "execution_count": 86,
   "metadata": {
    "cell_id": "00088-7e6130db-7471-4ca1-bbc0-a0bc73f6a0b3",
    "execution_millis": 1,
    "execution_start": 1604736756898,
    "output_cleared": false,
    "source_hash": "ce91b6fa",
    "tags": []
   },
   "outputs": [
    {
     "data": {
      "text/plain": [
       "6"
      ]
     },
     "execution_count": 86,
     "metadata": {},
     "output_type": "execute_result"
    }
   ],
   "source": [
    "next(cnt_iter)"
   ]
  },
  {
   "cell_type": "code",
   "execution_count": 87,
   "metadata": {
    "cell_id": "00089-340b8d3a-352d-44c3-ab74-224f8be8c266",
    "execution_millis": 1,
    "execution_start": 1604736769858,
    "output_cleared": false,
    "source_hash": "ce91b6fa",
    "tags": []
   },
   "outputs": [
    {
     "data": {
      "text/plain": [
       "7"
      ]
     },
     "execution_count": 87,
     "metadata": {},
     "output_type": "execute_result"
    }
   ],
   "source": [
    "next(cnt_iter)"
   ]
  },
  {
   "cell_type": "code",
   "execution_count": 88,
   "metadata": {
    "cell_id": "00090-c5c53f12-cb8a-4992-b803-57b3f6af6410",
    "execution_millis": 1,
    "execution_start": 1604736785987,
    "output_cleared": false,
    "source_hash": "e4afb30f",
    "tags": []
   },
   "outputs": [],
   "source": [
    "class CounterIterator:\n",
    "    def __init__(self, counter_callable, sentinel):\n",
    "        self.counter_callable = counter_callable\n",
    "        self.sentinel = sentinel\n",
    "        self.is_consumed = False\n",
    "        \n",
    "    def __iter__(self):\n",
    "        return self\n",
    "    \n",
    "    def __next__(self):\n",
    "        if self.is_consumed:\n",
    "            raise StopIteration\n",
    "        else:\n",
    "            result = self.counter_callable()\n",
    "            if result == self.sentinel:\n",
    "                self.is_consumed = True\n",
    "                raise StopIteration\n",
    "            else:\n",
    "                return result"
   ]
  },
  {
   "cell_type": "code",
   "execution_count": 89,
   "metadata": {
    "cell_id": "00091-f033d870-ceb4-45ba-a711-b83c7bc6c17e",
    "execution_millis": 23,
    "execution_start": 1604736798765,
    "output_cleared": false,
    "source_hash": "8830ce41",
    "tags": []
   },
   "outputs": [
    {
     "name": "stdout",
     "output_type": "stream",
     "text": [
      "1\n",
      "2\n",
      "3\n",
      "4\n"
     ]
    },
    {
     "ename": "StopIteration",
     "evalue": "",
     "output_type": "error",
     "traceback": [
      "\u001b[0;31m---------------------------------------------------------------------------\u001b[0m",
      "\u001b[0;31mStopIteration\u001b[0m                             Traceback (most recent call last)",
      "\u001b[0;32m<ipython-input-89-a5da1e2bad36>\u001b[0m in \u001b[0;36m<module>\u001b[0;34m\u001b[0m\n\u001b[1;32m      4\u001b[0m     \u001b[0mprint\u001b[0m\u001b[0;34m(\u001b[0m\u001b[0mc\u001b[0m\u001b[0;34m)\u001b[0m\u001b[0;34m\u001b[0m\u001b[0;34m\u001b[0m\u001b[0m\n\u001b[1;32m      5\u001b[0m \u001b[0;34m\u001b[0m\u001b[0m\n\u001b[0;32m----> 6\u001b[0;31m \u001b[0mnext\u001b[0m\u001b[0;34m(\u001b[0m\u001b[0mcnt_iter\u001b[0m\u001b[0;34m)\u001b[0m\u001b[0;34m\u001b[0m\u001b[0;34m\u001b[0m\u001b[0m\n\u001b[0m",
      "\u001b[0;32m<ipython-input-88-9ef0a22c18fe>\u001b[0m in \u001b[0;36m__next__\u001b[0;34m(self)\u001b[0m\n\u001b[1;32m     10\u001b[0m     \u001b[0;32mdef\u001b[0m \u001b[0m__next__\u001b[0m\u001b[0;34m(\u001b[0m\u001b[0mself\u001b[0m\u001b[0;34m)\u001b[0m\u001b[0;34m:\u001b[0m\u001b[0;34m\u001b[0m\u001b[0;34m\u001b[0m\u001b[0m\n\u001b[1;32m     11\u001b[0m         \u001b[0;32mif\u001b[0m \u001b[0mself\u001b[0m\u001b[0;34m.\u001b[0m\u001b[0mis_consumed\u001b[0m\u001b[0;34m:\u001b[0m\u001b[0;34m\u001b[0m\u001b[0;34m\u001b[0m\u001b[0m\n\u001b[0;32m---> 12\u001b[0;31m             \u001b[0;32mraise\u001b[0m \u001b[0mStopIteration\u001b[0m\u001b[0;34m\u001b[0m\u001b[0;34m\u001b[0m\u001b[0m\n\u001b[0m\u001b[1;32m     13\u001b[0m         \u001b[0;32melse\u001b[0m\u001b[0;34m:\u001b[0m\u001b[0;34m\u001b[0m\u001b[0;34m\u001b[0m\u001b[0m\n\u001b[1;32m     14\u001b[0m             \u001b[0mresult\u001b[0m \u001b[0;34m=\u001b[0m \u001b[0mself\u001b[0m\u001b[0;34m.\u001b[0m\u001b[0mcounter_callable\u001b[0m\u001b[0;34m(\u001b[0m\u001b[0;34m)\u001b[0m\u001b[0;34m\u001b[0m\u001b[0;34m\u001b[0m\u001b[0m\n",
      "\u001b[0;31mStopIteration\u001b[0m: "
     ]
    }
   ],
   "source": [
    "cnt = counter()\n",
    "cnt_iter = CounterIterator(cnt, 5)\n",
    "for c in cnt_iter:\n",
    "    print(c)\n",
    "\n",
    "next(cnt_iter)"
   ]
  },
  {
   "cell_type": "code",
   "execution_count": 90,
   "metadata": {
    "cell_id": "00092-fc44e33c-f447-4d88-a7a5-ff3377f812d1",
    "execution_millis": 3,
    "execution_start": 1604736823291,
    "output_cleared": false,
    "source_hash": "487fb571",
    "tags": []
   },
   "outputs": [
    {
     "name": "stdout",
     "output_type": "stream",
     "text": [
      "Help on built-in function iter in module builtins:\n",
      "\n",
      "iter(...)\n",
      "    iter(iterable) -> iterator\n",
      "    iter(callable, sentinel) -> iterator\n",
      "    \n",
      "    Get an iterator from an object.  In the first form, the argument must\n",
      "    supply its own iterator, or be a sequence.\n",
      "    In the second form, the callable is called until it returns the sentinel.\n",
      "\n"
     ]
    }
   ],
   "source": [
    "help(iter)"
   ]
  },
  {
   "cell_type": "code",
   "execution_count": 91,
   "metadata": {
    "cell_id": "00093-6c2566bb-bbd3-47d7-ac8b-6647baaa5471",
    "execution_millis": 41,
    "execution_start": 1604736846710,
    "output_cleared": false,
    "source_hash": "a7c623e8",
    "tags": []
   },
   "outputs": [
    {
     "name": "stdout",
     "output_type": "stream",
     "text": [
      "1\n",
      "2\n",
      "3\n",
      "4\n"
     ]
    }
   ],
   "source": [
    "cnt = counter()\n",
    "cnt_iter = iter(cnt, 5)\n",
    "for c in cnt_iter:\n",
    "    print(c)"
   ]
  },
  {
   "cell_type": "code",
   "execution_count": 92,
   "metadata": {
    "cell_id": "00094-e5a8162c-99eb-4843-9890-6e50cb00e10a",
    "execution_millis": 8,
    "execution_start": 1604736856839,
    "output_cleared": false,
    "source_hash": "ce91b6fa",
    "tags": []
   },
   "outputs": [
    {
     "ename": "StopIteration",
     "evalue": "",
     "output_type": "error",
     "traceback": [
      "\u001b[0;31m---------------------------------------------------------------------------\u001b[0m",
      "\u001b[0;31mStopIteration\u001b[0m                             Traceback (most recent call last)",
      "\u001b[0;32m<ipython-input-92-aef2a85506ec>\u001b[0m in \u001b[0;36m<module>\u001b[0;34m\u001b[0m\n\u001b[0;32m----> 1\u001b[0;31m \u001b[0mnext\u001b[0m\u001b[0;34m(\u001b[0m\u001b[0mcnt_iter\u001b[0m\u001b[0;34m)\u001b[0m\u001b[0;34m\u001b[0m\u001b[0;34m\u001b[0m\u001b[0m\n\u001b[0m",
      "\u001b[0;31mStopIteration\u001b[0m: "
     ]
    }
   ],
   "source": [
    "next(cnt_iter)"
   ]
  },
  {
   "cell_type": "code",
   "execution_count": 93,
   "metadata": {
    "cell_id": "00095-dce5513c-1137-465c-85c0-af005e6c805a",
    "execution_millis": 0,
    "execution_start": 1604736869737,
    "output_cleared": false,
    "source_hash": "89047012",
    "tags": []
   },
   "outputs": [],
   "source": [
    "import random"
   ]
  },
  {
   "cell_type": "code",
   "execution_count": 94,
   "metadata": {
    "cell_id": "00096-5728baed-6792-4301-a637-0f235d94b739",
    "execution_millis": 4,
    "execution_start": 1604736874970,
    "output_cleared": false,
    "source_hash": "ced06500",
    "tags": []
   },
   "outputs": [
    {
     "name": "stdout",
     "output_type": "stream",
     "text": [
      "0 6\n",
      "1 6\n",
      "2 0\n",
      "3 4\n",
      "4 8\n",
      "5 7\n",
      "6 6\n",
      "7 4\n",
      "8 7\n",
      "9 5\n"
     ]
    }
   ],
   "source": [
    "random.seed(0)\n",
    "for i in range(10):\n",
    "    print(i, random.randint(0, 10))"
   ]
  },
  {
   "cell_type": "code",
   "execution_count": 95,
   "metadata": {
    "cell_id": "00097-cc13da0d-eebb-4f14-bf45-4db1aec64738",
    "execution_millis": 0,
    "execution_start": 1604736904645,
    "output_cleared": false,
    "source_hash": "903975df",
    "tags": []
   },
   "outputs": [],
   "source": [
    "random_iterator = iter(lambda : random.randint(0, 10), 8)"
   ]
  },
  {
   "cell_type": "code",
   "execution_count": 96,
   "metadata": {
    "cell_id": "00098-624db5b1-29fb-410d-8b88-0ca7e32e4322",
    "execution_millis": 1,
    "execution_start": 1604736908788,
    "output_cleared": false,
    "source_hash": "ab598a50",
    "tags": []
   },
   "outputs": [
    {
     "name": "stdout",
     "output_type": "stream",
     "text": [
      "6\n",
      "6\n",
      "0\n",
      "4\n"
     ]
    }
   ],
   "source": [
    "random.seed(0)\n",
    "\n",
    "for num in random_iterator:\n",
    "    print(num)"
   ]
  },
  {
   "cell_type": "code",
   "execution_count": 98,
   "metadata": {
    "cell_id": "00099-ae0e2dde-5d83-4d80-9ea7-4f833bb11e7a",
    "execution_millis": 0,
    "execution_start": 1604736944499,
    "output_cleared": false,
    "source_hash": "9744e01a",
    "tags": []
   },
   "outputs": [],
   "source": [
    "def countdown(start=10):\n",
    "    def run():\n",
    "        nonlocal start\n",
    "        start -= 1\n",
    "        return start\n",
    "    return run"
   ]
  },
  {
   "cell_type": "code",
   "execution_count": 99,
   "metadata": {
    "cell_id": "00100-6182ee87-59ec-40fe-aa1b-12fdd8321673",
    "execution_millis": 42,
    "execution_start": 1604736954758,
    "output_cleared": false,
    "source_hash": "2a688ce0",
    "tags": []
   },
   "outputs": [
    {
     "name": "stdout",
     "output_type": "stream",
     "text": [
      "9\n",
      "8\n",
      "7\n",
      "6\n",
      "5\n",
      "4\n",
      "3\n",
      "2\n",
      "1\n",
      "0\n",
      "-1\n",
      "-2\n",
      "-3\n",
      "-4\n",
      "-5\n"
     ]
    }
   ],
   "source": [
    "takeoff = countdown(10)\n",
    "for _ in range(15):\n",
    "    print(takeoff())"
   ]
  },
  {
   "cell_type": "code",
   "execution_count": 100,
   "metadata": {
    "cell_id": "00101-40d99fa7-4e1e-4202-980b-e969abd10d6d",
    "execution_millis": 1,
    "execution_start": 1604736975669,
    "output_cleared": false,
    "source_hash": "3b398cb8",
    "tags": []
   },
   "outputs": [
    {
     "name": "stdout",
     "output_type": "stream",
     "text": [
      "9\n",
      "8\n",
      "7\n",
      "6\n",
      "5\n",
      "4\n",
      "3\n",
      "2\n",
      "1\n",
      "0\n"
     ]
    }
   ],
   "source": [
    "takeoff  = countdown(10)\n",
    "takeoff_iter = iter(takeoff, -1)\n",
    "\n",
    "for val in takeoff_iter:\n",
    "    print(val)"
   ]
  },
  {
   "cell_type": "code",
   "execution_count": 101,
   "metadata": {
    "cell_id": "00102-6f0c7c5d-1ed9-4d67-a7d6-0a9de2a6fe39",
    "execution_millis": 0,
    "execution_start": 1604737008468,
    "output_cleared": false,
    "source_hash": "c3ad07aa",
    "tags": []
   },
   "outputs": [],
   "source": [
    "from collections import namedtuple\n",
    "\n",
    "Person = namedtuple('Person', 'first last')"
   ]
  },
  {
   "cell_type": "code",
   "execution_count": 109,
   "metadata": {
    "cell_id": "00103-45d02308-aa15-4bd8-b92e-df87973530d7",
    "execution_millis": 41,
    "execution_start": 1604737106446,
    "output_cleared": false,
    "source_hash": "19d9076d",
    "tags": []
   },
   "outputs": [],
   "source": [
    "class PersonNames:\n",
    "    def __init__(self, persons):\n",
    "        try:\n",
    "            self._persons = [person.first.capitalize()\n",
    "                             + ' ' + person.last.capitalize()\n",
    "                            for person in persons]\n",
    "        except (TypeError, AttributeError):\n",
    "            self._persons = []"
   ]
  },
  {
   "cell_type": "code",
   "execution_count": 110,
   "metadata": {
    "cell_id": "00104-ac6f1b8a-b4f4-4d93-9d82-2514442a98c6",
    "execution_millis": 5,
    "execution_start": 1604737106782,
    "output_cleared": false,
    "source_hash": "b6c4ed2d",
    "tags": []
   },
   "outputs": [],
   "source": [
    "persons = [Person('michaeL', 'paLin'), Person('eric', 'idLe'), \n",
    "           Person('john', 'cLeese')]"
   ]
  },
  {
   "cell_type": "code",
   "execution_count": 111,
   "metadata": {
    "cell_id": "00105-9085968c-7d13-4c03-9eb7-41aaefc97d49",
    "execution_millis": 1,
    "execution_start": 1604737107496,
    "output_cleared": false,
    "source_hash": "78f47f07",
    "tags": []
   },
   "outputs": [],
   "source": [
    "person_names = PersonNames(persons)"
   ]
  },
  {
   "cell_type": "code",
   "execution_count": 112,
   "metadata": {
    "cell_id": "00106-9f5d92e3-c653-47e4-a47a-2d5ad1aca0f9",
    "execution_millis": 3,
    "execution_start": 1604737114422,
    "output_cleared": false,
    "source_hash": "c6ee655b",
    "tags": []
   },
   "outputs": [
    {
     "data": {
      "text/plain": [
       "['Michael Palin', 'Eric Idle', 'John Cleese']"
      ]
     },
     "execution_count": 112,
     "metadata": {},
     "output_type": "execute_result"
    }
   ],
   "source": [
    "person_names._persons"
   ]
  },
  {
   "cell_type": "code",
   "execution_count": 113,
   "metadata": {
    "cell_id": "00107-9e4c3feb-27f4-4646-b165-907f04116c3b",
    "execution_millis": 40,
    "execution_start": 1604737174255,
    "output_cleared": false,
    "source_hash": "73bcbee3",
    "tags": []
   },
   "outputs": [],
   "source": [
    "class PersonNames:\n",
    "    def __init__(self, persons):\n",
    "        try:\n",
    "            self._persons = [person.first.capitalize()\n",
    "                             + ' ' + person.last.capitalize()\n",
    "                            for person in persons]\n",
    "        except TypeError:\n",
    "            self._persons = []\n",
    "    \n",
    "    def __iter__(self):\n",
    "        return iter(self._persons)"
   ]
  },
  {
   "cell_type": "code",
   "execution_count": 114,
   "metadata": {
    "cell_id": "00108-587560bd-a4e7-413f-a441-b280da99fdb0",
    "execution_millis": 3,
    "execution_start": 1604737180843,
    "output_cleared": false,
    "source_hash": "1aa58e0d",
    "tags": []
   },
   "outputs": [],
   "source": [
    "persons = [Person('michaeL', 'paLin'), Person('eric', 'idLe'), \n",
    "           Person('john', 'cLeese')]\n",
    "person_names = PersonNames(persons)"
   ]
  },
  {
   "cell_type": "code",
   "execution_count": 115,
   "metadata": {
    "cell_id": "00109-c3d49e03-51f1-4349-a640-9bb1ef3a7293",
    "execution_millis": 3,
    "execution_start": 1604737186286,
    "output_cleared": false,
    "source_hash": "356ad25b",
    "tags": []
   },
   "outputs": [
    {
     "name": "stdout",
     "output_type": "stream",
     "text": [
      "Michael Palin\n",
      "Eric Idle\n",
      "John Cleese\n"
     ]
    }
   ],
   "source": [
    "for p in person_names:\n",
    "    print(p)"
   ]
  },
  {
   "cell_type": "code",
   "execution_count": 117,
   "metadata": {
    "cell_id": "00110-6303f4f2-6fbe-4baf-8e20-3d3840af10c5",
    "execution_millis": 5,
    "execution_start": 1604737220837,
    "output_cleared": false,
    "source_hash": "bbd8a3d0",
    "tags": []
   },
   "outputs": [
    {
     "data": {
      "text/plain": [
       "['Eric Idle', 'John Cleese', 'Michael Palin']"
      ]
     },
     "execution_count": 117,
     "metadata": {},
     "output_type": "execute_result"
    }
   ],
   "source": [
    "sorted(person_names)"
   ]
  },
  {
   "cell_type": "code",
   "execution_count": 118,
   "metadata": {
    "cell_id": "00111-46b830e4-cb45-45a0-9818-b8f9b3bced39",
    "execution_millis": 4,
    "execution_start": 1604737234408,
    "output_cleared": false,
    "source_hash": "ded75dbb",
    "tags": []
   },
   "outputs": [
    {
     "data": {
      "text/plain": [
       "[('Eric', 'Idle'), ('John', 'Cleese'), ('Michael', 'Palin')]"
      ]
     },
     "execution_count": 118,
     "metadata": {},
     "output_type": "execute_result"
    }
   ],
   "source": [
    "[tuple(person_name.split()) for person_name in sorted(person_names)]"
   ]
  },
  {
   "cell_type": "code",
   "execution_count": 120,
   "metadata": {
    "cell_id": "00112-f99177bf-dd7e-490e-9744-5ce624582399",
    "execution_millis": 0,
    "execution_start": 1604737265105,
    "output_cleared": false,
    "source_hash": "db89c8c1",
    "tags": []
   },
   "outputs": [
    {
     "ename": "TypeError",
     "evalue": "'PersonNames' object is not reversible",
     "output_type": "error",
     "traceback": [
      "\u001b[0;31m---------------------------------------------------------------------------\u001b[0m",
      "\u001b[0;31mTypeError\u001b[0m                                 Traceback (most recent call last)",
      "\u001b[0;32m<ipython-input-120-68ead7c4f80e>\u001b[0m in \u001b[0;36m<module>\u001b[0;34m\u001b[0m\n\u001b[0;32m----> 1\u001b[0;31m \u001b[0mreversed\u001b[0m\u001b[0;34m(\u001b[0m\u001b[0mperson_names\u001b[0m\u001b[0;34m)\u001b[0m\u001b[0;34m\u001b[0m\u001b[0;34m\u001b[0m\u001b[0m\n\u001b[0m",
      "\u001b[0;31mTypeError\u001b[0m: 'PersonNames' object is not reversible"
     ]
    }
   ],
   "source": [
    "reversed(person_names)"
   ]
  },
  {
   "cell_type": "code",
   "execution_count": 121,
   "metadata": {
    "cell_id": "00113-7a2ca054-6cd5-4289-9ce6-c3aa69116f45",
    "execution_millis": 3,
    "execution_start": 1604737373855,
    "output_cleared": false,
    "source_hash": "7ad4a9ed",
    "tags": []
   },
   "outputs": [],
   "source": [
    "_SUITS = ('Spades', 'Hearts', 'Diamonds', 'Clubs')\n",
    "_RANKS = tuple(range(2, 11) ) + tuple('JQKA')\n",
    "\n",
    "from collections import namedtuple\n",
    "\n",
    "Card = namedtuple('Card', 'rank suit')\n",
    "\n",
    "\n",
    "class CardDeck:\n",
    "    def __init__(self):\n",
    "        self.length = len(_SUITS) * len(_RANKS)\n",
    "\n",
    "    def __len__(self):\n",
    "        return self.length\n",
    "    \n",
    "    def __iter__(self):\n",
    "        return self.CardDeckIterator(self.length)\n",
    "\n",
    "    class CardDeckIterator:\n",
    "        def __init__(self, length):\n",
    "            self.length = length\n",
    "            self.i = 0\n",
    "            \n",
    "        def __iter__(self):\n",
    "            return self\n",
    "        \n",
    "        def __next__(self):\n",
    "            if self.i >= self.length:\n",
    "                raise StopIteration\n",
    "            else:\n",
    "                suit = _SUITS[self.i // len(_RANKS)]\n",
    "                rank = _RANKS[self.i % len(_RANKS)]\n",
    "                self.i += 1\n",
    "                return Card(rank, suit)\n"
   ]
  },
  {
   "cell_type": "code",
   "execution_count": 122,
   "metadata": {
    "cell_id": "00114-86cd39b7-3bd6-4763-8605-2c3acb876282",
    "execution_millis": 3,
    "execution_start": 1604737380279,
    "output_cleared": false,
    "source_hash": "b538d52b",
    "tags": []
   },
   "outputs": [],
   "source": [
    "deck = CardDeck()"
   ]
  },
  {
   "cell_type": "code",
   "execution_count": 123,
   "metadata": {
    "cell_id": "00115-ecd3c5bc-20d6-40e9-a7eb-e70c91d7057f",
    "execution_millis": 8,
    "execution_start": 1604737408154,
    "output_cleared": false,
    "source_hash": "ebb3d7ca",
    "tags": []
   },
   "outputs": [
    {
     "name": "stdout",
     "output_type": "stream",
     "text": [
      "Card(rank=2, suit='Spades')\n",
      "Card(rank=3, suit='Spades')\n",
      "Card(rank=4, suit='Spades')\n",
      "Card(rank=5, suit='Spades')\n",
      "Card(rank=6, suit='Spades')\n",
      "Card(rank=7, suit='Spades')\n",
      "Card(rank=8, suit='Spades')\n",
      "Card(rank=9, suit='Spades')\n",
      "Card(rank=10, suit='Spades')\n",
      "Card(rank='J', suit='Spades')\n",
      "Card(rank='Q', suit='Spades')\n",
      "Card(rank='K', suit='Spades')\n",
      "Card(rank='A', suit='Spades')\n",
      "Card(rank=2, suit='Hearts')\n",
      "Card(rank=3, suit='Hearts')\n",
      "Card(rank=4, suit='Hearts')\n",
      "Card(rank=5, suit='Hearts')\n",
      "Card(rank=6, suit='Hearts')\n",
      "Card(rank=7, suit='Hearts')\n",
      "Card(rank=8, suit='Hearts')\n",
      "Card(rank=9, suit='Hearts')\n",
      "Card(rank=10, suit='Hearts')\n",
      "Card(rank='J', suit='Hearts')\n",
      "Card(rank='Q', suit='Hearts')\n",
      "Card(rank='K', suit='Hearts')\n",
      "Card(rank='A', suit='Hearts')\n",
      "Card(rank=2, suit='Diamonds')\n",
      "Card(rank=3, suit='Diamonds')\n",
      "Card(rank=4, suit='Diamonds')\n",
      "Card(rank=5, suit='Diamonds')\n",
      "Card(rank=6, suit='Diamonds')\n",
      "Card(rank=7, suit='Diamonds')\n",
      "Card(rank=8, suit='Diamonds')\n",
      "Card(rank=9, suit='Diamonds')\n",
      "Card(rank=10, suit='Diamonds')\n",
      "Card(rank='J', suit='Diamonds')\n",
      "Card(rank='Q', suit='Diamonds')\n",
      "Card(rank='K', suit='Diamonds')\n",
      "Card(rank='A', suit='Diamonds')\n",
      "Card(rank=2, suit='Clubs')\n",
      "Card(rank=3, suit='Clubs')\n",
      "Card(rank=4, suit='Clubs')\n",
      "Card(rank=5, suit='Clubs')\n",
      "Card(rank=6, suit='Clubs')\n",
      "Card(rank=7, suit='Clubs')\n",
      "Card(rank=8, suit='Clubs')\n",
      "Card(rank=9, suit='Clubs')\n",
      "Card(rank=10, suit='Clubs')\n",
      "Card(rank='J', suit='Clubs')\n",
      "Card(rank='Q', suit='Clubs')\n",
      "Card(rank='K', suit='Clubs')\n",
      "Card(rank='A', suit='Clubs')\n"
     ]
    }
   ],
   "source": [
    "for card in deck:\n",
    "    print(card)"
   ]
  },
  {
   "cell_type": "code",
   "execution_count": 124,
   "metadata": {
    "cell_id": "00116-564e3931-d40b-4b46-8ab5-b644e325e59a",
    "execution_millis": 1,
    "execution_start": 1604737425798,
    "output_cleared": false,
    "source_hash": "9fa82f2d",
    "tags": []
   },
   "outputs": [],
   "source": [
    "deck = list(CardDeck())"
   ]
  },
  {
   "cell_type": "code",
   "execution_count": 125,
   "metadata": {
    "cell_id": "00117-ecaefcea-e276-40f5-8187-66792afbfa6d",
    "execution_millis": 5,
    "execution_start": 1604737432973,
    "output_cleared": false,
    "source_hash": "19475387",
    "tags": []
   },
   "outputs": [
    {
     "data": {
      "text/plain": [
       "[Card(rank='A', suit='Clubs'),\n",
       " Card(rank='K', suit='Clubs'),\n",
       " Card(rank='Q', suit='Clubs'),\n",
       " Card(rank='J', suit='Clubs'),\n",
       " Card(rank=10, suit='Clubs'),\n",
       " Card(rank=9, suit='Clubs'),\n",
       " Card(rank=8, suit='Clubs')]"
      ]
     },
     "execution_count": 125,
     "metadata": {},
     "output_type": "execute_result"
    }
   ],
   "source": [
    "deck[:-8:-1]"
   ]
  },
  {
   "cell_type": "code",
   "execution_count": 126,
   "metadata": {
    "cell_id": "00118-175cc554-95a7-4b83-8358-2cf962518499",
    "execution_millis": 4,
    "execution_start": 1604737452747,
    "output_cleared": false,
    "source_hash": "74c10b58",
    "tags": []
   },
   "outputs": [
    {
     "name": "stdout",
     "output_type": "stream",
     "text": [
      "Card(rank='A', suit='Clubs')\n",
      "Card(rank='K', suit='Clubs')\n",
      "Card(rank='Q', suit='Clubs')\n",
      "Card(rank='J', suit='Clubs')\n",
      "Card(rank=10, suit='Clubs')\n",
      "Card(rank=9, suit='Clubs')\n",
      "Card(rank=8, suit='Clubs')\n",
      "Card(rank=7, suit='Clubs')\n",
      "Card(rank=6, suit='Clubs')\n",
      "Card(rank=5, suit='Clubs')\n",
      "Card(rank=4, suit='Clubs')\n",
      "Card(rank=3, suit='Clubs')\n",
      "Card(rank=2, suit='Clubs')\n",
      "Card(rank='A', suit='Diamonds')\n",
      "Card(rank='K', suit='Diamonds')\n",
      "Card(rank='Q', suit='Diamonds')\n",
      "Card(rank='J', suit='Diamonds')\n",
      "Card(rank=10, suit='Diamonds')\n",
      "Card(rank=9, suit='Diamonds')\n",
      "Card(rank=8, suit='Diamonds')\n",
      "Card(rank=7, suit='Diamonds')\n",
      "Card(rank=6, suit='Diamonds')\n",
      "Card(rank=5, suit='Diamonds')\n",
      "Card(rank=4, suit='Diamonds')\n",
      "Card(rank=3, suit='Diamonds')\n",
      "Card(rank=2, suit='Diamonds')\n",
      "Card(rank='A', suit='Hearts')\n",
      "Card(rank='K', suit='Hearts')\n",
      "Card(rank='Q', suit='Hearts')\n",
      "Card(rank='J', suit='Hearts')\n",
      "Card(rank=10, suit='Hearts')\n",
      "Card(rank=9, suit='Hearts')\n",
      "Card(rank=8, suit='Hearts')\n",
      "Card(rank=7, suit='Hearts')\n",
      "Card(rank=6, suit='Hearts')\n",
      "Card(rank=5, suit='Hearts')\n",
      "Card(rank=4, suit='Hearts')\n",
      "Card(rank=3, suit='Hearts')\n",
      "Card(rank=2, suit='Hearts')\n",
      "Card(rank='A', suit='Spades')\n",
      "Card(rank='K', suit='Spades')\n",
      "Card(rank='Q', suit='Spades')\n",
      "Card(rank='J', suit='Spades')\n",
      "Card(rank=10, suit='Spades')\n",
      "Card(rank=9, suit='Spades')\n",
      "Card(rank=8, suit='Spades')\n",
      "Card(rank=7, suit='Spades')\n",
      "Card(rank=6, suit='Spades')\n",
      "Card(rank=5, suit='Spades')\n",
      "Card(rank=4, suit='Spades')\n",
      "Card(rank=3, suit='Spades')\n",
      "Card(rank=2, suit='Spades')\n"
     ]
    }
   ],
   "source": [
    "deck = list(CardDeck())\n",
    "deck = deck[::-1]\n",
    "for card in deck:\n",
    "    print(card)"
   ]
  },
  {
   "cell_type": "code",
   "execution_count": 127,
   "metadata": {
    "cell_id": "00119-b7d8a731-ba3a-4ebe-b045-a9d447e38aa4",
    "execution_millis": 0,
    "execution_start": 1604737466711,
    "output_cleared": false,
    "source_hash": "84d1c08b",
    "tags": []
   },
   "outputs": [
    {
     "ename": "TypeError",
     "evalue": "'CardDeck' object is not reversible",
     "output_type": "error",
     "traceback": [
      "\u001b[0;31m---------------------------------------------------------------------------\u001b[0m",
      "\u001b[0;31mTypeError\u001b[0m                                 Traceback (most recent call last)",
      "\u001b[0;32m<ipython-input-127-486cffefcdf4>\u001b[0m in \u001b[0;36m<module>\u001b[0;34m\u001b[0m\n\u001b[1;32m      1\u001b[0m \u001b[0mdeck\u001b[0m \u001b[0;34m=\u001b[0m \u001b[0mCardDeck\u001b[0m\u001b[0;34m(\u001b[0m\u001b[0;34m)\u001b[0m\u001b[0;34m\u001b[0m\u001b[0;34m\u001b[0m\u001b[0m\n\u001b[0;32m----> 2\u001b[0;31m \u001b[0mdeck\u001b[0m \u001b[0;34m=\u001b[0m \u001b[0mreversed\u001b[0m\u001b[0;34m(\u001b[0m\u001b[0mdeck\u001b[0m\u001b[0;34m)\u001b[0m\u001b[0;34m\u001b[0m\u001b[0;34m\u001b[0m\u001b[0m\n\u001b[0m",
      "\u001b[0;31mTypeError\u001b[0m: 'CardDeck' object is not reversible"
     ]
    }
   ],
   "source": [
    "deck = CardDeck()\n",
    "deck = reversed(deck)\n"
   ]
  },
  {
   "cell_type": "code",
   "execution_count": 128,
   "metadata": {
    "cell_id": "00120-e21d9e25-e3f9-4e97-a581-be1702d3e9ed",
    "execution_millis": 1,
    "execution_start": 1604737518497,
    "output_cleared": false,
    "source_hash": "6f8d245f",
    "tags": []
   },
   "outputs": [],
   "source": [
    "_SUITS = ('Spades', 'Hearts', 'Diamonds', 'Clubs')\n",
    "_RANKS = tuple(range(2, 11) ) + ('J', 'Q', 'K', 'A')\n",
    "from collections import namedtuple\n",
    "\n",
    "Card = namedtuple('Card', 'rank suit')\n",
    "\n",
    "class CardDeck:\n",
    "    def __init__(self):\n",
    "        self.length = len(_SUITS) * len(_RANKS)\n",
    "\n",
    "    def __len__(self):\n",
    "        return self.length\n",
    "    \n",
    "    def __iter__(self):\n",
    "        return self.CardDeckIterator(self.length)\n",
    "        \n",
    "    def __reversed__(self):\n",
    "        return self.CardDeckIterator(self.length, reverse=True)\n",
    "    \n",
    "    class CardDeckIterator:\n",
    "        def __init__(self, length, *, reverse=False):\n",
    "            self.length = length\n",
    "            self.reverse = reverse\n",
    "            self.i = 0\n",
    "            \n",
    "        def __iter__(self):\n",
    "            return self\n",
    "        \n",
    "        def __next__(self):\n",
    "            if self.i >= self.length:\n",
    "                raise StopIteration\n",
    "            else:\n",
    "                if self.reverse:\n",
    "                    index = self.length -1 - self.i\n",
    "                else:\n",
    "                    index = self.i\n",
    "                suit = _SUITS[index // len(_RANKS)]\n",
    "                rank = _RANKS[index % len(_RANKS)]\n",
    "                self.i += 1\n",
    "                return Card(rank, suit)\n",
    "            \n"
   ]
  },
  {
   "cell_type": "code",
   "execution_count": 129,
   "metadata": {
    "cell_id": "00121-3d17aa4f-4fea-4fc5-bb6c-93a41b0ffedf",
    "execution_millis": 1,
    "execution_start": 1604737524076,
    "output_cleared": false,
    "source_hash": "b538d52b",
    "tags": []
   },
   "outputs": [],
   "source": [
    "deck = CardDeck()"
   ]
  },
  {
   "cell_type": "code",
   "execution_count": 130,
   "metadata": {
    "cell_id": "00122-57c5a429-751f-46eb-b8b5-ae022f6dc775",
    "execution_millis": 11,
    "execution_start": 1604737526882,
    "output_cleared": false,
    "source_hash": "ebb3d7ca",
    "tags": []
   },
   "outputs": [
    {
     "name": "stdout",
     "output_type": "stream",
     "text": [
      "Card(rank=2, suit='Spades')\n",
      "Card(rank=3, suit='Spades')\n",
      "Card(rank=4, suit='Spades')\n",
      "Card(rank=5, suit='Spades')\n",
      "Card(rank=6, suit='Spades')\n",
      "Card(rank=7, suit='Spades')\n",
      "Card(rank=8, suit='Spades')\n",
      "Card(rank=9, suit='Spades')\n",
      "Card(rank=10, suit='Spades')\n",
      "Card(rank='J', suit='Spades')\n",
      "Card(rank='Q', suit='Spades')\n",
      "Card(rank='K', suit='Spades')\n",
      "Card(rank='A', suit='Spades')\n",
      "Card(rank=2, suit='Hearts')\n",
      "Card(rank=3, suit='Hearts')\n",
      "Card(rank=4, suit='Hearts')\n",
      "Card(rank=5, suit='Hearts')\n",
      "Card(rank=6, suit='Hearts')\n",
      "Card(rank=7, suit='Hearts')\n",
      "Card(rank=8, suit='Hearts')\n",
      "Card(rank=9, suit='Hearts')\n",
      "Card(rank=10, suit='Hearts')\n",
      "Card(rank='J', suit='Hearts')\n",
      "Card(rank='Q', suit='Hearts')\n",
      "Card(rank='K', suit='Hearts')\n",
      "Card(rank='A', suit='Hearts')\n",
      "Card(rank=2, suit='Diamonds')\n",
      "Card(rank=3, suit='Diamonds')\n",
      "Card(rank=4, suit='Diamonds')\n",
      "Card(rank=5, suit='Diamonds')\n",
      "Card(rank=6, suit='Diamonds')\n",
      "Card(rank=7, suit='Diamonds')\n",
      "Card(rank=8, suit='Diamonds')\n",
      "Card(rank=9, suit='Diamonds')\n",
      "Card(rank=10, suit='Diamonds')\n",
      "Card(rank='J', suit='Diamonds')\n",
      "Card(rank='Q', suit='Diamonds')\n",
      "Card(rank='K', suit='Diamonds')\n",
      "Card(rank='A', suit='Diamonds')\n",
      "Card(rank=2, suit='Clubs')\n",
      "Card(rank=3, suit='Clubs')\n",
      "Card(rank=4, suit='Clubs')\n",
      "Card(rank=5, suit='Clubs')\n",
      "Card(rank=6, suit='Clubs')\n",
      "Card(rank=7, suit='Clubs')\n",
      "Card(rank=8, suit='Clubs')\n",
      "Card(rank=9, suit='Clubs')\n",
      "Card(rank=10, suit='Clubs')\n",
      "Card(rank='J', suit='Clubs')\n",
      "Card(rank='Q', suit='Clubs')\n",
      "Card(rank='K', suit='Clubs')\n",
      "Card(rank='A', suit='Clubs')\n"
     ]
    }
   ],
   "source": [
    "for card in deck:\n",
    "    print(card)"
   ]
  },
  {
   "cell_type": "code",
   "execution_count": 131,
   "metadata": {
    "cell_id": "00123-4a36d2ca-3097-4383-8d4a-6aaba1868108",
    "execution_millis": 16,
    "execution_start": 1604737531211,
    "output_cleared": false,
    "source_hash": "c8b75358",
    "tags": []
   },
   "outputs": [
    {
     "name": "stdout",
     "output_type": "stream",
     "text": [
      "Card(rank='A', suit='Clubs')\n",
      "Card(rank='K', suit='Clubs')\n",
      "Card(rank='Q', suit='Clubs')\n",
      "Card(rank='J', suit='Clubs')\n",
      "Card(rank=10, suit='Clubs')\n",
      "Card(rank=9, suit='Clubs')\n",
      "Card(rank=8, suit='Clubs')\n",
      "Card(rank=7, suit='Clubs')\n",
      "Card(rank=6, suit='Clubs')\n",
      "Card(rank=5, suit='Clubs')\n",
      "Card(rank=4, suit='Clubs')\n",
      "Card(rank=3, suit='Clubs')\n",
      "Card(rank=2, suit='Clubs')\n",
      "Card(rank='A', suit='Diamonds')\n",
      "Card(rank='K', suit='Diamonds')\n",
      "Card(rank='Q', suit='Diamonds')\n",
      "Card(rank='J', suit='Diamonds')\n",
      "Card(rank=10, suit='Diamonds')\n",
      "Card(rank=9, suit='Diamonds')\n",
      "Card(rank=8, suit='Diamonds')\n",
      "Card(rank=7, suit='Diamonds')\n",
      "Card(rank=6, suit='Diamonds')\n",
      "Card(rank=5, suit='Diamonds')\n",
      "Card(rank=4, suit='Diamonds')\n",
      "Card(rank=3, suit='Diamonds')\n",
      "Card(rank=2, suit='Diamonds')\n",
      "Card(rank='A', suit='Hearts')\n",
      "Card(rank='K', suit='Hearts')\n",
      "Card(rank='Q', suit='Hearts')\n",
      "Card(rank='J', suit='Hearts')\n",
      "Card(rank=10, suit='Hearts')\n",
      "Card(rank=9, suit='Hearts')\n",
      "Card(rank=8, suit='Hearts')\n",
      "Card(rank=7, suit='Hearts')\n",
      "Card(rank=6, suit='Hearts')\n",
      "Card(rank=5, suit='Hearts')\n",
      "Card(rank=4, suit='Hearts')\n",
      "Card(rank=3, suit='Hearts')\n",
      "Card(rank=2, suit='Hearts')\n",
      "Card(rank='A', suit='Spades')\n",
      "Card(rank='K', suit='Spades')\n",
      "Card(rank='Q', suit='Spades')\n",
      "Card(rank='J', suit='Spades')\n",
      "Card(rank=10, suit='Spades')\n",
      "Card(rank=9, suit='Spades')\n",
      "Card(rank=8, suit='Spades')\n",
      "Card(rank=7, suit='Spades')\n",
      "Card(rank=6, suit='Spades')\n",
      "Card(rank=5, suit='Spades')\n",
      "Card(rank=4, suit='Spades')\n",
      "Card(rank=3, suit='Spades')\n",
      "Card(rank=2, suit='Spades')\n"
     ]
    }
   ],
   "source": [
    "deck = reversed(CardDeck())\n",
    "for card in deck:\n",
    "    print(card)"
   ]
  },
  {
   "cell_type": "code",
   "execution_count": 132,
   "metadata": {
    "cell_id": "00124-b924b703-a26b-4a0e-b5a1-928070e55fa6",
    "execution_millis": 1,
    "execution_start": 1604737542207,
    "output_cleared": false,
    "source_hash": "7f9f1a82",
    "tags": []
   },
   "outputs": [],
   "source": [
    "class Squares:\n",
    "    def __init__(self, length):\n",
    "        self.squares = [i **2 for i in range(length)]\n",
    "        \n",
    "    def __len__(self):\n",
    "        return len(self.squares)\n",
    "    \n",
    "    def __getitem__(self, s):\n",
    "        return self.squares[s]"
   ]
  },
  {
   "cell_type": "code",
   "execution_count": 133,
   "metadata": {
    "cell_id": "00125-9e434399-78c1-4fe3-afdc-4a6c97490450",
    "execution_millis": 3,
    "execution_start": 1604737546345,
    "output_cleared": false,
    "source_hash": "73b59fc4",
    "tags": []
   },
   "outputs": [],
   "source": [
    "sq = Squares(10)"
   ]
  },
  {
   "cell_type": "code",
   "execution_count": 134,
   "metadata": {
    "cell_id": "00126-dde975be-bb19-4a9b-b735-6317b6a0f689",
    "execution_millis": 3,
    "execution_start": 1604737550210,
    "output_cleared": false,
    "source_hash": "5651add3",
    "tags": []
   },
   "outputs": [
    {
     "name": "stdout",
     "output_type": "stream",
     "text": [
      "0\n",
      "1\n",
      "4\n",
      "9\n",
      "16\n"
     ]
    }
   ],
   "source": [
    "for num in Squares(5):\n",
    "    print(num)"
   ]
  },
  {
   "cell_type": "code",
   "execution_count": 135,
   "metadata": {
    "cell_id": "00127-05706608-7322-4d45-86cd-89f49bf96fbc",
    "execution_millis": 1,
    "execution_start": 1604737554969,
    "output_cleared": false,
    "source_hash": "918721b6",
    "tags": []
   },
   "outputs": [
    {
     "name": "stdout",
     "output_type": "stream",
     "text": [
      "16\n",
      "9\n",
      "4\n",
      "1\n",
      "0\n"
     ]
    }
   ],
   "source": [
    "for num in reversed(Squares(5)):\n",
    "    print(num)"
   ]
  },
  {
   "cell_type": "code",
   "execution_count": 136,
   "metadata": {
    "cell_id": "00128-a246a0f2-1132-465f-9cda-59421cad0120",
    "execution_millis": 1,
    "execution_start": 1604737589362,
    "output_cleared": false,
    "source_hash": "119ef507",
    "tags": []
   },
   "outputs": [
    {
     "ename": "TypeError",
     "evalue": "object of type 'Squares' has no len()",
     "output_type": "error",
     "traceback": [
      "\u001b[0;31m---------------------------------------------------------------------------\u001b[0m",
      "\u001b[0;31mTypeError\u001b[0m                                 Traceback (most recent call last)",
      "\u001b[0;32m<ipython-input-136-784ad2210461>\u001b[0m in \u001b[0;36m<module>\u001b[0;34m\u001b[0m\n\u001b[1;32m      9\u001b[0m         \u001b[0;32mreturn\u001b[0m \u001b[0mself\u001b[0m\u001b[0;34m.\u001b[0m\u001b[0msquares\u001b[0m\u001b[0;34m[\u001b[0m\u001b[0ms\u001b[0m\u001b[0;34m]\u001b[0m\u001b[0;34m\u001b[0m\u001b[0;34m\u001b[0m\u001b[0m\n\u001b[1;32m     10\u001b[0m \u001b[0;34m\u001b[0m\u001b[0m\n\u001b[0;32m---> 11\u001b[0;31m \u001b[0;32mfor\u001b[0m \u001b[0mnum\u001b[0m \u001b[0;32min\u001b[0m \u001b[0mreversed\u001b[0m\u001b[0;34m(\u001b[0m\u001b[0mSquares\u001b[0m\u001b[0;34m(\u001b[0m\u001b[0;36m5\u001b[0m\u001b[0;34m)\u001b[0m\u001b[0;34m)\u001b[0m\u001b[0;34m:\u001b[0m\u001b[0;34m\u001b[0m\u001b[0;34m\u001b[0m\u001b[0m\n\u001b[0m\u001b[1;32m     12\u001b[0m     \u001b[0mprint\u001b[0m\u001b[0;34m(\u001b[0m\u001b[0mnum\u001b[0m\u001b[0;34m)\u001b[0m\u001b[0;34m\u001b[0m\u001b[0;34m\u001b[0m\u001b[0m\n",
      "\u001b[0;31mTypeError\u001b[0m: object of type 'Squares' has no len()"
     ]
    }
   ],
   "source": [
    "class Squares:\n",
    "    def __init__(self, length):\n",
    "        self.squares = [i **2 for i in range(length)]\n",
    "        \n",
    "    # def __len__(self):\n",
    "    #     return len(self.squares)\n",
    "    \n",
    "    def __getitem__(self, s):\n",
    "        return self.squares[s]\n",
    "\n",
    "for num in reversed(Squares(5)):\n",
    "    print(num)"
   ]
  },
  {
   "cell_type": "code",
   "execution_count": 137,
   "metadata": {
    "cell_id": "00129-cae125dc-d1ba-4c72-a92b-21b39f2a8e9c",
    "execution_millis": 2,
    "execution_start": 1604737605231,
    "output_cleared": false,
    "source_hash": "bac04c15",
    "tags": []
   },
   "outputs": [],
   "source": [
    "class Squares:\n",
    "    def __init__(self, length):\n",
    "        self.length = length\n",
    "        self.squares = [i **2 for i in range(length)]\n",
    "        \n",
    "    def __len__(self):\n",
    "        return len(self.squares)\n",
    "    \n",
    "    def __getitem__(self, s):\n",
    "        return self.squares[s]\n",
    "    \n",
    "    def __reversed__(self):\n",
    "        print('__reversed__ called')\n",
    "        return [i for i in range(self.length-1, -1, -1)]"
   ]
  },
  {
   "cell_type": "code",
   "execution_count": 138,
   "metadata": {
    "cell_id": "00130-a14e5e4b-22bf-46f0-8556-f119be17ee92",
    "execution_millis": 37,
    "execution_start": 1604737616206,
    "output_cleared": false,
    "source_hash": "5651add3",
    "tags": []
   },
   "outputs": [
    {
     "name": "stdout",
     "output_type": "stream",
     "text": [
      "0\n",
      "1\n",
      "4\n",
      "9\n",
      "16\n"
     ]
    }
   ],
   "source": [
    "for num in Squares(5):\n",
    "    print(num)"
   ]
  },
  {
   "cell_type": "code",
   "execution_count": 139,
   "metadata": {
    "cell_id": "00131-8868a52b-48a7-4cf1-a5f1-b86e1b3436ca",
    "execution_millis": 41,
    "execution_start": 1604737633939,
    "output_cleared": false,
    "source_hash": "918721b6",
    "tags": []
   },
   "outputs": [
    {
     "name": "stdout",
     "output_type": "stream",
     "text": [
      "__reversed__ called\n",
      "4\n",
      "3\n",
      "2\n",
      "1\n",
      "0\n"
     ]
    }
   ],
   "source": [
    "for num in reversed(Squares(5)):\n",
    "    print(num)"
   ]
  },
  {
   "cell_type": "markdown",
   "metadata": {
    "cell_id": "00132-be7e0a2e-8746-4a2c-bba7-1b6fb65f0041",
    "tags": []
   },
   "source": [
    "### Assignment: Description"
   ]
  },
  {
   "cell_type": "markdown",
   "metadata": {
    "cell_id": "00133-ac624a6e-4804-432c-b268-0c13293ac779",
    "tags": []
   },
   "source": [
    "The starting point for this project is the `Polygon` class and the `Polygons` sequence type we created in the previous project.\n",
    "\n",
    "The code for these classes along with the unit tests for the `Polygon` class are below if you want to use those as your starting point. But use whatever you came up with in the last project."
   ]
  },
  {
   "cell_type": "markdown",
   "metadata": {
    "cell_id": "00134-edd8a5ef-300a-44fe-a17c-3bf2002d4d4c",
    "tags": []
   },
   "source": [
    "We have two goals:"
   ]
  },
  {
   "cell_type": "markdown",
   "metadata": {
    "cell_id": "00135-3c1deb1b-01b0-45b5-b45a-9e24848d4661",
    "tags": []
   },
   "source": [
    "##### Goal 1\n",
    "\n",
    "Refactor the `Polygon` class so that all the calculated properties are lazy properties, i.e. they should still be calculated properties, but they should not have to get recalculated more than once (since we made our `Polygon` class \"immutable\")."
   ]
  },
  {
   "cell_type": "markdown",
   "metadata": {
    "cell_id": "00136-fbfc85b3-161d-4129-b9ef-8d7c75977963",
    "tags": []
   },
   "source": [
    "##### Goal 2\n",
    "\n",
    "Refactor the `Polygons` (sequence) type, into an **iterable**. Make sure also that the elements in the iterator are computed lazily - i.e. you can no longer use a list as an underlying storage mechanism for your polygons.\n",
    "\n",
    "You'll need to implement both an iterable, and an iterator."
   ]
  },
  {
   "cell_type": "markdown",
   "metadata": {
    "cell_id": "00137-02f0eea4-0057-4888-859d-f47269b030ac",
    "tags": []
   },
   "source": [
    "##### Code from Previous Project"
   ]
  },
  {
   "cell_type": "code",
   "execution_count": 140,
   "metadata": {
    "cell_id": "00138-0ae02d09-3e0c-4763-a10a-6a7c174a8b9a",
    "execution_millis": 1,
    "execution_start": 1604737783027,
    "output_cleared": false,
    "source_hash": "15c2e2e4",
    "tags": []
   },
   "outputs": [],
   "source": [
    "import math\n",
    "\n",
    "class Polygon:\n",
    "    def __init__(self, n, R):\n",
    "        if n < 3:\n",
    "            raise ValueError('Polygon must have at least 3 vertices.')\n",
    "        self._n = n\n",
    "        self._R = R\n",
    "        \n",
    "    def __repr__(self):\n",
    "        return f'Polygon(n={self._n}, R={self._R})'\n",
    "    \n",
    "    @property\n",
    "    def count_vertices(self):\n",
    "        return self._n\n",
    "    \n",
    "    @property\n",
    "    def count_edges(self):\n",
    "        return self._n\n",
    "    \n",
    "    @property\n",
    "    def circumradius(self):\n",
    "        return self._R\n",
    "    \n",
    "    @property\n",
    "    def interior_angle(self):\n",
    "        return (self._n - 2) * 180 / self._n\n",
    "\n",
    "    @property\n",
    "    def side_length(self):\n",
    "        return 2 * self._R * math.sin(math.pi / self._n)\n",
    "    \n",
    "    @property\n",
    "    def apothem(self):\n",
    "        return self._R * math.cos(math.pi / self._n)\n",
    "    \n",
    "    @property\n",
    "    def area(self):\n",
    "        return self._n / 2 * self.side_length * self.apothem\n",
    "    \n",
    "    @property\n",
    "    def perimeter(self):\n",
    "        return self._n * self.side_length\n",
    "    \n",
    "    def __eq__(self, other):\n",
    "        if isinstance(other, self.__class__):\n",
    "            return (self.count_edges == other.count_edges \n",
    "                    and self.circumradius == other.circumradius)\n",
    "        else:\n",
    "            return NotImplemented\n",
    "        \n",
    "    def __gt__(self, other):\n",
    "        if isinstance(other, self.__class__):\n",
    "            return self.count_vertices > other.count_vertices\n",
    "        else:\n",
    "            return NotImplemented"
   ]
  },
  {
   "cell_type": "code",
   "execution_count": 141,
   "metadata": {
    "cell_id": "00139-41c6d9a2-9153-4996-9037-596981c7b89a",
    "execution_millis": 4,
    "execution_start": 1604737802727,
    "output_cleared": false,
    "source_hash": "320925eb",
    "tags": []
   },
   "outputs": [],
   "source": [
    "def test_polygon():\n",
    "    abs_tol = 0.001\n",
    "    rel_tol = 0.001\n",
    "    \n",
    "    try:\n",
    "        p = Polygon(2, 10)\n",
    "        assert False, ('Creating a Polygon with 2 sides: '\n",
    "                       ' Exception expected, not received')\n",
    "    except ValueError:\n",
    "        pass\n",
    "                       \n",
    "    n = 3\n",
    "    R = 1\n",
    "    p = Polygon(n, R)\n",
    "    assert str(p) == 'Polygon(n=3, R=1)', f'actual: {str(p)}'\n",
    "    assert p.count_vertices == n, (f'actual: {p.count_vertices},'\n",
    "                                   f' expected: {n}')\n",
    "    assert p.count_edges == n, f'actual: {p.count_edges}, expected: {n}'\n",
    "    assert p.circumradius == R, f'actual: {p.circumradius}, expected: {n}'\n",
    "    assert p.interior_angle == 60, (f'actual: {p.interior_angle},'\n",
    "                                    ' expected: 60')\n",
    "    n = 4\n",
    "    R = 1\n",
    "    p = Polygon(n, R)\n",
    "    assert p.interior_angle == 90, (f'actual: {p.interior_angle}, '\n",
    "                                    ' expected: 90')\n",
    "    assert math.isclose(p.area, 2, \n",
    "                        rel_tol=abs_tol, \n",
    "                        abs_tol=abs_tol), (f'actual: {p.area},'\n",
    "                                           ' expected: 2.0')\n",
    "    \n",
    "    assert math.isclose(p.side_length, math.sqrt(2),\n",
    "                       rel_tol=rel_tol,\n",
    "                       abs_tol=abs_tol), (f'actual: {p.side_length},'\n",
    "                                          f' expected: {math.sqrt(2)}')\n",
    "    \n",
    "    assert math.isclose(p.perimeter, 4 * math.sqrt(2),\n",
    "                       rel_tol=rel_tol,\n",
    "                       abs_tol=abs_tol), (f'actual: {p.perimeter},'\n",
    "                                          f' expected: {4 * math.sqrt(2)}')\n",
    "    \n",
    "    assert math.isclose(p.apothem, 0.707,\n",
    "                       rel_tol=rel_tol,\n",
    "                       abs_tol=abs_tol), (f'actual: {p.perimeter},'\n",
    "                                          ' expected: 0.707')\n",
    "    p = Polygon(6, 2)\n",
    "    assert math.isclose(p.side_length, 2,\n",
    "                        rel_tol=rel_tol, abs_tol=abs_tol)\n",
    "    assert math.isclose(p.apothem, 1.73205,\n",
    "                        rel_tol=rel_tol, abs_tol=abs_tol)\n",
    "    assert math.isclose(p.area, 10.3923,\n",
    "                        rel_tol=rel_tol, abs_tol=abs_tol)\n",
    "    assert math.isclose(p.perimeter, 12,\n",
    "                        rel_tol=rel_tol, abs_tol=abs_tol)\n",
    "    assert math.isclose(p.interior_angle, 120,\n",
    "                        rel_tol=rel_tol, abs_tol=abs_tol)\n",
    "    \n",
    "    p = Polygon(12, 3)\n",
    "    assert math.isclose(p.side_length, 1.55291,\n",
    "                        rel_tol=rel_tol, abs_tol=abs_tol)\n",
    "    assert math.isclose(p.apothem, 2.89778,\n",
    "                        rel_tol=rel_tol, abs_tol=abs_tol)\n",
    "    assert math.isclose(p.area, 27,\n",
    "                        rel_tol=rel_tol, abs_tol=abs_tol)\n",
    "    assert math.isclose(p.perimeter, 18.635,\n",
    "                        rel_tol=rel_tol, abs_tol=abs_tol)\n",
    "    assert math.isclose(p.interior_angle, 150,\n",
    "                        rel_tol=rel_tol, abs_tol=abs_tol)\n",
    "    \n",
    "    p1 = Polygon(3, 10)\n",
    "    p2 = Polygon(10, 10)\n",
    "    p3 = Polygon(15, 10)\n",
    "    p4 = Polygon(15, 100)\n",
    "    p5 = Polygon(15, 100)\n",
    "    \n",
    "    assert p2 > p1\n",
    "    assert p2 < p3\n",
    "    assert p3 != p4\n",
    "    assert p1 != p4\n",
    "    assert p4 == p5"
   ]
  },
  {
   "cell_type": "code",
   "execution_count": 142,
   "metadata": {
    "cell_id": "00140-891b6cf3-86c9-4486-bc13-494f7ddbb453",
    "execution_millis": 3,
    "execution_start": 1604737813350,
    "output_cleared": false,
    "source_hash": "33c2db32",
    "tags": []
   },
   "outputs": [],
   "source": [
    "class Polygons:\n",
    "    def __init__(self, m, R):\n",
    "        if m < 3:\n",
    "            raise ValueError('m must be greater than 3')\n",
    "        self._m = m\n",
    "        self._R = R\n",
    "        self._polygons = [Polygon(i, R) for i in range(3, m+1)]\n",
    "        \n",
    "    def __len__(self):\n",
    "        return self._m - 2\n",
    "    \n",
    "    def __repr__(self):\n",
    "        return f'Polygons(m={self._m}, R={self._R})'\n",
    "    \n",
    "    def __getitem__(self, s):\n",
    "        return self._polygons[s]\n",
    "    \n",
    "    @property\n",
    "    def max_efficiency_polygon(self):\n",
    "        sorted_polygons = sorted(self._polygons, \n",
    "                                 key=lambda p: p.area/p.perimeter,\n",
    "                                reverse=True)\n",
    "        return sorted_polygons[0]"
   ]
  },
  {
   "cell_type": "code",
   "execution_count": null,
   "metadata": {
    "cell_id": "00141-beb861c0-8e36-41d6-9f48-68342838e1c8",
    "tags": []
   },
   "outputs": [],
   "source": []
  }
 ],
 "metadata": {
  "deepnote_execution_queue": [],
  "deepnote_notebook_id": "345ff5ad-fbf7-46ab-b28e-2e5dcd78768b",
  "kernelspec": {
   "display_name": "Python 3",
   "language": "python",
   "name": "python3"
  },
  "language_info": {
   "codemirror_mode": {
    "name": "ipython",
    "version": 3
   },
   "file_extension": ".py",
   "mimetype": "text/x-python",
   "name": "python",
   "nbconvert_exporter": "python",
   "pygments_lexer": "ipython3",
   "version": "3.6.10"
  }
 },
 "nbformat": 4,
 "nbformat_minor": 2
}
