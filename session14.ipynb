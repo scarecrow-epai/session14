{
 "cells": [
  {
   "cell_type": "markdown",
   "metadata": {},
   "source": [
    "# Session 14"
   ]
  },
  {
   "cell_type": "code",
   "execution_count": 1,
   "metadata": {},
   "outputs": [],
   "source": [
    "from polygon import Polygon\n",
    "from polygon_seq import PolygonSeq"
   ]
  },
  {
   "cell_type": "markdown",
   "metadata": {},
   "source": [
    "## [Obj 1] Polygon"
   ]
  },
  {
   "cell_type": "code",
   "execution_count": 2,
   "metadata": {},
   "outputs": [
    {
     "name": "stdout",
     "output_type": "stream",
     "text": [
      "Polygon(vertices=3, radius=5)\n",
      "Polygon(vertices=4, radius=5)\n"
     ]
    }
   ],
   "source": [
    "p1 = Polygon(3, 5)\n",
    "p2 = Polygon(4, 5)\n",
    "\n",
    "print(p1)\n",
    "print(p2)"
   ]
  },
  {
   "cell_type": "code",
   "execution_count": 3,
   "metadata": {},
   "outputs": [
    {
     "name": "stdout",
     "output_type": "stream",
     "text": [
      "False\n",
      "False\n"
     ]
    }
   ],
   "source": [
    "print(p1 == p2)\n",
    "print(p1 > p2)"
   ]
  },
  {
   "cell_type": "code",
   "execution_count": 4,
   "metadata": {},
   "outputs": [
    {
     "name": "stdout",
     "output_type": "stream",
     "text": [
      "num_vertices = 3\n",
      "circum_radius = 5\n",
      "interior_angle = 60.0\n",
      "edge_length = 8.660254037844386\n",
      "apothem = 2.5000000000000004\n",
      "area = 32.47595264191645\n",
      "perimeter = 25.980762113533157\n"
     ]
    }
   ],
   "source": [
    "print(f\"num_vertices = {p1.num_vertices}\")\n",
    "print(f\"circum_radius = {p1.circum_radius}\")\n",
    "print(f\"interior_angle = {p1.interior_angle}\")\n",
    "print(f\"edge_length = {p1.edge_length}\")\n",
    "print(f\"apothem = {p1.apothem}\")\n",
    "print(f\"area = {p1.area}\")\n",
    "print(f\"perimeter = {p1.perimeter}\")"
   ]
  },
  {
   "cell_type": "markdown",
   "metadata": {},
   "source": [
    "## [Obj 2] Polygon Sequence"
   ]
  },
  {
   "cell_type": "code",
   "execution_count": 5,
   "metadata": {},
   "outputs": [
    {
     "name": "stdout",
     "output_type": "stream",
     "text": [
      "PolygonSeq(vertices: (1, 25),radius=20)\n",
      "[Polygon(3, 20), Polygon(4, 20), Polygon(5, 20), Polygon(6, 20), Polygon(7, 20), Polygon(8, 20), Polygon(9, 20), Polygon(10, 20), Polygon(11, 20), Polygon(12, 20), Polygon(13, 20), Polygon(14, 20), Polygon(15, 20), Polygon(16, 20), Polygon(17, 20), Polygon(18, 20), Polygon(19, 20), Polygon(20, 20), Polygon(21, 20), Polygon(22, 20), Polygon(23, 20), Polygon(24, 20), Polygon(25, 20)]\n"
     ]
    }
   ],
   "source": [
    "ps = PolygonSeq(vertices=25, radius=20)\n",
    "print(ps)\n",
    "print(list(ps))"
   ]
  },
  {
   "cell_type": "code",
   "execution_count": 6,
   "metadata": {},
   "outputs": [
    {
     "name": "stdout",
     "output_type": "stream",
     "text": [
      "Polygon(vertices=4, radius=20)\n",
      "Polygon(vertices=5, radius=20)\n"
     ]
    }
   ],
   "source": [
    "print(ps[1])\n",
    "print(ps[2])"
   ]
  },
  {
   "cell_type": "code",
   "execution_count": 7,
   "metadata": {},
   "outputs": [
    {
     "name": "stdout",
     "output_type": "stream",
     "text": [
      "Max efficiency = (9.921147013144779, Polygon(25, 20))\n"
     ]
    }
   ],
   "source": [
    "print(f\"Max efficiency = {ps.get_maxeff_poly()}\")"
   ]
  },
  {
   "cell_type": "code",
   "execution_count": 8,
   "metadata": {},
   "outputs": [
    {
     "name": "stdout",
     "output_type": "stream",
     "text": [
      "[Polygon(3, 20), Polygon(4, 20), Polygon(5, 20), Polygon(6, 20), Polygon(7, 20), Polygon(8, 20), Polygon(9, 20), Polygon(10, 20), Polygon(11, 20), Polygon(12, 20), Polygon(13, 20), Polygon(14, 20), Polygon(15, 20), Polygon(16, 20), Polygon(17, 20), Polygon(18, 20), Polygon(19, 20), Polygon(20, 20), Polygon(21, 20), Polygon(22, 20), Polygon(23, 20), Polygon(24, 20), Polygon(25, 20)]\n"
     ]
    }
   ],
   "source": [
    "print([i for i in iter(ps)])"
   ]
  }
 ],
 "metadata": {
  "kernelspec": {
   "display_name": "Python 3",
   "language": "python",
   "name": "python3"
  },
  "language_info": {
   "codemirror_mode": {
    "name": "ipython",
    "version": 3
   },
   "file_extension": ".py",
   "mimetype": "text/x-python",
   "name": "python",
   "nbconvert_exporter": "python",
   "pygments_lexer": "ipython3",
   "version": "3.6.10"
  }
 },
 "nbformat": 4,
 "nbformat_minor": 4
}
